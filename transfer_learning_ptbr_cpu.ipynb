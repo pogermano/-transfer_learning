{
 "cells": [
  {
   "cell_type": "markdown",
   "id": "40d60d9b",
   "metadata": {},
   "source": [
    "# introducao_br — Transfer Learning (PT-BR)\n",
    "\n",
    "Este notebook demonstra **Transfer Learning / Fine-Tuning** com Keras/TensorFlow usando um **modelo pré-treinado** (ex.: `VGG16`) como extrator de características e, opcionalmente, ajustando as últimas camadas (*fine-tuning*).\n",
    "\n",
    "## O que você vai ver aqui\n",
    "- **Carregamento de dados** (imagens e rótulos) e pré-processamento no formato esperado pelo modelo pré-treinado.\n",
    "- **Feature extraction**: congelamos o backbone (ex.: `VGG16`) e treinamos **apenas a cabeça** (camada(s) final(is)).\n",
    "- **Fine-tuning (opcional)**: descongelamos **poucas camadas finais** e treinamos com **taxa de aprendizado menor**.\n",
    "- **Métricas**: `accuracy`, `val_accuracy`, `loss`, `val_loss` a cada época.\n",
    "\n",
    "## Como interpretar os logs\n",
    "- `accuracy`/`loss`: desempenho no **treino**.\n",
    "- `val_accuracy`/`val_loss`: desempenho na **validação** (o mais importante para generalização).\n",
    "- Se `loss` ↓ e `val_loss` ↓ → ótimo. Se `loss` ↓ e `val_loss` ↑ de forma consistente → **overfitting**.\n",
    "\n",
    "## Dicas práticas\n",
    "- Comece com **feature extraction** (backbone congelado).\n",
    "- No *fine-tuning*, **libere poucas camadas finais** e **reduza** a *learning rate*.\n",
    "- Em **CPU**, prefira `batch_size` menor (8–32) e imagens 160–224 px.\n",
    "\n",
    "> **Observação**: todo o conteúdo **original** do notebook foi **preservado**.  \n",
    "> Abaixo foram adicionadas **apenas duas alterações** para melhorar a execução em **CPU**, marcadas com **`[ALTERAÇÃO CPU]`**.\n"
   ]
  },
  {
   "cell_type": "code",
   "execution_count": null,
   "id": "cf4302fe",
   "metadata": {},
   "outputs": [],
   "source": [
    "# [ALTERAÇÃO CPU] Forçar uso de CPU e backend do Keras\n",
    "import os\n",
    "os.environ[\"KERAS_BACKEND\"] = \"tensorflow\"  # Keras 3 -> usar TensorFlow como backend\n",
    "\n",
    "import tensorflow as tf\n",
    "try:\n",
    "    # Oculta GPUs (inclui DirectML, se houver) para rodar de forma estável na CPU\n",
    "    tf.config.set_visible_devices([], 'GPU')\n",
    "    print(\"CPU forçada: GPUs ocultas com sucesso.\")\n",
    "except Exception as e:\n",
    "    print(\"Aviso: não foi possível ocultar GPU (ok se não houver GPU):\", e)\n",
    "\n",
    "print(\"TF:\", tf.__version__)\n",
    "print(\"Dispositivos visíveis:\", tf.config.list_physical_devices())\n"
   ]
  },
  {
   "cell_type": "code",
   "execution_count": null,
   "id": "d873f0b7",
   "metadata": {},
   "outputs": [],
   "source": [
    "# [ALTERAÇÃO CPU] Otimização leve de I/O: aplicar prefetch se os datasets já existirem\n",
    "try:\n",
    "    AUTOTUNE = tf.data.AUTOTUNE\n",
    "    for name in [\"train_ds\", \"train_dataset\", \"ds_train\"]:\n",
    "        if name in globals():\n",
    "            globals()[name] = globals()[name].prefetch(AUTOTUNE)\n",
    "    for name in [\"val_ds\", \"validation_ds\", \"ds_val\", \"test_ds\", \"ds_test\"]:\n",
    "        if name in globals():\n",
    "            globals()[name] = globals()[name].prefetch(AUTOTUNE)\n",
    "    print(\"Prefetch ativado quando datasets foram encontrados.\")\n",
    "except Exception as e:\n",
    "    print(\"Prefetch não aplicado (ok):\", e)\n"
   ]
  },
  {
   "cell_type": "markdown",
   "metadata": {
    "id": "92mQ2gMlYoZl"
   },
   "source": [
    "# Transfer learning / fine-tuning\n",
    "\n",
    "This tutorial will guide you through the process of using _transfer learning_ to learn an accurate image classifier from a relatively small number of training samples. Generally speaking, transfer learning refers to the process of leveraging the knowledge learned in one model for the training of another model.\n",
    "\n",
    "More specifically, the process involves taking an existing neural network which was previously trained to good performance on a larger dataset, and using it as the basis for a new model which leverages that previous network's accuracy for a new task. This method has become popular in recent years to improve the performance of a neural net trained on a small dataset; the intuition is that the new dataset may be too small to train to good performance by itself, but we know that most neural nets trained to learn image features often learn similar features anyway, especially at early layers where they are more generic (edge detectors, blobs, and so on).\n",
    "\n",
    "Transfer learning has been largely enabled by the open-sourcing of state-of-the-art models; for the top performing models in image classification tasks (like from [ILSVRC](http://www.image-net.org/challenges/LSVRC/)), it is common practice now to not only publish the architecture, but to release the trained weights of the model as well. This lets amateurs use these top image classifiers to boost the performance of their own task-specific models.\n",
    "\n",
    "#### Feature extraction vs. fine-tuning\n",
    "\n",
    "At one extreme, transfer learning can involve taking the pre-trained network and freezing the weights, and using one of its hidden layers (usually the last one) as a feature extractor, using those features as the input to a smaller neural net.\n",
    "\n",
    "At the other extreme, we start with the pre-trained network, but we allow some of the weights (usually the last layer or last few layers) to be modified. Another name for this procedure is called \"fine-tuning\" because we are slightly adjusting the pre-trained net's weights to the new task. We usually train such a network with a lower learning rate, since we expect the features are already relatively good and do not need to be changed too much.\n",
    "\n",
    "Sometimes, we do something in-between: Freeze just the early/generic layers, but fine-tune the later layers. Which strategy is best depends on the size of your dataset, the number of classes, and how much it resembles the dataset the previous model was trained on (and thus, whether it can benefit from the same learned feature extractors). A more detailed discussion of how to strategize can be found in [[1]](http://cs231n.github.io/transfer-learning/) [[2]](http://sebastianruder.com/transfer-learning/).\n",
    "\n",
    "## Procedure\n",
    "\n",
    "In this guide will go through the process of loading a state-of-the-art, 1000-class image classifier, [VGG16](https://arxiv.org/pdf/1409.1556.pdf) which [won the ImageNet challenge in 2014](http://www.robots.ox.ac.uk/~vgg/research/very_deep/), and using it as a fixed feature extractor to train a smaller custom classifier on our own images, although with very few code changes, you can try fine-tuning as well.\n",
    "\n",
    "We will first load VGG16 and remove its final layer, the 1000-class softmax classification layer specific to ImageNet, and replace it with a new classification layer for the classes we are training over. We will then freeze all the weights in the network except the new ones connecting to the new classification layer, and then train the new classification layer over our new dataset.\n",
    "\n",
    "We will also compare this method to training a small neural network from scratch on the new dataset, and as we shall see, it will dramatically improve our accuracy. We will do that part first.\n",
    "\n",
    "As our test subject, we'll use a dataset consisting of around 6000 images belonging to 97 classes, and train an image classifier with around 80% accuracy on it. It's worth noting that this strategy scales well to image sets where you may have even just a couple hundred or less images. Its performance will be lesser from a small number of samples (depending on classes) as usual, but still impressive considering the usual constraints.\n"
   ]
  },
  {
   "cell_type": "code",
   "execution_count": 1,
   "metadata": {},
   "outputs": [
    {
     "name": "stdout",
     "output_type": "stream",
     "text": [
      "C:\\Users\\poger\\.conda\\envs\\AI\\python.exe 1.26.4\n"
     ]
    }
   ],
   "source": [
    "import sys, numpy\n",
    "print(sys.executable, numpy.__version__)\n"
   ]
  },
  {
   "cell_type": "code",
   "execution_count": null,
   "metadata": {
    "colab": {
     "base_uri": "https://localhost:8080/"
    },
    "id": "3IAeFsS1hXCd",
    "outputId": "01dd3127-0890-4239-8bd0-35a6798a3b22"
   },
   "outputs": [],
   "source": [
    "#from google.colab import drive\n",
    "#drive.mount('/content/drive')"
   ]
  },
  {
   "cell_type": "code",
   "execution_count": 2,
   "metadata": {},
   "outputs": [
    {
     "name": "stdout",
     "output_type": "stream",
     "text": [
      "Python exe: C:\\Users\\poger\\.conda\\envs\\AI\\python.exe\n",
      "sys.version: 3.12.3 | packaged by conda-forge | (main, Apr 15 2024, 18:20:11) [MSC v.1938 64 bit (AMD64)]\n",
      "sys.prefix: C:\\Users\\poger\\.conda\\envs\\AI\n",
      "Platform: Windows-10-10.0.19045-SP0\n"
     ]
    }
   ],
   "source": [
    "import sys, platform, os\n",
    "print(\"Python exe:\", sys.executable)\n",
    "print(\"sys.version:\", sys.version)\n",
    "print(\"sys.prefix:\", sys.prefix)\n",
    "print(\"Platform:\", platform.platform())\n"
   ]
  },
  {
   "cell_type": "code",
   "execution_count": 3,
   "metadata": {},
   "outputs": [
    {
     "name": "stdout",
     "output_type": "stream",
     "text": [
      "Name: keras\n",
      "Version: 3.11.2\n",
      "Summary: Multi-backend Keras\n",
      "Home-page: \n",
      "Author: \n",
      "Author-email: Keras team <keras-users@googlegroups.com>\n",
      "License: Apache License 2.0\n",
      "Location: C:\\Users\\poger\\.conda\\envs\\AI\\Lib\\site-packages\n",
      "Requires: absl-py, h5py, ml-dtypes, namex, numpy, optree, packaging, rich\n",
      "Required-by: tensorflow, tensorflow_cpu\n",
      "---\n",
      "Name: tensorflow\n",
      "Version: 2.20.0\n",
      "Summary: TensorFlow is an open source machine learning framework for everyone.\n",
      "Home-page: https://www.tensorflow.org/\n",
      "Author: Google Inc.\n",
      "Author-email: packages@tensorflow.org\n",
      "License: Apache 2.0\n",
      "Location: C:\\Users\\poger\\.conda\\envs\\AI\\Lib\\site-packages\n",
      "Requires: absl-py, astunparse, flatbuffers, gast, google_pasta, grpcio, h5py, keras, libclang, ml_dtypes, numpy, opt_einsum, packaging, protobuf, requests, setuptools, six, tensorboard, termcolor, typing_extensions, wrapt\n",
      "Required-by: \n",
      "Note: you may need to restart the kernel to use updated packages.\n"
     ]
    }
   ],
   "source": [
    "# o que já está instalado neste kernel?\n",
    "%pip show keras tensorflow\n",
    "\n"
   ]
  },
  {
   "cell_type": "code",
   "execution_count": 5,
   "metadata": {
    "id": "3p-OjhDPYoZm"
   },
   "outputs": [],
   "source": [
    "%matplotlib inline\n",
    "\n",
    "import os\n",
    "\n",
    "#if using Theano with GPU\n",
    "#os.environ[\"KERAS_BACKEND\"] = \"tensorflow\"\n",
    "\n",
    "import random\n",
    "import numpy as np\n",
    "import keras\n",
    "\n",
    "import matplotlib.pyplot as plt\n",
    "from matplotlib.pyplot import imshow\n",
    "\n",
    "from keras.preprocessing import image\n",
    "from keras.applications.imagenet_utils import preprocess_input\n",
    "from keras.models import Sequential\n",
    "from keras.layers import Dense, Dropout, Flatten, Activation\n",
    "from keras.layers import Conv2D, MaxPooling2D\n",
    "from keras.models import Model"
   ]
  },
  {
   "cell_type": "markdown",
   "metadata": {
    "id": "VWWN-FPLYoZs"
   },
   "source": [
    "### Getting a dataset\n",
    "\n",
    "The first step is going to be to load our data. As our example, we will be using the dataset [CalTech-101](http://www.vision.caltech.edu/Image_Datasets/Caltech101/), which contains around 9000 labeled images belonging to 101 object categories. However, we will exclude 5 of the categories which have the most images. This is in order to keep the class distribution fairly balanced (around 50-100) and constrained to a smaller number of images, around 6000.\n",
    "\n",
    "To obtain this dataset, you can either run the download script `download.sh` in the `data` folder, or the following commands:\n",
    "\n",
    "    wget http://www.vision.caltech.edu/Image_Datasets/Caltech101/101_ObjectCategories.tar.gz\n",
    "    tar -xvzf 101_ObjectCategories.tar.gz\n",
    "\n",
    "If you wish to use your own dataset, it should be aranged in the same fashion to `101_ObjectCategories` with all of the images organized into subfolders, one for each class. In this case, the following cell should load your custom dataset correctly by just replacing `root` with your folder. If you have an alternate structure, you just need to make sure that you load the list `data` where every element is a dict where `x` is the data (a 1-d numpy array) and `y` is the label (an integer). Use the helper function `get_image(path)` to load the image correctly into the array, and note also that the images are being resized to 224x224. This is necessary because the input to VGG16 is a 224x224 RGB image. You do not need to resize them on your hard drive, as that is being done in the code below.\n",
    "\n",
    "If you have `101_ObjectCategories` in your data folder, the following cell should load all the data."
   ]
  },
  {
   "cell_type": "code",
   "execution_count": 6,
   "metadata": {
    "colab": {
     "base_uri": "https://localhost:8080/"
    },
    "id": "XklKIrnaZb3f",
    "outputId": "ea677a2b-49ce-4d15-f197-b6bbd78b9420"
   },
   "outputs": [
    {
     "name": "stderr",
     "output_type": "stream",
     "text": [
      "\n",
      "[notice] A new release of pip is available: 24.3.1 -> 25.2\n",
      "[notice] To update, run: python.exe -m pip install --upgrade pip\n"
     ]
    },
    {
     "name": "stdout",
     "output_type": "stream",
     "text": [
      "\"Downloading 101_Object_Categories for image notebooks\"\n"
     ]
    },
    {
     "name": "stderr",
     "output_type": "stream",
     "text": [
      "C:\\Users\\poger\\.conda\\envs\\AI\\Lib\\site-packages\\gdown\\__main__.py:140: FutureWarning: Option `--id` was deprecated in version 4.3.1 and will be removed in 5.0. You don't need to pass it anymore to use a file ID.\n",
      "  warnings.warn(\n",
      "Downloading...\n",
      "From (original): https://drive.google.com/uc?id=1bCJaQE-rVER2JwbaYwwjzNO_AuXDikbQ\n",
      "From (redirected): https://drive.google.com/uc?id=1bCJaQE-rVER2JwbaYwwjzNO_AuXDikbQ&confirm=t&uuid=b3e1e03a-523b-49dd-b8f4-e1caa723bedc\n",
      "To: C:\\Users\\poger\\101_ObjectCategories.tar.gz\n",
      "\n",
      "  0%|          | 0.00/132M [00:00<?, ?B/s]\n",
      "  0%|          | 524k/132M [00:01<05:31, 396kB/s]\n",
      "  1%|          | 1.05M/132M [00:02<05:47, 376kB/s]\n",
      "  1%|1         | 1.57M/132M [00:03<05:10, 419kB/s]\n",
      "  2%|1         | 2.10M/132M [00:04<04:31, 477kB/s]\n",
      "  2%|1         | 2.62M/132M [00:05<04:24, 488kB/s]\n",
      "  2%|2         | 3.15M/132M [00:07<05:18, 404kB/s]\n",
      "  3%|2         | 3.67M/132M [00:07<04:09, 514kB/s]\n",
      "  3%|3         | 4.19M/132M [00:10<06:41, 317kB/s]\n",
      "  4%|3         | 4.72M/132M [00:14<09:18, 228kB/s]\n",
      "  4%|3         | 5.24M/132M [00:16<08:10, 258kB/s]\n",
      "  4%|4         | 5.77M/132M [00:19<09:13, 227kB/s]\n",
      "  5%|4         | 6.29M/132M [00:19<07:22, 283kB/s]\n",
      "  5%|5         | 6.82M/132M [00:20<05:44, 363kB/s]\n",
      "  6%|5         | 7.34M/132M [00:21<05:17, 392kB/s]\n",
      "  6%|5         | 7.86M/132M [00:22<05:16, 391kB/s]\n",
      "  6%|6         | 8.39M/132M [00:24<05:25, 379kB/s]\n",
      "  7%|6         | 8.91M/132M [00:28<09:06, 225kB/s]\n",
      "  7%|7         | 9.44M/132M [00:32<10:23, 196kB/s]\n",
      "  8%|7         | 9.96M/132M [00:33<08:49, 230kB/s]\n",
      "  8%|7         | 10.5M/132M [00:35<07:56, 254kB/s]\n",
      "  8%|8         | 11.0M/132M [00:36<07:38, 264kB/s]\n",
      "  9%|8         | 11.5M/132M [00:38<07:10, 279kB/s]\n",
      "  9%|9         | 12.1M/132M [00:39<06:03, 329kB/s]\n",
      " 10%|9         | 12.6M/132M [00:40<05:17, 375kB/s]\n",
      " 10%|9         | 13.1M/132M [00:42<05:38, 350kB/s]\n",
      " 10%|#         | 13.6M/132M [00:45<07:30, 262kB/s]\n",
      " 11%|#         | 14.2M/132M [00:48<08:44, 224kB/s]\n",
      " 11%|#1        | 14.7M/132M [00:52<10:55, 178kB/s]\n",
      " 12%|#1        | 15.2M/132M [00:54<08:53, 218kB/s]\n",
      " 12%|#1        | 15.7M/132M [00:56<09:12, 210kB/s]\n",
      " 12%|#2        | 16.3M/132M [01:00<10:30, 183kB/s]\n",
      " 13%|#2        | 16.8M/132M [01:01<08:12, 233kB/s]\n",
      " 13%|#3        | 17.3M/132M [01:06<11:00, 173kB/s]\n",
      " 14%|#3        | 17.8M/132M [01:16<18:46, 101kB/s]\n",
      " 14%|#3        | 18.4M/132M [01:20<18:01, 105kB/s]\n",
      " 14%|#4        | 18.9M/132M [01:23<15:19, 123kB/s]\n",
      " 15%|#4        | 19.4M/132M [01:31<19:43, 94.9kB/s]\n",
      " 15%|#5        | 19.9M/132M [01:39<21:33, 86.4kB/s]\n",
      " 16%|#5        | 20.4M/132M [01:44<21:03, 88.1kB/s]\n",
      " 16%|#5        | 21.0M/132M [01:47<17:24, 106kB/s] \n",
      " 16%|#6        | 21.5M/132M [01:48<13:38, 135kB/s]\n",
      " 17%|#6        | 22.0M/132M [01:52<13:22, 137kB/s]\n",
      " 17%|#7        | 22.5M/132M [02:00<17:02, 107kB/s]\n",
      " 18%|#7        | 23.1M/132M [02:04<16:51, 107kB/s]\n",
      " 18%|#7        | 23.6M/132M [02:10<17:57, 100kB/s]\n",
      " 18%|#8        | 24.1M/132M [02:25<27:23, 65.5kB/s]\n",
      " 19%|#8        | 24.6M/132M [02:37<31:12, 57.2kB/s]\n",
      " 19%|#9        | 25.2M/132M [02:42<26:33, 66.9kB/s]\n",
      " 20%|#9        | 25.7M/132M [02:52<28:49, 61.3kB/s]\n",
      " 20%|#9        | 26.2M/132M [03:01<28:55, 60.8kB/s]\n",
      " 20%|##        | 26.7M/132M [03:15<34:23, 50.9kB/s]\n",
      " 20%|##        | 26.7M/132M [03:30<34:23, 50.9kB/s]\n",
      " 21%|##        | 27.3M/132M [03:31<39:54, 43.6kB/s]\n",
      " 21%|##1       | 27.8M/132M [03:33<30:04, 57.6kB/s]\n",
      " 21%|##1       | 28.3M/132M [03:35<22:38, 76.1kB/s]\n",
      " 22%|##1       | 28.8M/132M [03:36<17:17, 99.2kB/s]\n",
      " 22%|##2       | 29.4M/132M [03:42<17:51, 95.5kB/s]\n",
      " 23%|##2       | 29.9M/132M [03:52<21:52, 77.6kB/s]\n",
      " 23%|##3       | 30.4M/132M [04:00<22:34, 74.8kB/s]\n",
      " 23%|##3       | 30.9M/132M [04:05<20:43, 81.1kB/s]\n",
      " 24%|##3       | 31.5M/132M [04:07<16:21, 102kB/s] \n",
      " 24%|##3       | 31.5M/132M [04:20<16:21, 102kB/s]\n",
      " 24%|##4       | 32.0M/132M [04:23<26:39, 62.4kB/s]\n",
      " 25%|##4       | 32.5M/132M [04:25<20:33, 80.5kB/s]\n",
      " 25%|##4       | 32.5M/132M [04:40<20:33, 80.5kB/s]\n",
      " 25%|##5       | 33.0M/132M [04:47<35:03, 46.9kB/s]\n",
      " 25%|##5       | 33.6M/132M [04:53<29:59, 54.6kB/s]\n",
      " 26%|##5       | 34.1M/132M [04:54<21:35, 75.4kB/s]\n",
      " 26%|##6       | 34.6M/132M [04:54<15:40, 103kB/s] \n",
      " 27%|##6       | 35.1M/132M [04:55<11:21, 142kB/s]\n",
      " 27%|##7       | 35.7M/132M [04:56<08:45, 183kB/s]\n",
      " 27%|##7       | 36.2M/132M [04:56<06:41, 238kB/s]\n",
      " 28%|##7       | 36.7M/132M [04:57<05:21, 296kB/s]\n",
      " 28%|##8       | 37.2M/132M [05:00<06:05, 258kB/s]\n",
      " 29%|##8       | 37.7M/132M [05:00<04:29, 348kB/s]\n",
      " 29%|##9       | 38.3M/132M [05:00<03:25, 455kB/s]\n",
      " 29%|##9       | 38.8M/132M [05:01<02:36, 595kB/s]\n",
      " 30%|##9       | 39.3M/132M [05:01<01:58, 779kB/s]\n",
      " 30%|###       | 39.8M/132M [05:01<01:32, 997kB/s]\n",
      " 31%|###       | 40.4M/132M [05:01<01:13, 1.24MB/s]\n",
      " 31%|###1      | 40.9M/132M [05:01<01:00, 1.51MB/s]\n",
      " 31%|###1      | 41.4M/132M [05:02<00:53, 1.68MB/s]\n",
      " 32%|###1      | 41.9M/132M [05:02<00:47, 1.88MB/s]\n",
      " 32%|###2      | 42.5M/132M [05:02<00:44, 2.01MB/s]\n",
      " 33%|###2      | 43.0M/132M [05:02<00:42, 2.10MB/s]\n",
      " 33%|###3      | 43.5M/132M [05:03<00:40, 2.20MB/s]\n",
      " 33%|###3      | 44.0M/132M [05:03<00:39, 2.22MB/s]\n",
      " 34%|###3      | 44.6M/132M [05:03<00:36, 2.39MB/s]\n",
      " 34%|###4      | 45.1M/132M [05:03<00:37, 2.29MB/s]\n",
      " 35%|###4      | 45.6M/132M [05:03<00:37, 2.31MB/s]\n",
      " 35%|###5      | 46.1M/132M [05:04<00:35, 2.44MB/s]\n",
      " 35%|###5      | 46.7M/132M [05:04<00:36, 2.32MB/s]\n",
      " 36%|###5      | 47.2M/132M [05:04<00:35, 2.38MB/s]\n",
      " 36%|###6      | 47.7M/132M [05:04<00:41, 2.01MB/s]\n",
      " 37%|###6      | 48.2M/132M [05:05<00:46, 1.80MB/s]\n",
      " 37%|###7      | 48.8M/132M [05:05<00:45, 1.81MB/s]\n",
      " 37%|###7      | 49.3M/132M [05:06<00:55, 1.49MB/s]\n",
      " 38%|###7      | 49.8M/132M [05:06<01:18, 1.05MB/s]\n",
      " 39%|###8      | 50.9M/132M [05:07<00:54, 1.49MB/s]\n",
      " 39%|###9      | 51.4M/132M [05:07<00:50, 1.58MB/s]\n",
      " 39%|###9      | 51.9M/132M [05:07<00:53, 1.50MB/s]\n",
      " 40%|###9      | 52.4M/132M [05:08<00:48, 1.65MB/s]\n",
      " 40%|####      | 53.0M/132M [05:08<00:48, 1.63MB/s]\n",
      " 41%|####      | 53.5M/132M [05:08<00:46, 1.67MB/s]\n",
      " 41%|####      | 54.0M/132M [05:09<00:48, 1.60MB/s]\n",
      " 41%|####1     | 54.5M/132M [05:09<00:45, 1.68MB/s]\n",
      " 42%|####1     | 55.1M/132M [05:09<00:42, 1.81MB/s]\n",
      " 42%|####2     | 55.6M/132M [05:09<00:41, 1.85MB/s]\n",
      " 43%|####2     | 56.1M/132M [05:10<00:42, 1.78MB/s]\n",
      " 43%|####2     | 56.6M/132M [05:10<00:43, 1.74MB/s]\n",
      " 43%|####3     | 57.1M/132M [05:10<00:40, 1.85MB/s]\n",
      " 44%|####3     | 57.7M/132M [05:11<00:42, 1.75MB/s]\n",
      " 44%|####4     | 58.2M/132M [05:11<00:42, 1.74MB/s]\n",
      " 45%|####4     | 58.7M/132M [05:11<00:39, 1.86MB/s]\n",
      " 45%|####4     | 59.2M/132M [05:12<00:40, 1.80MB/s]\n",
      " 45%|####5     | 59.8M/132M [05:12<00:40, 1.76MB/s]\n",
      " 46%|####5     | 60.3M/132M [05:12<00:35, 1.99MB/s]\n",
      " 46%|####6     | 60.8M/132M [05:12<00:41, 1.70MB/s]\n",
      " 47%|####6     | 61.3M/132M [05:13<00:35, 1.99MB/s]\n",
      " 47%|####6     | 61.9M/132M [05:13<00:35, 1.99MB/s]\n",
      " 47%|####7     | 62.4M/132M [05:13<00:36, 1.88MB/s]\n",
      " 48%|####7     | 62.9M/132M [05:13<00:36, 1.89MB/s]\n",
      " 48%|####8     | 63.4M/132M [05:14<00:32, 2.10MB/s]\n",
      " 49%|####8     | 64.0M/132M [05:14<00:32, 2.09MB/s]\n",
      " 49%|####8     | 64.5M/132M [05:14<00:31, 2.12MB/s]\n",
      " 49%|####9     | 65.0M/132M [05:14<00:31, 2.11MB/s]\n",
      " 50%|####9     | 65.5M/132M [05:15<00:35, 1.87MB/s]\n",
      " 50%|#####     | 66.1M/132M [05:15<00:33, 1.94MB/s]\n",
      " 51%|#####     | 66.6M/132M [05:15<00:32, 2.00MB/s]\n",
      " 51%|#####     | 67.1M/132M [05:15<00:31, 2.05MB/s]\n",
      " 51%|#####1    | 67.6M/132M [05:16<00:35, 1.81MB/s]\n",
      " 52%|#####1    | 68.2M/132M [05:16<00:31, 2.03MB/s]\n",
      " 52%|#####2    | 68.7M/132M [05:16<00:31, 2.00MB/s]\n",
      " 53%|#####2    | 69.2M/132M [05:17<00:30, 2.02MB/s]\n",
      " 53%|#####2    | 69.7M/132M [05:17<00:32, 1.88MB/s]\n",
      " 53%|#####3    | 70.3M/132M [05:17<00:33, 1.82MB/s]\n",
      " 54%|#####3    | 70.8M/132M [05:17<00:30, 2.01MB/s]\n",
      " 54%|#####4    | 71.3M/132M [05:18<00:30, 1.98MB/s]\n",
      " 55%|#####4    | 71.8M/132M [05:18<00:29, 2.05MB/s]\n",
      " 55%|#####4    | 72.4M/132M [05:18<00:30, 1.95MB/s]\n",
      " 55%|#####5    | 72.9M/132M [05:18<00:28, 2.05MB/s]\n",
      " 56%|#####5    | 73.4M/132M [05:19<00:27, 2.15MB/s]\n",
      " 56%|#####6    | 73.9M/132M [05:19<00:32, 1.76MB/s]\n",
      " 57%|#####6    | 74.4M/132M [05:19<00:30, 1.87MB/s]\n",
      " 57%|#####6    | 75.0M/132M [05:20<00:31, 1.79MB/s]\n",
      " 57%|#####7    | 75.5M/132M [05:20<00:32, 1.75MB/s]\n",
      " 58%|#####7    | 76.0M/132M [05:20<00:26, 2.11MB/s]\n",
      " 58%|#####8    | 76.5M/132M [05:20<00:28, 1.94MB/s]\n",
      " 59%|#####8    | 77.1M/132M [05:21<00:25, 2.13MB/s]\n",
      " 59%|#####8    | 77.6M/132M [05:21<00:23, 2.33MB/s]\n",
      " 59%|#####9    | 78.1M/132M [05:21<00:20, 2.56MB/s]\n",
      " 60%|#####9    | 78.6M/132M [05:21<00:19, 2.67MB/s]\n",
      " 60%|######    | 79.2M/132M [05:21<00:18, 2.78MB/s]\n",
      " 60%|######    | 79.7M/132M [05:21<00:18, 2.85MB/s]\n",
      " 61%|######    | 80.2M/132M [05:22<00:17, 2.96MB/s]\n",
      " 61%|######1   | 80.7M/132M [05:22<00:17, 2.87MB/s]\n",
      " 62%|######1   | 81.3M/132M [05:22<00:17, 2.87MB/s]\n",
      " 62%|######2   | 81.8M/132M [05:22<00:19, 2.61MB/s]\n",
      " 62%|######2   | 82.3M/132M [05:22<00:17, 2.76MB/s]\n",
      " 63%|######2   | 82.8M/132M [05:23<00:18, 2.59MB/s]\n",
      " 63%|######3   | 83.4M/132M [05:23<00:19, 2.52MB/s]\n",
      " 64%|######3   | 83.9M/132M [05:23<00:19, 2.41MB/s]\n",
      " 64%|######4   | 84.4M/132M [05:23<00:19, 2.40MB/s]\n",
      " 64%|######4   | 84.9M/132M [05:24<00:20, 2.25MB/s]\n",
      " 65%|######4   | 85.5M/132M [05:24<00:18, 2.45MB/s]\n",
      " 65%|######5   | 86.0M/132M [05:24<00:18, 2.49MB/s]\n",
      " 66%|######5   | 86.5M/132M [05:24<00:18, 2.44MB/s]\n",
      " 66%|######6   | 87.0M/132M [05:24<00:18, 2.46MB/s]\n",
      " 66%|######6   | 87.6M/132M [05:25<00:17, 2.51MB/s]\n",
      " 67%|######6   | 88.1M/132M [05:25<00:17, 2.45MB/s]\n",
      " 67%|######7   | 88.6M/132M [05:25<00:17, 2.45MB/s]\n",
      " 68%|######7   | 89.1M/132M [05:25<00:17, 2.48MB/s]\n",
      " 68%|######8   | 89.7M/132M [05:25<00:17, 2.36MB/s]\n",
      " 68%|######8   | 90.2M/132M [05:26<00:19, 2.12MB/s]\n",
      " 69%|######8   | 90.7M/132M [05:26<00:18, 2.17MB/s]\n",
      " 69%|######9   | 91.2M/132M [05:26<00:18, 2.22MB/s]\n",
      " 70%|######9   | 91.8M/132M [05:26<00:17, 2.29MB/s]\n",
      " 70%|#######   | 92.3M/132M [05:27<00:16, 2.34MB/s]\n",
      " 70%|#######   | 92.8M/132M [05:27<00:16, 2.41MB/s]\n",
      " 71%|#######   | 93.3M/132M [05:27<00:15, 2.41MB/s]\n",
      " 71%|#######1  | 93.8M/132M [05:27<00:16, 2.29MB/s]\n",
      " 72%|#######1  | 94.4M/132M [05:28<00:16, 2.30MB/s]\n",
      " 72%|#######2  | 94.9M/132M [05:28<00:16, 2.23MB/s]\n",
      " 72%|#######2  | 95.4M/132M [05:28<00:16, 2.20MB/s]\n",
      " 73%|#######2  | 95.9M/132M [05:28<00:15, 2.32MB/s]\n",
      " 73%|#######3  | 96.5M/132M [05:28<00:15, 2.27MB/s]\n",
      " 74%|#######3  | 97.0M/132M [05:29<00:15, 2.17MB/s]\n",
      " 74%|#######4  | 97.5M/132M [05:29<00:15, 2.16MB/s]\n",
      " 74%|#######4  | 98.0M/132M [05:29<00:15, 2.13MB/s]\n",
      " 75%|#######4  | 98.6M/132M [05:29<00:15, 2.13MB/s]\n",
      " 75%|#######5  | 99.1M/132M [05:30<00:14, 2.24MB/s]\n",
      " 76%|#######5  | 99.6M/132M [05:30<00:15, 2.08MB/s]\n",
      " 76%|#######6  | 100M/132M [05:30<00:15, 2.11MB/s] \n",
      " 76%|#######6  | 101M/132M [05:30<00:15, 2.06MB/s]\n",
      " 77%|#######6  | 101M/132M [05:31<00:15, 1.93MB/s]\n",
      " 77%|#######7  | 102M/132M [05:31<00:17, 1.69MB/s]\n",
      " 78%|#######7  | 102M/132M [05:31<00:17, 1.72MB/s]\n",
      " 78%|#######8  | 103M/132M [05:32<00:15, 1.89MB/s]\n",
      " 78%|#######8  | 103M/132M [05:32<00:13, 2.08MB/s]\n",
      " 79%|#######8  | 104M/132M [05:32<00:12, 2.25MB/s]\n",
      " 79%|#######9  | 104M/132M [05:32<00:12, 2.25MB/s]\n",
      " 80%|#######9  | 105M/132M [05:33<00:11, 2.33MB/s]\n",
      " 80%|#######9  | 105M/132M [05:33<00:11, 2.39MB/s]\n",
      " 80%|########  | 106M/132M [05:33<00:10, 2.41MB/s]\n",
      " 81%|########  | 106M/132M [05:33<00:10, 2.43MB/s]\n",
      " 81%|########1 | 107M/132M [05:33<00:10, 2.48MB/s]\n",
      " 82%|########1 | 107M/132M [05:34<00:09, 2.44MB/s]\n",
      " 82%|########1 | 108M/132M [05:34<00:09, 2.62MB/s]\n",
      " 82%|########2 | 109M/132M [05:34<00:08, 2.63MB/s]\n",
      " 83%|########2 | 109M/132M [05:34<00:08, 2.52MB/s]\n",
      " 83%|########3 | 110M/132M [05:34<00:09, 2.32MB/s]\n",
      " 84%|########3 | 110M/132M [05:35<00:09, 2.39MB/s]\n",
      " 84%|########3 | 111M/132M [05:35<00:08, 2.48MB/s]\n",
      " 84%|########4 | 111M/132M [05:35<00:08, 2.40MB/s]\n",
      " 85%|########4 | 112M/132M [05:35<00:09, 2.11MB/s]\n",
      " 85%|########5 | 112M/132M [05:36<00:09, 1.97MB/s]\n",
      " 86%|########5 | 113M/132M [05:36<00:09, 2.01MB/s]\n",
      " 86%|########5 | 113M/132M [05:36<00:09, 1.97MB/s]\n",
      " 86%|########6 | 114M/132M [05:37<00:09, 1.81MB/s]\n",
      " 87%|########6 | 114M/132M [05:37<00:09, 1.86MB/s]\n",
      " 87%|########7 | 115M/132M [05:37<00:08, 2.07MB/s]\n",
      " 88%|########7 | 115M/132M [05:37<00:07, 2.23MB/s]\n",
      " 88%|########7 | 116M/132M [05:37<00:07, 2.18MB/s]\n",
      " 88%|########8 | 116M/132M [05:38<00:06, 2.27MB/s]\n",
      " 89%|########8 | 117M/132M [05:38<00:06, 2.36MB/s]\n",
      " 89%|########9 | 117M/132M [05:38<00:06, 2.28MB/s]\n",
      " 90%|########9 | 118M/132M [05:38<00:05, 2.33MB/s]\n",
      " 90%|########9 | 118M/132M [05:39<00:05, 2.26MB/s]\n",
      " 90%|######### | 119M/132M [05:39<00:05, 2.22MB/s]\n",
      " 91%|######### | 120M/132M [05:39<00:05, 2.07MB/s]\n",
      " 91%|#########1| 120M/132M [05:39<00:06, 1.84MB/s]\n",
      " 92%|#########1| 121M/132M [05:40<00:06, 1.78MB/s]\n",
      " 92%|#########1| 121M/132M [05:40<00:06, 1.73MB/s]\n",
      " 92%|#########2| 122M/132M [05:40<00:05, 1.71MB/s]\n",
      " 93%|#########2| 122M/132M [05:41<00:06, 1.59MB/s]\n",
      " 93%|#########3| 123M/132M [05:41<00:05, 1.63MB/s]\n",
      " 94%|#########3| 123M/132M [05:42<00:06, 1.28MB/s]\n",
      " 94%|#########3| 124M/132M [05:43<00:08, 967kB/s] \n",
      " 94%|#########4| 124M/132M [05:43<00:07, 1.07MB/s]\n",
      " 95%|#########4| 125M/132M [05:43<00:05, 1.22MB/s]\n",
      " 95%|#########5| 125M/132M [05:44<00:04, 1.36MB/s]\n",
      " 96%|#########5| 126M/132M [05:44<00:03, 1.53MB/s]\n",
      " 96%|#########5| 126M/132M [05:44<00:03, 1.74MB/s]\n",
      " 96%|#########6| 127M/132M [05:44<00:02, 1.70MB/s]\n",
      " 97%|#########6| 127M/132M [05:44<00:02, 1.90MB/s]\n",
      " 97%|#########7| 128M/132M [05:45<00:01, 1.95MB/s]\n",
      " 98%|#########7| 128M/132M [05:45<00:01, 2.12MB/s]\n",
      " 98%|#########7| 129M/132M [05:45<00:01, 1.90MB/s]\n",
      " 98%|#########8| 129M/132M [05:46<00:01, 1.96MB/s]\n",
      " 99%|#########8| 130M/132M [05:46<00:00, 1.93MB/s]\n",
      " 99%|#########9| 131M/132M [05:46<00:00, 2.08MB/s]\n",
      " 99%|#########9| 131M/132M [05:46<00:00, 1.85MB/s]\n",
      "100%|#########9| 132M/132M [05:47<00:00, 1.94MB/s]\n",
      "100%|##########| 132M/132M [05:47<00:00, 379kB/s] \n"
     ]
    },
    {
     "name": "stdout",
     "output_type": "stream",
     "text": [
      "-1.14-windows.xml\n",
      "101_ObjectCategories\n",
      "1_lab1.ipynb\n",
      "3D Objects\n",
      "Ambiente de ImpressÃ£o\n",
      "Ambiente de Rede\n",
      "AppData\n",
      "Application Data\n",
      "CascadeProjects\n",
      "ConfiguraÃ§Ãµes Locais\n",
      "Contacts\n",
      "Cookies\n",
      "Dados de Aplicativos\n",
      "Desktop\n",
      "Documents\n",
      "Downloads\n",
      "Exercicios\n",
      "Favorites\n",
      "InstallAnywhere\n",
      "IntelGraphicsProfiles\n",
      "Links\n",
      "Menu Iniciar\n",
      "Meus Documentos\n",
      "Modelos\n",
      "Music\n",
      "NTUSER.DAT\n",
      "NTUSER.DAT{1a566ac0-8f5d-11f0-8a47-005056c00008}.TM.blf\n",
      "NTUSER.DAT{1a566ac0-8f5d-11f0-8a47-005056c00008}.TMContainer00000000000000000001.regtrans-ms\n",
      "NTUSER.DAT{1a566ac0-8f5d-11f0-8a47-005056c00008}.TMContainer00000000000000000002.regtrans-ms\n",
      "OneDrive\n",
      "Oracle\n",
      "Pictures\n",
      "Postman\n",
      "Postman Agent\n",
      "Recent\n",
      "Saved Games\n",
      "Searches\n",
      "SendTo\n",
      "Sti_Trace.log\n",
      "Untitled.ipynb\n",
      "Videos\n",
      "ai_completion\n",
      "anaconda_projects\n",
      "ansel\n",
      "cachedir_joblib\n",
      "chroma.log\n",
      "delete\n",
      "demo_find_face.py\n",
      "demo_find_green_blob.py\n",
      "dwhelper\n",
      "helloworld_1.py\n",
      "ipython_hist.sqlite\n",
      "json\n",
      "maxima\n",
      "migrations_202504181229.txt\n",
      "my_chroma_data\n",
      "ntuser.dat.LOG1\n",
      "ntuser.dat.LOG2\n",
      "ntuser.ini\n",
      "requirements.txt\n",
      "scoop\n",
      "source\n",
      "start\n",
      "teste.mp4\n",
      "teste2.mp4\n",
      "transfer_learning.ipynb\n"
     ]
    }
   ],
   "source": [
    "!pip -q install gdown\n",
    "\n",
    "# ID do arquivo no seu link: 1bCJaQE-rVER2JwbaYwwjzNO_AuXDikbQ\n",
    "!echo \"Downloading 101_Object_Categories for image notebooks\"\n",
    "!gdown --id 1bCJaQE-rVER2JwbaYwwjzNO_AuXDikbQ -O 101_ObjectCategories.tar.gz\n",
    "!tar -xzf 101_ObjectCategories.tar.gz\n",
    "!rm 101_ObjectCategories.tar.gz\n",
    "!ls\n"
   ]
  },
  {
   "cell_type": "code",
   "execution_count": 7,
   "metadata": {},
   "outputs": [
    {
     "name": "stdout",
     "output_type": "stream",
     "text": [
      "CWD: C:\\Users\\poger\n"
     ]
    }
   ],
   "source": [
    "import os\n",
    "print(\"CWD:\", os.getcwd())   # diretório atual\n"
   ]
  },
  {
   "cell_type": "code",
   "execution_count": 8,
   "metadata": {
    "colab": {
     "base_uri": "https://localhost:8080/"
    },
    "id": "8OGRcLNwYoZu",
    "outputId": "76d40389-12c6-409c-cd2e-a219a173053b"
   },
   "outputs": [
    {
     "name": "stdout",
     "output_type": "stream",
     "text": [
      "['101_ObjectCategories\\\\accordion', '101_ObjectCategories\\\\anchor', '101_ObjectCategories\\\\ant', '101_ObjectCategories\\\\barrel', '101_ObjectCategories\\\\bass', '101_ObjectCategories\\\\beaver', '101_ObjectCategories\\\\binocular', '101_ObjectCategories\\\\bonsai', '101_ObjectCategories\\\\brain', '101_ObjectCategories\\\\brontosaurus', '101_ObjectCategories\\\\buddha', '101_ObjectCategories\\\\butterfly', '101_ObjectCategories\\\\camera', '101_ObjectCategories\\\\cannon', '101_ObjectCategories\\\\car_side', '101_ObjectCategories\\\\ceiling_fan', '101_ObjectCategories\\\\cellphone', '101_ObjectCategories\\\\chair', '101_ObjectCategories\\\\chandelier', '101_ObjectCategories\\\\cougar_body', '101_ObjectCategories\\\\cougar_face', '101_ObjectCategories\\\\crab', '101_ObjectCategories\\\\crayfish', '101_ObjectCategories\\\\crocodile', '101_ObjectCategories\\\\crocodile_head', '101_ObjectCategories\\\\cup', '101_ObjectCategories\\\\dalmatian', '101_ObjectCategories\\\\dollar_bill', '101_ObjectCategories\\\\dolphin', '101_ObjectCategories\\\\dragonfly', '101_ObjectCategories\\\\electric_guitar', '101_ObjectCategories\\\\elephant', '101_ObjectCategories\\\\emu', '101_ObjectCategories\\\\euphonium', '101_ObjectCategories\\\\ewer', '101_ObjectCategories\\\\ferry', '101_ObjectCategories\\\\flamingo', '101_ObjectCategories\\\\flamingo_head', '101_ObjectCategories\\\\garfield', '101_ObjectCategories\\\\gerenuk', '101_ObjectCategories\\\\gramophone', '101_ObjectCategories\\\\grand_piano', '101_ObjectCategories\\\\hawksbill', '101_ObjectCategories\\\\headphone', '101_ObjectCategories\\\\hedgehog', '101_ObjectCategories\\\\helicopter', '101_ObjectCategories\\\\ibis', '101_ObjectCategories\\\\inline_skate', '101_ObjectCategories\\\\joshua_tree', '101_ObjectCategories\\\\kangaroo', '101_ObjectCategories\\\\ketch', '101_ObjectCategories\\\\lamp', '101_ObjectCategories\\\\laptop', '101_ObjectCategories\\\\Leopards', '101_ObjectCategories\\\\llama', '101_ObjectCategories\\\\lobster', '101_ObjectCategories\\\\lotus', '101_ObjectCategories\\\\mandolin', '101_ObjectCategories\\\\mayfly', '101_ObjectCategories\\\\menorah', '101_ObjectCategories\\\\metronome', '101_ObjectCategories\\\\minaret', '101_ObjectCategories\\\\nautilus', '101_ObjectCategories\\\\octopus', '101_ObjectCategories\\\\okapi', '101_ObjectCategories\\\\pagoda', '101_ObjectCategories\\\\panda', '101_ObjectCategories\\\\pigeon', '101_ObjectCategories\\\\pizza', '101_ObjectCategories\\\\platypus', '101_ObjectCategories\\\\pyramid', '101_ObjectCategories\\\\revolver', '101_ObjectCategories\\\\rhino', '101_ObjectCategories\\\\rooster', '101_ObjectCategories\\\\saxophone', '101_ObjectCategories\\\\schooner', '101_ObjectCategories\\\\scissors', '101_ObjectCategories\\\\scorpion', '101_ObjectCategories\\\\sea_horse', '101_ObjectCategories\\\\snoopy', '101_ObjectCategories\\\\soccer_ball', '101_ObjectCategories\\\\stapler', '101_ObjectCategories\\\\starfish', '101_ObjectCategories\\\\stegosaurus', '101_ObjectCategories\\\\stop_sign', '101_ObjectCategories\\\\strawberry', '101_ObjectCategories\\\\sunflower', '101_ObjectCategories\\\\tick', '101_ObjectCategories\\\\trilobite', '101_ObjectCategories\\\\umbrella', '101_ObjectCategories\\\\watch', '101_ObjectCategories\\\\water_lilly', '101_ObjectCategories\\\\wheelchair', '101_ObjectCategories\\\\wild_cat', '101_ObjectCategories\\\\windsor_chair', '101_ObjectCategories\\\\wrench', '101_ObjectCategories\\\\yin_yang']\n",
      "Contents of 101_ObjectCategories: ['accordion', 'airplanes', 'anchor', 'ant', 'BACKGROUND_Google', 'barrel', 'bass', 'beaver', 'binocular', 'bonsai', 'brain', 'brontosaurus', 'buddha', 'butterfly', 'camera', 'cannon', 'car_side', 'ceiling_fan', 'cellphone', 'chair', 'chandelier', 'cougar_body', 'cougar_face', 'crab', 'crayfish', 'crocodile', 'crocodile_head', 'cup', 'dalmatian', 'dollar_bill', 'dolphin', 'dragonfly', 'electric_guitar', 'elephant', 'emu', 'euphonium', 'ewer', 'Faces', 'Faces_easy', 'ferry', 'flamingo', 'flamingo_head', 'garfield', 'gerenuk', 'gramophone', 'grand_piano', 'hawksbill', 'headphone', 'hedgehog', 'helicopter', 'ibis', 'inline_skate', 'joshua_tree', 'kangaroo', 'ketch', 'lamp', 'laptop', 'Leopards', 'llama', 'lobster', 'lotus', 'mandolin', 'mayfly', 'menorah', 'metronome', 'minaret', 'Motorbikes', 'nautilus', 'octopus', 'okapi', 'pagoda', 'panda', 'pigeon', 'pizza', 'platypus', 'pyramid', 'revolver', 'rhino', 'rooster', 'saxophone', 'schooner', 'scissors', 'scorpion', 'sea_horse', 'snoopy', 'soccer_ball', 'stapler', 'starfish', 'stegosaurus', 'stop_sign', 'strawberry', 'sunflower', 'tick', 'trilobite', 'umbrella', 'watch', 'water_lilly', 'wheelchair', 'wild_cat', 'windsor_chair', 'wrench', 'yin_yang']\n"
     ]
    }
   ],
   "source": [
    "root = '101_ObjectCategories'\n",
    "exclude = ['BACKGROUND_Google', 'Motorbikes', 'airplanes', 'Faces_easy', 'Faces']\n",
    "train_split, val_split = 0.7, 0.15\n",
    "\n",
    "categories = [x[0] for x in os.walk(root) if x[0]][1:]\n",
    "categories = [c for c in categories if c not in [os.path.join(root, e) for e in exclude]]\n",
    "\n",
    "print(categories)\n",
    "print(f\"Contents of {root}: {os.listdir(root)}\")"
   ]
  },
  {
   "cell_type": "markdown",
   "metadata": {
    "id": "K2ERhVlFYoZy"
   },
   "source": [
    "This function is useful for pre-processing the data into an image and input vector."
   ]
  },
  {
   "cell_type": "code",
   "execution_count": 9,
   "metadata": {
    "id": "A1T1Joq7YoZz"
   },
   "outputs": [],
   "source": [
    "# helper function to load image and return it and input vector\n",
    "def get_image(path):\n",
    "    img = image.load_img(path, target_size=(224, 224))\n",
    "    x = image.img_to_array(img)\n",
    "    x = np.expand_dims(x, axis=0)\n",
    "    x = preprocess_input(x)\n",
    "    return img, x"
   ]
  },
  {
   "cell_type": "markdown",
   "metadata": {
    "id": "zUwQ60GGYoZ3"
   },
   "source": [
    "Load all the images from root folder"
   ]
  },
  {
   "cell_type": "code",
   "execution_count": 10,
   "metadata": {
    "id": "5nAUr-ooYoZ4"
   },
   "outputs": [],
   "source": [
    "data = []\n",
    "for c, category in enumerate(categories):\n",
    "    images = [os.path.join(dp, f) for dp, dn, filenames\n",
    "              in os.walk(category) for f in filenames\n",
    "              if os.path.splitext(f)[1].lower() in ['.jpg','.png','.jpeg']]\n",
    "    for img_path in images:\n",
    "        img, x = get_image(img_path)\n",
    "        data.append({'x':np.array(x[0]), 'y':c})\n",
    "\n",
    "# count the number of classes\n",
    "num_classes = len(categories)"
   ]
  },
  {
   "cell_type": "markdown",
   "metadata": {
    "id": "55Rw-ptVYoZ7"
   },
   "source": [
    "Randomize the data order."
   ]
  },
  {
   "cell_type": "code",
   "execution_count": 11,
   "metadata": {
    "id": "5vGeJK55YoZ8"
   },
   "outputs": [],
   "source": [
    "random.shuffle(data)"
   ]
  },
  {
   "cell_type": "markdown",
   "metadata": {
    "id": "OwHqS_NgYoZ_"
   },
   "source": [
    "create training / validation / test split (70%, 15%, 15%)"
   ]
  },
  {
   "cell_type": "code",
   "execution_count": 12,
   "metadata": {
    "id": "PT9Cuq2rYoaB"
   },
   "outputs": [],
   "source": [
    "idx_val = int(train_split * len(data))\n",
    "idx_test = int((train_split + val_split) * len(data))\n",
    "train = data[:idx_val]\n",
    "val = data[idx_val:idx_test]\n",
    "test = data[idx_test:]"
   ]
  },
  {
   "cell_type": "markdown",
   "metadata": {
    "id": "EsOVhpqcYoaF"
   },
   "source": [
    "Separate data for labels."
   ]
  },
  {
   "cell_type": "code",
   "execution_count": 13,
   "metadata": {
    "colab": {
     "base_uri": "https://localhost:8080/"
    },
    "id": "vQOGN9kOYoaH",
    "outputId": "0fb1a5a6-28f2-44cf-c2b5-646b658cda96"
   },
   "outputs": [
    {
     "name": "stdout",
     "output_type": "stream",
     "text": [
      "[53, 96, 38, 54, 22, 6, 46, 89, 72, 56, 48, 68, 33, 27, 41, 57, 95, 72, 86, 19, 10, 96, 6, 79, 4, 53, 44, 56, 30, 61, 17, 53, 78, 53, 90, 52, 19, 26, 79, 76, 56, 68, 44, 75, 54, 39, 34, 14, 4, 55, 80, 27, 35, 62, 87, 91, 62, 73, 86, 94, 57, 20, 70, 67, 28, 82, 52, 51, 22, 45, 38, 5, 45, 53, 8, 50, 70, 90, 66, 90, 86, 52, 27, 94, 7, 53, 49, 40, 11, 35, 88, 11, 5, 50, 52, 59, 6, 90, 64, 47, 7, 7, 22, 26, 53, 26, 73, 61, 34, 4, 79, 73, 81, 38, 29, 14, 45, 21, 47, 18, 82, 86, 68, 84, 65, 0, 83, 31, 64, 11, 22, 78, 85, 90, 85, 5, 30, 11, 9, 33, 93, 88, 22, 72, 70, 20, 42, 90, 90, 70, 26, 66, 23, 65, 48, 68, 23, 3, 82, 44, 14, 61, 14, 25, 14, 46, 27, 73, 92, 41, 59, 88, 68, 3, 22, 37, 43, 64, 19, 52, 11, 90, 17, 15, 71, 11, 53, 96, 78, 3, 44, 90, 46, 72, 65, 64, 37, 43, 90, 8, 84, 71, 31, 77, 52, 62, 11, 86, 53, 54, 11, 16, 4, 46, 25, 7, 8, 18, 12, 3, 69, 42, 17, 71, 43, 54, 16, 32, 78, 73, 49, 12, 52, 7, 53, 23, 89, 9, 10, 52, 50, 11, 26, 65, 22, 10, 24, 90, 63, 77, 51, 37, 36, 32, 85, 3, 90, 34, 57, 95, 1, 25, 51, 49, 72, 43, 15, 78, 67, 6, 86, 90, 6, 52, 83, 69, 7, 89, 53, 8, 49, 49, 35, 25, 58, 86, 61, 54, 80, 94, 77, 62, 17, 50, 29, 33, 21, 53, 51, 15, 3, 11, 88, 90, 11, 14, 14, 5, 50, 49, 67, 21, 38, 29, 41, 2, 73, 90, 20, 54, 53, 88, 10, 21, 30, 50, 5, 34, 35, 94, 43, 54, 45, 58, 80, 39, 80, 53, 54, 46, 80, 18, 46, 8, 36, 43, 11, 22, 86, 61, 17, 40, 53, 80, 75, 89, 50, 86, 37, 55, 46, 78, 14, 46, 13, 27, 29, 32, 92, 44, 79, 82, 77, 52, 29, 53, 92, 75, 34, 25, 14, 95, 31, 27, 90, 82, 59, 90, 53, 75, 49, 2, 19, 46, 37, 92, 65, 52, 71, 25, 90, 13, 80, 37, 22, 77, 64, 18, 29, 61, 6, 36, 62, 17, 47, 38, 50, 67, 6, 71, 5, 50, 7, 11, 29, 88, 80, 59, 19, 81, 12, 53, 53, 17, 50, 75, 84, 18, 90, 25, 26, 90, 56, 55, 7, 82, 22, 65, 16, 12, 10, 24, 5, 41, 49, 36, 42, 0, 21, 34, 27, 20, 3, 66, 23, 90, 7, 45, 74, 30, 11, 33, 11, 30, 13, 54, 95, 35, 83, 57, 70, 20, 4, 56, 87, 41, 16, 90, 73, 89, 40, 14, 86, 37, 29, 82, 8, 53, 58, 30, 93, 59, 33, 48, 76, 82, 90, 34, 87, 19, 35, 47, 7, 74, 89, 29, 13, 26, 78, 18, 84, 0, 51, 27, 1, 70, 4, 21, 19, 75, 67, 11, 71, 44, 47, 59, 3, 36, 78, 65, 79, 82, 26, 11, 74, 9, 85, 42, 22, 10, 48, 32, 16, 89, 53, 90, 49, 85, 19, 8, 62, 62, 62, 33, 88, 83, 1, 7, 11, 55, 2, 89, 41, 22, 73, 81, 72, 45, 66, 46, 0, 73, 52, 5, 60, 48, 7, 72, 56, 22, 52, 53, 12, 90, 27, 41, 86, 92, 40, 55, 68, 18, 82, 20, 10, 26, 8, 31, 11, 7, 9, 64, 38, 24, 63, 45, 25, 9, 14, 60, 16, 30, 51, 65, 59, 21, 77, 3, 71, 28, 49, 59, 48, 14, 42, 90, 22, 87, 72, 29, 33, 42, 49, 41, 78, 9, 53, 43, 27, 90, 12, 52, 40, 96, 8, 67, 52, 82, 40, 59, 35, 90, 11, 55, 2, 14, 86, 53, 92, 28, 24, 77, 76, 90, 50, 88, 90, 11, 58, 14, 76, 46, 55, 69, 84, 21, 23, 14, 11, 42, 33, 23, 3, 4, 50, 59, 88, 34, 86, 57, 18, 22, 69, 25, 18, 50, 12, 17, 69, 13, 46, 7, 21, 62, 55, 32, 34, 50, 53, 50, 90, 1, 88, 76, 51, 18, 40, 4, 0, 90, 72, 68, 46, 28, 90, 53, 2, 35, 48, 30, 8, 67, 53, 59, 13, 50, 6, 71, 55, 61, 71, 28, 10, 90, 94, 92, 21, 93, 26, 5, 96, 23, 53, 19, 22, 70, 71, 27, 52, 29, 7, 7, 53, 33, 91, 23, 15, 14, 14, 50, 23, 53, 55, 56, 90, 27, 51, 37, 51, 90, 28, 16, 12, 48, 63, 42, 34, 51, 79, 87, 83, 9, 68, 70, 70, 58, 59, 85, 79, 51, 17, 22, 59, 42, 68, 28, 34, 84, 14, 48, 90, 58, 96, 76, 19, 62, 48, 90, 20, 56, 45, 48, 14, 36, 90, 58, 83, 86, 71, 51, 59, 95, 4, 85, 32, 66, 27, 34, 36, 8, 46, 58, 48, 18, 56, 46, 87, 50, 13, 35, 18, 3, 73, 70, 46, 49, 70, 86, 83, 26, 88, 53, 1, 90, 15, 72, 88, 88, 74, 92, 87, 84, 15, 39, 34, 54, 57, 79, 14, 61, 53, 90, 8, 25, 49, 47, 71, 14, 53, 53, 41, 53, 26, 68, 15, 72, 18, 62, 40, 7, 35, 76, 50, 48, 91, 62, 78, 7, 90, 88, 65, 56, 79, 40, 92, 89, 59, 1, 74, 11, 53, 33]\n"
     ]
    }
   ],
   "source": [
    "x_train, y_train = np.array([t[\"x\"] for t in train]), [t[\"y\"] for t in train]\n",
    "x_val, y_val = np.array([t[\"x\"] for t in val]), [t[\"y\"] for t in val]\n",
    "x_test, y_test = np.array([t[\"x\"] for t in test]), [t[\"y\"] for t in test]\n",
    "print(y_test)"
   ]
  },
  {
   "cell_type": "markdown",
   "metadata": {
    "id": "vc6W07QVYoaM"
   },
   "source": [
    "Pre-process the data as before by making sure it's float32 and normalized between 0 and 1."
   ]
  },
  {
   "cell_type": "code",
   "execution_count": 14,
   "metadata": {
    "id": "qnXaiAgJYoaQ"
   },
   "outputs": [
    {
     "name": "stdout",
     "output_type": "stream",
     "text": [
      "(932, 97)\n"
     ]
    }
   ],
   "source": [
    "# normalize data\n",
    "x_train = x_train.astype('float32') / 255.\n",
    "x_val = x_val.astype('float32') / 255.\n",
    "x_test = x_test.astype('float32') / 255.\n",
    "\n",
    "# convert labels to one-hot vectors\n",
    "y_train = keras.utils.to_categorical(y_train, num_classes)\n",
    "y_val = keras.utils.to_categorical(y_val, num_classes)\n",
    "y_test = keras.utils.to_categorical(y_test, num_classes)\n",
    "print(y_test.shape)"
   ]
  },
  {
   "cell_type": "markdown",
   "metadata": {
    "id": "ordUucUKYoaS"
   },
   "source": [
    "Let's get a summary of what we have."
   ]
  },
  {
   "cell_type": "code",
   "execution_count": 15,
   "metadata": {
    "id": "AcKjxgtyYoaT"
   },
   "outputs": [
    {
     "name": "stdout",
     "output_type": "stream",
     "text": [
      "finished loading 6209 images from 97 categories\n",
      "train / validation / test split: 4346, 931, 932\n",
      "training data shape:  (4346, 224, 224, 3)\n",
      "training labels shape:  (4346, 97)\n"
     ]
    }
   ],
   "source": [
    "# summary\n",
    "print(\"finished loading %d images from %d categories\"%(len(data), num_classes))\n",
    "print(\"train / validation / test split: %d, %d, %d\"%(len(x_train), len(x_val), len(x_test)))\n",
    "print(\"training data shape: \", x_train.shape)\n",
    "print(\"training labels shape: \", y_train.shape)\n"
   ]
  },
  {
   "cell_type": "markdown",
   "metadata": {
    "id": "E-P9MNPcYoaY"
   },
   "source": [
    "If everything worked properly, you should have loaded a bunch of images, and split them into three sets: `train`, `val`, and `test`. The shape of the training data should be (`n`, 224, 224, 3) where `n` is the size of your training set, and the labels should be (`n`, `c`) where `c` is the number of classes (97 in the case of `101_ObjectCategories`.\n",
    "\n",
    "Notice that we divided all the data into three subsets -- a training set `train`, a validation set `val`, and a test set `test`. The reason for this is to properly evaluate the accuracy of our classifier. During training, the optimizer uses the validation set to evaluate its internal performance, in order to determine the gradient without overfitting to the training set. The `test` set is always held out from the training algorithm, and is only used at the end to evaluate the final accuracy of our model.\n",
    "\n",
    "Let's quickly look at a few sample images from our dataset."
   ]
  },
  {
   "cell_type": "code",
   "execution_count": 16,
   "metadata": {
    "id": "y84SmM2CYoaZ"
   },
   "outputs": [
    {
     "data": {
      "text/plain": [
       "<matplotlib.image.AxesImage at 0x1c05dda1580>"
      ]
     },
     "execution_count": 16,
     "metadata": {},
     "output_type": "execute_result"
    }
   ],
   "source": [
    "images = [os.path.join(dp, f) for dp, dn, filenames in os.walk(root) for f in filenames if os.path.splitext(f)[1].lower() in ['.jpg','.png','.jpeg']]\n",
    "idx = [int(len(images) * random.random()) for i in range(8)]\n",
    "imgs = [image.load_img(images[i], target_size=(224, 224)) for i in idx]\n",
    "concat_image = np.concatenate([np.asarray(img) for img in imgs], axis=1)\n",
    "plt.figure(figsize=(16,4))\n",
    "plt.imshow(concat_image)"
   ]
  },
  {
   "cell_type": "markdown",
   "metadata": {
    "id": "n2s5qypkYoad"
   },
   "source": [
    "### First training a neural net from scratch\n",
    "\n",
    "Before doing the transfer learning, let's first build a neural network from scratch for doing classification on our dataset. This will give us a baseline to compare to our transfer-learned network later.\n",
    "\n",
    "The network we will construct contains 4 alternating convolutional and max-pooling layers, followed by a [dropout](https://www.cs.toronto.edu/~hinton/absps/JMLRdropout.pdf) after every other conv/pooling pair. After the last pooling layer, we will attach a fully-connected layer with 256 neurons, another dropout layer, then finally a softmax classification layer for our classes.\n",
    "\n",
    "Our loss function will be, as usual, categorical cross-entropy loss, and our learning algorithm will be [AdaDelta](https://arxiv.org/abs/1212.5701). Various things about this network can be changed to get better performance, perhaps using a larger network or a different optimizer will help, but for the purposes of this notebook, the goal is to just get an understanding of an approximate baseline for comparison's sake, and so it isn't neccessary to spend much time trying to optimize this network.\n",
    "\n",
    "Upon compiling the network, let's run `model.summary()` to get a snapshot of its layers."
   ]
  },
  {
   "cell_type": "code",
   "execution_count": 17,
   "metadata": {
    "id": "y41GiiYTYoaf"
   },
   "outputs": [
    {
     "name": "stdout",
     "output_type": "stream",
     "text": [
      "Input dimensions:  (224, 224, 3)\n"
     ]
    },
    {
     "name": "stderr",
     "output_type": "stream",
     "text": [
      "C:\\Users\\poger\\.conda\\envs\\AI\\Lib\\site-packages\\keras\\src\\layers\\convolutional\\base_conv.py:113: UserWarning: Do not pass an `input_shape`/`input_dim` argument to a layer. When using Sequential models, prefer using an `Input(shape)` object as the first layer in the model instead.\n",
      "  super().__init__(activity_regularizer=activity_regularizer, **kwargs)\n"
     ]
    },
    {
     "data": {
      "text/html": [
       "<pre style=\"white-space:pre;overflow-x:auto;line-height:normal;font-family:Menlo,'DejaVu Sans Mono',consolas,'Courier New',monospace\"><span style=\"font-weight: bold\">Model: \"sequential\"</span>\n",
       "</pre>\n"
      ],
      "text/plain": [
       "\u001b[1mModel: \"sequential\"\u001b[0m\n"
      ]
     },
     "metadata": {},
     "output_type": "display_data"
    },
    {
     "data": {
      "text/html": [
       "<pre style=\"white-space:pre;overflow-x:auto;line-height:normal;font-family:Menlo,'DejaVu Sans Mono',consolas,'Courier New',monospace\">┏━━━━━━━━━━━━━━━━━━━━━━━━━━━━━━━━━━━━━━┳━━━━━━━━━━━━━━━━━━━━━━━━━━━━━┳━━━━━━━━━━━━━━━━━┓\n",
       "┃<span style=\"font-weight: bold\"> Layer (type)                         </span>┃<span style=\"font-weight: bold\"> Output Shape                </span>┃<span style=\"font-weight: bold\">         Param # </span>┃\n",
       "┡━━━━━━━━━━━━━━━━━━━━━━━━━━━━━━━━━━━━━━╇━━━━━━━━━━━━━━━━━━━━━━━━━━━━━╇━━━━━━━━━━━━━━━━━┩\n",
       "│ conv2d (<span style=\"color: #0087ff; text-decoration-color: #0087ff\">Conv2D</span>)                      │ (<span style=\"color: #00d7ff; text-decoration-color: #00d7ff\">None</span>, <span style=\"color: #00af00; text-decoration-color: #00af00\">222</span>, <span style=\"color: #00af00; text-decoration-color: #00af00\">222</span>, <span style=\"color: #00af00; text-decoration-color: #00af00\">32</span>)        │             <span style=\"color: #00af00; text-decoration-color: #00af00\">896</span> │\n",
       "├──────────────────────────────────────┼─────────────────────────────┼─────────────────┤\n",
       "│ activation (<span style=\"color: #0087ff; text-decoration-color: #0087ff\">Activation</span>)              │ (<span style=\"color: #00d7ff; text-decoration-color: #00d7ff\">None</span>, <span style=\"color: #00af00; text-decoration-color: #00af00\">222</span>, <span style=\"color: #00af00; text-decoration-color: #00af00\">222</span>, <span style=\"color: #00af00; text-decoration-color: #00af00\">32</span>)        │               <span style=\"color: #00af00; text-decoration-color: #00af00\">0</span> │\n",
       "├──────────────────────────────────────┼─────────────────────────────┼─────────────────┤\n",
       "│ max_pooling2d (<span style=\"color: #0087ff; text-decoration-color: #0087ff\">MaxPooling2D</span>)         │ (<span style=\"color: #00d7ff; text-decoration-color: #00d7ff\">None</span>, <span style=\"color: #00af00; text-decoration-color: #00af00\">111</span>, <span style=\"color: #00af00; text-decoration-color: #00af00\">111</span>, <span style=\"color: #00af00; text-decoration-color: #00af00\">32</span>)        │               <span style=\"color: #00af00; text-decoration-color: #00af00\">0</span> │\n",
       "├──────────────────────────────────────┼─────────────────────────────┼─────────────────┤\n",
       "│ conv2d_1 (<span style=\"color: #0087ff; text-decoration-color: #0087ff\">Conv2D</span>)                    │ (<span style=\"color: #00d7ff; text-decoration-color: #00d7ff\">None</span>, <span style=\"color: #00af00; text-decoration-color: #00af00\">109</span>, <span style=\"color: #00af00; text-decoration-color: #00af00\">109</span>, <span style=\"color: #00af00; text-decoration-color: #00af00\">32</span>)        │           <span style=\"color: #00af00; text-decoration-color: #00af00\">9,248</span> │\n",
       "├──────────────────────────────────────┼─────────────────────────────┼─────────────────┤\n",
       "│ activation_1 (<span style=\"color: #0087ff; text-decoration-color: #0087ff\">Activation</span>)            │ (<span style=\"color: #00d7ff; text-decoration-color: #00d7ff\">None</span>, <span style=\"color: #00af00; text-decoration-color: #00af00\">109</span>, <span style=\"color: #00af00; text-decoration-color: #00af00\">109</span>, <span style=\"color: #00af00; text-decoration-color: #00af00\">32</span>)        │               <span style=\"color: #00af00; text-decoration-color: #00af00\">0</span> │\n",
       "├──────────────────────────────────────┼─────────────────────────────┼─────────────────┤\n",
       "│ max_pooling2d_1 (<span style=\"color: #0087ff; text-decoration-color: #0087ff\">MaxPooling2D</span>)       │ (<span style=\"color: #00d7ff; text-decoration-color: #00d7ff\">None</span>, <span style=\"color: #00af00; text-decoration-color: #00af00\">54</span>, <span style=\"color: #00af00; text-decoration-color: #00af00\">54</span>, <span style=\"color: #00af00; text-decoration-color: #00af00\">32</span>)          │               <span style=\"color: #00af00; text-decoration-color: #00af00\">0</span> │\n",
       "├──────────────────────────────────────┼─────────────────────────────┼─────────────────┤\n",
       "│ dropout (<span style=\"color: #0087ff; text-decoration-color: #0087ff\">Dropout</span>)                    │ (<span style=\"color: #00d7ff; text-decoration-color: #00d7ff\">None</span>, <span style=\"color: #00af00; text-decoration-color: #00af00\">54</span>, <span style=\"color: #00af00; text-decoration-color: #00af00\">54</span>, <span style=\"color: #00af00; text-decoration-color: #00af00\">32</span>)          │               <span style=\"color: #00af00; text-decoration-color: #00af00\">0</span> │\n",
       "├──────────────────────────────────────┼─────────────────────────────┼─────────────────┤\n",
       "│ conv2d_2 (<span style=\"color: #0087ff; text-decoration-color: #0087ff\">Conv2D</span>)                    │ (<span style=\"color: #00d7ff; text-decoration-color: #00d7ff\">None</span>, <span style=\"color: #00af00; text-decoration-color: #00af00\">52</span>, <span style=\"color: #00af00; text-decoration-color: #00af00\">52</span>, <span style=\"color: #00af00; text-decoration-color: #00af00\">32</span>)          │           <span style=\"color: #00af00; text-decoration-color: #00af00\">9,248</span> │\n",
       "├──────────────────────────────────────┼─────────────────────────────┼─────────────────┤\n",
       "│ activation_2 (<span style=\"color: #0087ff; text-decoration-color: #0087ff\">Activation</span>)            │ (<span style=\"color: #00d7ff; text-decoration-color: #00d7ff\">None</span>, <span style=\"color: #00af00; text-decoration-color: #00af00\">52</span>, <span style=\"color: #00af00; text-decoration-color: #00af00\">52</span>, <span style=\"color: #00af00; text-decoration-color: #00af00\">32</span>)          │               <span style=\"color: #00af00; text-decoration-color: #00af00\">0</span> │\n",
       "├──────────────────────────────────────┼─────────────────────────────┼─────────────────┤\n",
       "│ max_pooling2d_2 (<span style=\"color: #0087ff; text-decoration-color: #0087ff\">MaxPooling2D</span>)       │ (<span style=\"color: #00d7ff; text-decoration-color: #00d7ff\">None</span>, <span style=\"color: #00af00; text-decoration-color: #00af00\">26</span>, <span style=\"color: #00af00; text-decoration-color: #00af00\">26</span>, <span style=\"color: #00af00; text-decoration-color: #00af00\">32</span>)          │               <span style=\"color: #00af00; text-decoration-color: #00af00\">0</span> │\n",
       "├──────────────────────────────────────┼─────────────────────────────┼─────────────────┤\n",
       "│ conv2d_3 (<span style=\"color: #0087ff; text-decoration-color: #0087ff\">Conv2D</span>)                    │ (<span style=\"color: #00d7ff; text-decoration-color: #00d7ff\">None</span>, <span style=\"color: #00af00; text-decoration-color: #00af00\">24</span>, <span style=\"color: #00af00; text-decoration-color: #00af00\">24</span>, <span style=\"color: #00af00; text-decoration-color: #00af00\">32</span>)          │           <span style=\"color: #00af00; text-decoration-color: #00af00\">9,248</span> │\n",
       "├──────────────────────────────────────┼─────────────────────────────┼─────────────────┤\n",
       "│ activation_3 (<span style=\"color: #0087ff; text-decoration-color: #0087ff\">Activation</span>)            │ (<span style=\"color: #00d7ff; text-decoration-color: #00d7ff\">None</span>, <span style=\"color: #00af00; text-decoration-color: #00af00\">24</span>, <span style=\"color: #00af00; text-decoration-color: #00af00\">24</span>, <span style=\"color: #00af00; text-decoration-color: #00af00\">32</span>)          │               <span style=\"color: #00af00; text-decoration-color: #00af00\">0</span> │\n",
       "├──────────────────────────────────────┼─────────────────────────────┼─────────────────┤\n",
       "│ max_pooling2d_3 (<span style=\"color: #0087ff; text-decoration-color: #0087ff\">MaxPooling2D</span>)       │ (<span style=\"color: #00d7ff; text-decoration-color: #00d7ff\">None</span>, <span style=\"color: #00af00; text-decoration-color: #00af00\">12</span>, <span style=\"color: #00af00; text-decoration-color: #00af00\">12</span>, <span style=\"color: #00af00; text-decoration-color: #00af00\">32</span>)          │               <span style=\"color: #00af00; text-decoration-color: #00af00\">0</span> │\n",
       "├──────────────────────────────────────┼─────────────────────────────┼─────────────────┤\n",
       "│ dropout_1 (<span style=\"color: #0087ff; text-decoration-color: #0087ff\">Dropout</span>)                  │ (<span style=\"color: #00d7ff; text-decoration-color: #00d7ff\">None</span>, <span style=\"color: #00af00; text-decoration-color: #00af00\">12</span>, <span style=\"color: #00af00; text-decoration-color: #00af00\">12</span>, <span style=\"color: #00af00; text-decoration-color: #00af00\">32</span>)          │               <span style=\"color: #00af00; text-decoration-color: #00af00\">0</span> │\n",
       "├──────────────────────────────────────┼─────────────────────────────┼─────────────────┤\n",
       "│ flatten (<span style=\"color: #0087ff; text-decoration-color: #0087ff\">Flatten</span>)                    │ (<span style=\"color: #00d7ff; text-decoration-color: #00d7ff\">None</span>, <span style=\"color: #00af00; text-decoration-color: #00af00\">4608</span>)                │               <span style=\"color: #00af00; text-decoration-color: #00af00\">0</span> │\n",
       "├──────────────────────────────────────┼─────────────────────────────┼─────────────────┤\n",
       "│ dense (<span style=\"color: #0087ff; text-decoration-color: #0087ff\">Dense</span>)                        │ (<span style=\"color: #00d7ff; text-decoration-color: #00d7ff\">None</span>, <span style=\"color: #00af00; text-decoration-color: #00af00\">256</span>)                 │       <span style=\"color: #00af00; text-decoration-color: #00af00\">1,179,904</span> │\n",
       "├──────────────────────────────────────┼─────────────────────────────┼─────────────────┤\n",
       "│ activation_4 (<span style=\"color: #0087ff; text-decoration-color: #0087ff\">Activation</span>)            │ (<span style=\"color: #00d7ff; text-decoration-color: #00d7ff\">None</span>, <span style=\"color: #00af00; text-decoration-color: #00af00\">256</span>)                 │               <span style=\"color: #00af00; text-decoration-color: #00af00\">0</span> │\n",
       "├──────────────────────────────────────┼─────────────────────────────┼─────────────────┤\n",
       "│ dropout_2 (<span style=\"color: #0087ff; text-decoration-color: #0087ff\">Dropout</span>)                  │ (<span style=\"color: #00d7ff; text-decoration-color: #00d7ff\">None</span>, <span style=\"color: #00af00; text-decoration-color: #00af00\">256</span>)                 │               <span style=\"color: #00af00; text-decoration-color: #00af00\">0</span> │\n",
       "├──────────────────────────────────────┼─────────────────────────────┼─────────────────┤\n",
       "│ dense_1 (<span style=\"color: #0087ff; text-decoration-color: #0087ff\">Dense</span>)                      │ (<span style=\"color: #00d7ff; text-decoration-color: #00d7ff\">None</span>, <span style=\"color: #00af00; text-decoration-color: #00af00\">97</span>)                  │          <span style=\"color: #00af00; text-decoration-color: #00af00\">24,929</span> │\n",
       "├──────────────────────────────────────┼─────────────────────────────┼─────────────────┤\n",
       "│ activation_5 (<span style=\"color: #0087ff; text-decoration-color: #0087ff\">Activation</span>)            │ (<span style=\"color: #00d7ff; text-decoration-color: #00d7ff\">None</span>, <span style=\"color: #00af00; text-decoration-color: #00af00\">97</span>)                  │               <span style=\"color: #00af00; text-decoration-color: #00af00\">0</span> │\n",
       "└──────────────────────────────────────┴─────────────────────────────┴─────────────────┘\n",
       "</pre>\n"
      ],
      "text/plain": [
       "┏━━━━━━━━━━━━━━━━━━━━━━━━━━━━━━━━━━━━━━┳━━━━━━━━━━━━━━━━━━━━━━━━━━━━━┳━━━━━━━━━━━━━━━━━┓\n",
       "┃\u001b[1m \u001b[0m\u001b[1mLayer (type)                        \u001b[0m\u001b[1m \u001b[0m┃\u001b[1m \u001b[0m\u001b[1mOutput Shape               \u001b[0m\u001b[1m \u001b[0m┃\u001b[1m \u001b[0m\u001b[1m        Param #\u001b[0m\u001b[1m \u001b[0m┃\n",
       "┡━━━━━━━━━━━━━━━━━━━━━━━━━━━━━━━━━━━━━━╇━━━━━━━━━━━━━━━━━━━━━━━━━━━━━╇━━━━━━━━━━━━━━━━━┩\n",
       "│ conv2d (\u001b[38;5;33mConv2D\u001b[0m)                      │ (\u001b[38;5;45mNone\u001b[0m, \u001b[38;5;34m222\u001b[0m, \u001b[38;5;34m222\u001b[0m, \u001b[38;5;34m32\u001b[0m)        │             \u001b[38;5;34m896\u001b[0m │\n",
       "├──────────────────────────────────────┼─────────────────────────────┼─────────────────┤\n",
       "│ activation (\u001b[38;5;33mActivation\u001b[0m)              │ (\u001b[38;5;45mNone\u001b[0m, \u001b[38;5;34m222\u001b[0m, \u001b[38;5;34m222\u001b[0m, \u001b[38;5;34m32\u001b[0m)        │               \u001b[38;5;34m0\u001b[0m │\n",
       "├──────────────────────────────────────┼─────────────────────────────┼─────────────────┤\n",
       "│ max_pooling2d (\u001b[38;5;33mMaxPooling2D\u001b[0m)         │ (\u001b[38;5;45mNone\u001b[0m, \u001b[38;5;34m111\u001b[0m, \u001b[38;5;34m111\u001b[0m, \u001b[38;5;34m32\u001b[0m)        │               \u001b[38;5;34m0\u001b[0m │\n",
       "├──────────────────────────────────────┼─────────────────────────────┼─────────────────┤\n",
       "│ conv2d_1 (\u001b[38;5;33mConv2D\u001b[0m)                    │ (\u001b[38;5;45mNone\u001b[0m, \u001b[38;5;34m109\u001b[0m, \u001b[38;5;34m109\u001b[0m, \u001b[38;5;34m32\u001b[0m)        │           \u001b[38;5;34m9,248\u001b[0m │\n",
       "├──────────────────────────────────────┼─────────────────────────────┼─────────────────┤\n",
       "│ activation_1 (\u001b[38;5;33mActivation\u001b[0m)            │ (\u001b[38;5;45mNone\u001b[0m, \u001b[38;5;34m109\u001b[0m, \u001b[38;5;34m109\u001b[0m, \u001b[38;5;34m32\u001b[0m)        │               \u001b[38;5;34m0\u001b[0m │\n",
       "├──────────────────────────────────────┼─────────────────────────────┼─────────────────┤\n",
       "│ max_pooling2d_1 (\u001b[38;5;33mMaxPooling2D\u001b[0m)       │ (\u001b[38;5;45mNone\u001b[0m, \u001b[38;5;34m54\u001b[0m, \u001b[38;5;34m54\u001b[0m, \u001b[38;5;34m32\u001b[0m)          │               \u001b[38;5;34m0\u001b[0m │\n",
       "├──────────────────────────────────────┼─────────────────────────────┼─────────────────┤\n",
       "│ dropout (\u001b[38;5;33mDropout\u001b[0m)                    │ (\u001b[38;5;45mNone\u001b[0m, \u001b[38;5;34m54\u001b[0m, \u001b[38;5;34m54\u001b[0m, \u001b[38;5;34m32\u001b[0m)          │               \u001b[38;5;34m0\u001b[0m │\n",
       "├──────────────────────────────────────┼─────────────────────────────┼─────────────────┤\n",
       "│ conv2d_2 (\u001b[38;5;33mConv2D\u001b[0m)                    │ (\u001b[38;5;45mNone\u001b[0m, \u001b[38;5;34m52\u001b[0m, \u001b[38;5;34m52\u001b[0m, \u001b[38;5;34m32\u001b[0m)          │           \u001b[38;5;34m9,248\u001b[0m │\n",
       "├──────────────────────────────────────┼─────────────────────────────┼─────────────────┤\n",
       "│ activation_2 (\u001b[38;5;33mActivation\u001b[0m)            │ (\u001b[38;5;45mNone\u001b[0m, \u001b[38;5;34m52\u001b[0m, \u001b[38;5;34m52\u001b[0m, \u001b[38;5;34m32\u001b[0m)          │               \u001b[38;5;34m0\u001b[0m │\n",
       "├──────────────────────────────────────┼─────────────────────────────┼─────────────────┤\n",
       "│ max_pooling2d_2 (\u001b[38;5;33mMaxPooling2D\u001b[0m)       │ (\u001b[38;5;45mNone\u001b[0m, \u001b[38;5;34m26\u001b[0m, \u001b[38;5;34m26\u001b[0m, \u001b[38;5;34m32\u001b[0m)          │               \u001b[38;5;34m0\u001b[0m │\n",
       "├──────────────────────────────────────┼─────────────────────────────┼─────────────────┤\n",
       "│ conv2d_3 (\u001b[38;5;33mConv2D\u001b[0m)                    │ (\u001b[38;5;45mNone\u001b[0m, \u001b[38;5;34m24\u001b[0m, \u001b[38;5;34m24\u001b[0m, \u001b[38;5;34m32\u001b[0m)          │           \u001b[38;5;34m9,248\u001b[0m │\n",
       "├──────────────────────────────────────┼─────────────────────────────┼─────────────────┤\n",
       "│ activation_3 (\u001b[38;5;33mActivation\u001b[0m)            │ (\u001b[38;5;45mNone\u001b[0m, \u001b[38;5;34m24\u001b[0m, \u001b[38;5;34m24\u001b[0m, \u001b[38;5;34m32\u001b[0m)          │               \u001b[38;5;34m0\u001b[0m │\n",
       "├──────────────────────────────────────┼─────────────────────────────┼─────────────────┤\n",
       "│ max_pooling2d_3 (\u001b[38;5;33mMaxPooling2D\u001b[0m)       │ (\u001b[38;5;45mNone\u001b[0m, \u001b[38;5;34m12\u001b[0m, \u001b[38;5;34m12\u001b[0m, \u001b[38;5;34m32\u001b[0m)          │               \u001b[38;5;34m0\u001b[0m │\n",
       "├──────────────────────────────────────┼─────────────────────────────┼─────────────────┤\n",
       "│ dropout_1 (\u001b[38;5;33mDropout\u001b[0m)                  │ (\u001b[38;5;45mNone\u001b[0m, \u001b[38;5;34m12\u001b[0m, \u001b[38;5;34m12\u001b[0m, \u001b[38;5;34m32\u001b[0m)          │               \u001b[38;5;34m0\u001b[0m │\n",
       "├──────────────────────────────────────┼─────────────────────────────┼─────────────────┤\n",
       "│ flatten (\u001b[38;5;33mFlatten\u001b[0m)                    │ (\u001b[38;5;45mNone\u001b[0m, \u001b[38;5;34m4608\u001b[0m)                │               \u001b[38;5;34m0\u001b[0m │\n",
       "├──────────────────────────────────────┼─────────────────────────────┼─────────────────┤\n",
       "│ dense (\u001b[38;5;33mDense\u001b[0m)                        │ (\u001b[38;5;45mNone\u001b[0m, \u001b[38;5;34m256\u001b[0m)                 │       \u001b[38;5;34m1,179,904\u001b[0m │\n",
       "├──────────────────────────────────────┼─────────────────────────────┼─────────────────┤\n",
       "│ activation_4 (\u001b[38;5;33mActivation\u001b[0m)            │ (\u001b[38;5;45mNone\u001b[0m, \u001b[38;5;34m256\u001b[0m)                 │               \u001b[38;5;34m0\u001b[0m │\n",
       "├──────────────────────────────────────┼─────────────────────────────┼─────────────────┤\n",
       "│ dropout_2 (\u001b[38;5;33mDropout\u001b[0m)                  │ (\u001b[38;5;45mNone\u001b[0m, \u001b[38;5;34m256\u001b[0m)                 │               \u001b[38;5;34m0\u001b[0m │\n",
       "├──────────────────────────────────────┼─────────────────────────────┼─────────────────┤\n",
       "│ dense_1 (\u001b[38;5;33mDense\u001b[0m)                      │ (\u001b[38;5;45mNone\u001b[0m, \u001b[38;5;34m97\u001b[0m)                  │          \u001b[38;5;34m24,929\u001b[0m │\n",
       "├──────────────────────────────────────┼─────────────────────────────┼─────────────────┤\n",
       "│ activation_5 (\u001b[38;5;33mActivation\u001b[0m)            │ (\u001b[38;5;45mNone\u001b[0m, \u001b[38;5;34m97\u001b[0m)                  │               \u001b[38;5;34m0\u001b[0m │\n",
       "└──────────────────────────────────────┴─────────────────────────────┴─────────────────┘\n"
      ]
     },
     "metadata": {},
     "output_type": "display_data"
    },
    {
     "data": {
      "text/html": [
       "<pre style=\"white-space:pre;overflow-x:auto;line-height:normal;font-family:Menlo,'DejaVu Sans Mono',consolas,'Courier New',monospace\"><span style=\"font-weight: bold\"> Total params: </span><span style=\"color: #00af00; text-decoration-color: #00af00\">1,233,473</span> (4.71 MB)\n",
       "</pre>\n"
      ],
      "text/plain": [
       "\u001b[1m Total params: \u001b[0m\u001b[38;5;34m1,233,473\u001b[0m (4.71 MB)\n"
      ]
     },
     "metadata": {},
     "output_type": "display_data"
    },
    {
     "data": {
      "text/html": [
       "<pre style=\"white-space:pre;overflow-x:auto;line-height:normal;font-family:Menlo,'DejaVu Sans Mono',consolas,'Courier New',monospace\"><span style=\"font-weight: bold\"> Trainable params: </span><span style=\"color: #00af00; text-decoration-color: #00af00\">1,233,473</span> (4.71 MB)\n",
       "</pre>\n"
      ],
      "text/plain": [
       "\u001b[1m Trainable params: \u001b[0m\u001b[38;5;34m1,233,473\u001b[0m (4.71 MB)\n"
      ]
     },
     "metadata": {},
     "output_type": "display_data"
    },
    {
     "data": {
      "text/html": [
       "<pre style=\"white-space:pre;overflow-x:auto;line-height:normal;font-family:Menlo,'DejaVu Sans Mono',consolas,'Courier New',monospace\"><span style=\"font-weight: bold\"> Non-trainable params: </span><span style=\"color: #00af00; text-decoration-color: #00af00\">0</span> (0.00 B)\n",
       "</pre>\n"
      ],
      "text/plain": [
       "\u001b[1m Non-trainable params: \u001b[0m\u001b[38;5;34m0\u001b[0m (0.00 B)\n"
      ]
     },
     "metadata": {},
     "output_type": "display_data"
    }
   ],
   "source": [
    "# build the network\n",
    "model = Sequential()\n",
    "print(\"Input dimensions: \",x_train.shape[1:])\n",
    "\n",
    "model.add(Conv2D(32, (3, 3), input_shape=x_train.shape[1:]))\n",
    "model.add(Activation('relu'))\n",
    "model.add(MaxPooling2D(pool_size=(2, 2)))\n",
    "\n",
    "model.add(Conv2D(32, (3, 3)))\n",
    "model.add(Activation('relu'))\n",
    "model.add(MaxPooling2D(pool_size=(2, 2)))\n",
    "\n",
    "model.add(Dropout(0.25))\n",
    "\n",
    "model.add(Conv2D(32, (3, 3)))\n",
    "model.add(Activation('relu'))\n",
    "model.add(MaxPooling2D(pool_size=(2, 2)))\n",
    "\n",
    "model.add(Conv2D(32, (3, 3)))\n",
    "model.add(Activation('relu'))\n",
    "model.add(MaxPooling2D(pool_size=(2, 2)))\n",
    "\n",
    "model.add(Dropout(0.25))\n",
    "\n",
    "model.add(Flatten())\n",
    "model.add(Dense(256))\n",
    "model.add(Activation('relu'))\n",
    "\n",
    "model.add(Dropout(0.5))\n",
    "\n",
    "model.add(Dense(num_classes))\n",
    "model.add(Activation('softmax'))\n",
    "\n",
    "model.summary()"
   ]
  },
  {
   "cell_type": "markdown",
   "metadata": {
    "id": "ej9IWCzxYoai"
   },
   "source": [
    "We've created a medium-sized network with ~1.2 million weights and biases (the parameters). Most of them are leading into the one pre-softmax fully-connected layer \"dense_5\".\n",
    "\n",
    "We can now go ahead and train our model for 100 epochs with a batch size of 128. We'll also record its history so we can plot the loss over time later."
   ]
  },
  {
   "cell_type": "code",
   "execution_count": 18,
   "metadata": {
    "id": "CIqHecNAYoaj"
   },
   "outputs": [
    {
     "name": "stdout",
     "output_type": "stream",
     "text": [
      "Epoch 1/10\n",
      "\u001b[1m34/34\u001b[0m \u001b[32m━━━━━━━━━━━━━━━━━━━━\u001b[0m\u001b[37m\u001b[0m \u001b[1m113s\u001b[0m 3s/step - accuracy: 0.0423 - loss: 4.5027 - val_accuracy: 0.0763 - val_loss: 4.3943\n",
      "Epoch 2/10\n",
      "\u001b[1m34/34\u001b[0m \u001b[32m━━━━━━━━━━━━━━━━━━━━\u001b[0m\u001b[37m\u001b[0m \u001b[1m85s\u001b[0m 3s/step - accuracy: 0.0927 - loss: 4.2709 - val_accuracy: 0.1343 - val_loss: 4.1373\n",
      "Epoch 3/10\n",
      "\u001b[1m34/34\u001b[0m \u001b[32m━━━━━━━━━━━━━━━━━━━━\u001b[0m\u001b[37m\u001b[0m \u001b[1m82s\u001b[0m 2s/step - accuracy: 0.1608 - loss: 3.9326 - val_accuracy: 0.2234 - val_loss: 3.7618\n",
      "Epoch 4/10\n",
      "\u001b[1m34/34\u001b[0m \u001b[32m━━━━━━━━━━━━━━━━━━━━\u001b[0m\u001b[37m\u001b[0m \u001b[1m81s\u001b[0m 2s/step - accuracy: 0.2218 - loss: 3.5381 - val_accuracy: 0.2707 - val_loss: 3.4405\n",
      "Epoch 5/10\n",
      "\u001b[1m34/34\u001b[0m \u001b[32m━━━━━━━━━━━━━━━━━━━━\u001b[0m\u001b[37m\u001b[0m \u001b[1m78s\u001b[0m 2s/step - accuracy: 0.2862 - loss: 3.1493 - val_accuracy: 0.3050 - val_loss: 3.1216\n",
      "Epoch 6/10\n",
      "\u001b[1m34/34\u001b[0m \u001b[32m━━━━━━━━━━━━━━━━━━━━\u001b[0m\u001b[37m\u001b[0m \u001b[1m83s\u001b[0m 2s/step - accuracy: 0.3426 - loss: 2.8003 - val_accuracy: 0.3673 - val_loss: 2.8687\n",
      "Epoch 7/10\n",
      "\u001b[1m34/34\u001b[0m \u001b[32m━━━━━━━━━━━━━━━━━━━━\u001b[0m\u001b[37m\u001b[0m \u001b[1m77s\u001b[0m 2s/step - accuracy: 0.4082 - loss: 2.4916 - val_accuracy: 0.3792 - val_loss: 2.7824\n",
      "Epoch 8/10\n",
      "\u001b[1m34/34\u001b[0m \u001b[32m━━━━━━━━━━━━━━━━━━━━\u001b[0m\u001b[37m\u001b[0m \u001b[1m80s\u001b[0m 2s/step - accuracy: 0.4494 - loss: 2.2379 - val_accuracy: 0.4006 - val_loss: 2.6401\n",
      "Epoch 9/10\n",
      "\u001b[1m34/34\u001b[0m \u001b[32m━━━━━━━━━━━━━━━━━━━━\u001b[0m\u001b[37m\u001b[0m \u001b[1m75s\u001b[0m 2s/step - accuracy: 0.4896 - loss: 2.0107 - val_accuracy: 0.4404 - val_loss: 2.5512\n",
      "Epoch 10/10\n",
      "\u001b[1m34/34\u001b[0m \u001b[32m━━━━━━━━━━━━━━━━━━━━\u001b[0m\u001b[37m\u001b[0m \u001b[1m81s\u001b[0m 2s/step - accuracy: 0.5384 - loss: 1.7994 - val_accuracy: 0.4318 - val_loss: 2.5302\n"
     ]
    }
   ],
   "source": [
    "# compile the model to use categorical cross-entropy loss function and adadelta optimizer\n",
    "model.compile(loss='categorical_crossentropy',\n",
    "              optimizer='adam',\n",
    "              metrics=['accuracy'])\n",
    "\n",
    "history = model.fit(x_train, y_train,\n",
    "                    batch_size=128,\n",
    "                    epochs=10,\n",
    "                    validation_data=(x_val, y_val))\n"
   ]
  },
  {
   "cell_type": "markdown",
   "metadata": {
    "id": "yG0CKOI1Yoao"
   },
   "source": [
    "Let's plot the validation loss and validation accuracy over time."
   ]
  },
  {
   "cell_type": "code",
   "execution_count": 19,
   "metadata": {
    "id": "_CCPq_ndYoap"
   },
   "outputs": [
    {
     "ename": "KeyError",
     "evalue": "'val_acc'",
     "output_type": "error",
     "traceback": [
      "\u001b[1;31m---------------------------------------------------------------------------\u001b[0m",
      "\u001b[1;31mKeyError\u001b[0m                                  Traceback (most recent call last)",
      "Cell \u001b[1;32mIn[19], line 8\u001b[0m\n\u001b[0;32m      5\u001b[0m ax\u001b[38;5;241m.\u001b[39mset_xlabel(\u001b[38;5;124m\"\u001b[39m\u001b[38;5;124mepochs\u001b[39m\u001b[38;5;124m\"\u001b[39m)\n\u001b[0;32m      7\u001b[0m ax2 \u001b[38;5;241m=\u001b[39m fig\u001b[38;5;241m.\u001b[39madd_subplot(\u001b[38;5;241m122\u001b[39m)\n\u001b[1;32m----> 8\u001b[0m ax2\u001b[38;5;241m.\u001b[39mplot(history\u001b[38;5;241m.\u001b[39mhistory[\u001b[38;5;124m\"\u001b[39m\u001b[38;5;124mval_acc\u001b[39m\u001b[38;5;124m\"\u001b[39m])\n\u001b[0;32m      9\u001b[0m ax2\u001b[38;5;241m.\u001b[39mset_title(\u001b[38;5;124m\"\u001b[39m\u001b[38;5;124mvalidation accuracy\u001b[39m\u001b[38;5;124m\"\u001b[39m)\n\u001b[0;32m     10\u001b[0m ax2\u001b[38;5;241m.\u001b[39mset_xlabel(\u001b[38;5;124m\"\u001b[39m\u001b[38;5;124mepochs\u001b[39m\u001b[38;5;124m\"\u001b[39m)\n",
      "\u001b[1;31mKeyError\u001b[0m: 'val_acc'"
     ]
    }
   ],
   "source": [
    "fig = plt.figure(figsize=(16,4))\n",
    "ax = fig.add_subplot(121)\n",
    "ax.plot(history.history[\"val_loss\"])\n",
    "ax.set_title(\"validation loss\")\n",
    "ax.set_xlabel(\"epochs\")\n",
    "\n",
    "ax2 = fig.add_subplot(122)\n",
    "ax2.plot(history.history[\"val_acc\"])\n",
    "ax2.set_title(\"validation accuracy\")\n",
    "ax2.set_xlabel(\"epochs\")\n",
    "ax2.set_ylim(0, 1)\n",
    "\n",
    "plt.show()"
   ]
  },
  {
   "cell_type": "markdown",
   "metadata": {
    "id": "GI7Mj6-RYoau"
   },
   "source": [
    "Notice that the validation loss begins to actually rise after around 16 epochs, even though validation accuracy remains roughly between 40% and 50%. This suggests our model begins overfitting around then, and best performance would have been achieved if we had stopped early around then. Nevertheless, our accuracy would not have likely been above 50%, and probably lower down.\n",
    "\n",
    "We can also get a final evaluation by running our model on the training set. Doing so, we get the following results:"
   ]
  },
  {
   "cell_type": "code",
   "execution_count": 20,
   "metadata": {
    "id": "8Itd5LDAYoav"
   },
   "outputs": [
    {
     "name": "stdout",
     "output_type": "stream",
     "text": [
      "Test loss: 2.640036106109619\n",
      "Test accuracy: 0.4055793881416321\n"
     ]
    }
   ],
   "source": [
    "loss, accuracy = model.evaluate(x_test, y_test, verbose=0)\n",
    "print('Test loss:', loss)\n",
    "print('Test accuracy:', accuracy)"
   ]
  },
  {
   "cell_type": "markdown",
   "metadata": {
    "id": "vIwMY_ZXYoax"
   },
   "source": [
    "Finally, we see that we have achieved a (top-1) accuracy of around 49%. That's not too bad for 6000 images, considering that if we were to use a naive strategy of taking random guesses, we would have only gotten around 1% accuracy.\n",
    "\n",
    "## Transfer learning by starting with existing network\n",
    "\n",
    "Now we can move on to the main strategy for training an image classifier on our small dataset: by starting with a larger and already trained network.\n",
    "\n",
    "To start, we will load the VGG16 from keras, which was trained on ImageNet and the weights saved online. If this is your first time loading VGG16, you'll need to wait a bit for the weights to download from the web. Once the network is loaded, we can again inspect the layers with the `summary()` method."
   ]
  },
  {
   "cell_type": "code",
   "execution_count": 21,
   "metadata": {
    "id": "KpUDAbxiYoay"
   },
   "outputs": [
    {
     "name": "stdout",
     "output_type": "stream",
     "text": [
      "Downloading data from https://storage.googleapis.com/tensorflow/keras-applications/vgg16/vgg16_weights_tf_dim_ordering_tf_kernels.h5\n",
      "\u001b[1m553467096/553467096\u001b[0m \u001b[32m━━━━━━━━━━━━━━━━━━━━\u001b[0m\u001b[37m\u001b[0m \u001b[1m895s\u001b[0m 2us/step\n"
     ]
    },
    {
     "data": {
      "text/html": [
       "<pre style=\"white-space:pre;overflow-x:auto;line-height:normal;font-family:Menlo,'DejaVu Sans Mono',consolas,'Courier New',monospace\"><span style=\"font-weight: bold\">Model: \"vgg16\"</span>\n",
       "</pre>\n"
      ],
      "text/plain": [
       "\u001b[1mModel: \"vgg16\"\u001b[0m\n"
      ]
     },
     "metadata": {},
     "output_type": "display_data"
    },
    {
     "data": {
      "text/html": [
       "<pre style=\"white-space:pre;overflow-x:auto;line-height:normal;font-family:Menlo,'DejaVu Sans Mono',consolas,'Courier New',monospace\">┏━━━━━━━━━━━━━━━━━━━━━━━━━━━━━━━━━━━━━━┳━━━━━━━━━━━━━━━━━━━━━━━━━━━━━┳━━━━━━━━━━━━━━━━━┓\n",
       "┃<span style=\"font-weight: bold\"> Layer (type)                         </span>┃<span style=\"font-weight: bold\"> Output Shape                </span>┃<span style=\"font-weight: bold\">         Param # </span>┃\n",
       "┡━━━━━━━━━━━━━━━━━━━━━━━━━━━━━━━━━━━━━━╇━━━━━━━━━━━━━━━━━━━━━━━━━━━━━╇━━━━━━━━━━━━━━━━━┩\n",
       "│ input_layer_1 (<span style=\"color: #0087ff; text-decoration-color: #0087ff\">InputLayer</span>)           │ (<span style=\"color: #00d7ff; text-decoration-color: #00d7ff\">None</span>, <span style=\"color: #00af00; text-decoration-color: #00af00\">224</span>, <span style=\"color: #00af00; text-decoration-color: #00af00\">224</span>, <span style=\"color: #00af00; text-decoration-color: #00af00\">3</span>)         │               <span style=\"color: #00af00; text-decoration-color: #00af00\">0</span> │\n",
       "├──────────────────────────────────────┼─────────────────────────────┼─────────────────┤\n",
       "│ block1_conv1 (<span style=\"color: #0087ff; text-decoration-color: #0087ff\">Conv2D</span>)                │ (<span style=\"color: #00d7ff; text-decoration-color: #00d7ff\">None</span>, <span style=\"color: #00af00; text-decoration-color: #00af00\">224</span>, <span style=\"color: #00af00; text-decoration-color: #00af00\">224</span>, <span style=\"color: #00af00; text-decoration-color: #00af00\">64</span>)        │           <span style=\"color: #00af00; text-decoration-color: #00af00\">1,792</span> │\n",
       "├──────────────────────────────────────┼─────────────────────────────┼─────────────────┤\n",
       "│ block1_conv2 (<span style=\"color: #0087ff; text-decoration-color: #0087ff\">Conv2D</span>)                │ (<span style=\"color: #00d7ff; text-decoration-color: #00d7ff\">None</span>, <span style=\"color: #00af00; text-decoration-color: #00af00\">224</span>, <span style=\"color: #00af00; text-decoration-color: #00af00\">224</span>, <span style=\"color: #00af00; text-decoration-color: #00af00\">64</span>)        │          <span style=\"color: #00af00; text-decoration-color: #00af00\">36,928</span> │\n",
       "├──────────────────────────────────────┼─────────────────────────────┼─────────────────┤\n",
       "│ block1_pool (<span style=\"color: #0087ff; text-decoration-color: #0087ff\">MaxPooling2D</span>)           │ (<span style=\"color: #00d7ff; text-decoration-color: #00d7ff\">None</span>, <span style=\"color: #00af00; text-decoration-color: #00af00\">112</span>, <span style=\"color: #00af00; text-decoration-color: #00af00\">112</span>, <span style=\"color: #00af00; text-decoration-color: #00af00\">64</span>)        │               <span style=\"color: #00af00; text-decoration-color: #00af00\">0</span> │\n",
       "├──────────────────────────────────────┼─────────────────────────────┼─────────────────┤\n",
       "│ block2_conv1 (<span style=\"color: #0087ff; text-decoration-color: #0087ff\">Conv2D</span>)                │ (<span style=\"color: #00d7ff; text-decoration-color: #00d7ff\">None</span>, <span style=\"color: #00af00; text-decoration-color: #00af00\">112</span>, <span style=\"color: #00af00; text-decoration-color: #00af00\">112</span>, <span style=\"color: #00af00; text-decoration-color: #00af00\">128</span>)       │          <span style=\"color: #00af00; text-decoration-color: #00af00\">73,856</span> │\n",
       "├──────────────────────────────────────┼─────────────────────────────┼─────────────────┤\n",
       "│ block2_conv2 (<span style=\"color: #0087ff; text-decoration-color: #0087ff\">Conv2D</span>)                │ (<span style=\"color: #00d7ff; text-decoration-color: #00d7ff\">None</span>, <span style=\"color: #00af00; text-decoration-color: #00af00\">112</span>, <span style=\"color: #00af00; text-decoration-color: #00af00\">112</span>, <span style=\"color: #00af00; text-decoration-color: #00af00\">128</span>)       │         <span style=\"color: #00af00; text-decoration-color: #00af00\">147,584</span> │\n",
       "├──────────────────────────────────────┼─────────────────────────────┼─────────────────┤\n",
       "│ block2_pool (<span style=\"color: #0087ff; text-decoration-color: #0087ff\">MaxPooling2D</span>)           │ (<span style=\"color: #00d7ff; text-decoration-color: #00d7ff\">None</span>, <span style=\"color: #00af00; text-decoration-color: #00af00\">56</span>, <span style=\"color: #00af00; text-decoration-color: #00af00\">56</span>, <span style=\"color: #00af00; text-decoration-color: #00af00\">128</span>)         │               <span style=\"color: #00af00; text-decoration-color: #00af00\">0</span> │\n",
       "├──────────────────────────────────────┼─────────────────────────────┼─────────────────┤\n",
       "│ block3_conv1 (<span style=\"color: #0087ff; text-decoration-color: #0087ff\">Conv2D</span>)                │ (<span style=\"color: #00d7ff; text-decoration-color: #00d7ff\">None</span>, <span style=\"color: #00af00; text-decoration-color: #00af00\">56</span>, <span style=\"color: #00af00; text-decoration-color: #00af00\">56</span>, <span style=\"color: #00af00; text-decoration-color: #00af00\">256</span>)         │         <span style=\"color: #00af00; text-decoration-color: #00af00\">295,168</span> │\n",
       "├──────────────────────────────────────┼─────────────────────────────┼─────────────────┤\n",
       "│ block3_conv2 (<span style=\"color: #0087ff; text-decoration-color: #0087ff\">Conv2D</span>)                │ (<span style=\"color: #00d7ff; text-decoration-color: #00d7ff\">None</span>, <span style=\"color: #00af00; text-decoration-color: #00af00\">56</span>, <span style=\"color: #00af00; text-decoration-color: #00af00\">56</span>, <span style=\"color: #00af00; text-decoration-color: #00af00\">256</span>)         │         <span style=\"color: #00af00; text-decoration-color: #00af00\">590,080</span> │\n",
       "├──────────────────────────────────────┼─────────────────────────────┼─────────────────┤\n",
       "│ block3_conv3 (<span style=\"color: #0087ff; text-decoration-color: #0087ff\">Conv2D</span>)                │ (<span style=\"color: #00d7ff; text-decoration-color: #00d7ff\">None</span>, <span style=\"color: #00af00; text-decoration-color: #00af00\">56</span>, <span style=\"color: #00af00; text-decoration-color: #00af00\">56</span>, <span style=\"color: #00af00; text-decoration-color: #00af00\">256</span>)         │         <span style=\"color: #00af00; text-decoration-color: #00af00\">590,080</span> │\n",
       "├──────────────────────────────────────┼─────────────────────────────┼─────────────────┤\n",
       "│ block3_pool (<span style=\"color: #0087ff; text-decoration-color: #0087ff\">MaxPooling2D</span>)           │ (<span style=\"color: #00d7ff; text-decoration-color: #00d7ff\">None</span>, <span style=\"color: #00af00; text-decoration-color: #00af00\">28</span>, <span style=\"color: #00af00; text-decoration-color: #00af00\">28</span>, <span style=\"color: #00af00; text-decoration-color: #00af00\">256</span>)         │               <span style=\"color: #00af00; text-decoration-color: #00af00\">0</span> │\n",
       "├──────────────────────────────────────┼─────────────────────────────┼─────────────────┤\n",
       "│ block4_conv1 (<span style=\"color: #0087ff; text-decoration-color: #0087ff\">Conv2D</span>)                │ (<span style=\"color: #00d7ff; text-decoration-color: #00d7ff\">None</span>, <span style=\"color: #00af00; text-decoration-color: #00af00\">28</span>, <span style=\"color: #00af00; text-decoration-color: #00af00\">28</span>, <span style=\"color: #00af00; text-decoration-color: #00af00\">512</span>)         │       <span style=\"color: #00af00; text-decoration-color: #00af00\">1,180,160</span> │\n",
       "├──────────────────────────────────────┼─────────────────────────────┼─────────────────┤\n",
       "│ block4_conv2 (<span style=\"color: #0087ff; text-decoration-color: #0087ff\">Conv2D</span>)                │ (<span style=\"color: #00d7ff; text-decoration-color: #00d7ff\">None</span>, <span style=\"color: #00af00; text-decoration-color: #00af00\">28</span>, <span style=\"color: #00af00; text-decoration-color: #00af00\">28</span>, <span style=\"color: #00af00; text-decoration-color: #00af00\">512</span>)         │       <span style=\"color: #00af00; text-decoration-color: #00af00\">2,359,808</span> │\n",
       "├──────────────────────────────────────┼─────────────────────────────┼─────────────────┤\n",
       "│ block4_conv3 (<span style=\"color: #0087ff; text-decoration-color: #0087ff\">Conv2D</span>)                │ (<span style=\"color: #00d7ff; text-decoration-color: #00d7ff\">None</span>, <span style=\"color: #00af00; text-decoration-color: #00af00\">28</span>, <span style=\"color: #00af00; text-decoration-color: #00af00\">28</span>, <span style=\"color: #00af00; text-decoration-color: #00af00\">512</span>)         │       <span style=\"color: #00af00; text-decoration-color: #00af00\">2,359,808</span> │\n",
       "├──────────────────────────────────────┼─────────────────────────────┼─────────────────┤\n",
       "│ block4_pool (<span style=\"color: #0087ff; text-decoration-color: #0087ff\">MaxPooling2D</span>)           │ (<span style=\"color: #00d7ff; text-decoration-color: #00d7ff\">None</span>, <span style=\"color: #00af00; text-decoration-color: #00af00\">14</span>, <span style=\"color: #00af00; text-decoration-color: #00af00\">14</span>, <span style=\"color: #00af00; text-decoration-color: #00af00\">512</span>)         │               <span style=\"color: #00af00; text-decoration-color: #00af00\">0</span> │\n",
       "├──────────────────────────────────────┼─────────────────────────────┼─────────────────┤\n",
       "│ block5_conv1 (<span style=\"color: #0087ff; text-decoration-color: #0087ff\">Conv2D</span>)                │ (<span style=\"color: #00d7ff; text-decoration-color: #00d7ff\">None</span>, <span style=\"color: #00af00; text-decoration-color: #00af00\">14</span>, <span style=\"color: #00af00; text-decoration-color: #00af00\">14</span>, <span style=\"color: #00af00; text-decoration-color: #00af00\">512</span>)         │       <span style=\"color: #00af00; text-decoration-color: #00af00\">2,359,808</span> │\n",
       "├──────────────────────────────────────┼─────────────────────────────┼─────────────────┤\n",
       "│ block5_conv2 (<span style=\"color: #0087ff; text-decoration-color: #0087ff\">Conv2D</span>)                │ (<span style=\"color: #00d7ff; text-decoration-color: #00d7ff\">None</span>, <span style=\"color: #00af00; text-decoration-color: #00af00\">14</span>, <span style=\"color: #00af00; text-decoration-color: #00af00\">14</span>, <span style=\"color: #00af00; text-decoration-color: #00af00\">512</span>)         │       <span style=\"color: #00af00; text-decoration-color: #00af00\">2,359,808</span> │\n",
       "├──────────────────────────────────────┼─────────────────────────────┼─────────────────┤\n",
       "│ block5_conv3 (<span style=\"color: #0087ff; text-decoration-color: #0087ff\">Conv2D</span>)                │ (<span style=\"color: #00d7ff; text-decoration-color: #00d7ff\">None</span>, <span style=\"color: #00af00; text-decoration-color: #00af00\">14</span>, <span style=\"color: #00af00; text-decoration-color: #00af00\">14</span>, <span style=\"color: #00af00; text-decoration-color: #00af00\">512</span>)         │       <span style=\"color: #00af00; text-decoration-color: #00af00\">2,359,808</span> │\n",
       "├──────────────────────────────────────┼─────────────────────────────┼─────────────────┤\n",
       "│ block5_pool (<span style=\"color: #0087ff; text-decoration-color: #0087ff\">MaxPooling2D</span>)           │ (<span style=\"color: #00d7ff; text-decoration-color: #00d7ff\">None</span>, <span style=\"color: #00af00; text-decoration-color: #00af00\">7</span>, <span style=\"color: #00af00; text-decoration-color: #00af00\">7</span>, <span style=\"color: #00af00; text-decoration-color: #00af00\">512</span>)           │               <span style=\"color: #00af00; text-decoration-color: #00af00\">0</span> │\n",
       "├──────────────────────────────────────┼─────────────────────────────┼─────────────────┤\n",
       "│ flatten (<span style=\"color: #0087ff; text-decoration-color: #0087ff\">Flatten</span>)                    │ (<span style=\"color: #00d7ff; text-decoration-color: #00d7ff\">None</span>, <span style=\"color: #00af00; text-decoration-color: #00af00\">25088</span>)               │               <span style=\"color: #00af00; text-decoration-color: #00af00\">0</span> │\n",
       "├──────────────────────────────────────┼─────────────────────────────┼─────────────────┤\n",
       "│ fc1 (<span style=\"color: #0087ff; text-decoration-color: #0087ff\">Dense</span>)                          │ (<span style=\"color: #00d7ff; text-decoration-color: #00d7ff\">None</span>, <span style=\"color: #00af00; text-decoration-color: #00af00\">4096</span>)                │     <span style=\"color: #00af00; text-decoration-color: #00af00\">102,764,544</span> │\n",
       "├──────────────────────────────────────┼─────────────────────────────┼─────────────────┤\n",
       "│ fc2 (<span style=\"color: #0087ff; text-decoration-color: #0087ff\">Dense</span>)                          │ (<span style=\"color: #00d7ff; text-decoration-color: #00d7ff\">None</span>, <span style=\"color: #00af00; text-decoration-color: #00af00\">4096</span>)                │      <span style=\"color: #00af00; text-decoration-color: #00af00\">16,781,312</span> │\n",
       "├──────────────────────────────────────┼─────────────────────────────┼─────────────────┤\n",
       "│ predictions (<span style=\"color: #0087ff; text-decoration-color: #0087ff\">Dense</span>)                  │ (<span style=\"color: #00d7ff; text-decoration-color: #00d7ff\">None</span>, <span style=\"color: #00af00; text-decoration-color: #00af00\">1000</span>)                │       <span style=\"color: #00af00; text-decoration-color: #00af00\">4,097,000</span> │\n",
       "└──────────────────────────────────────┴─────────────────────────────┴─────────────────┘\n",
       "</pre>\n"
      ],
      "text/plain": [
       "┏━━━━━━━━━━━━━━━━━━━━━━━━━━━━━━━━━━━━━━┳━━━━━━━━━━━━━━━━━━━━━━━━━━━━━┳━━━━━━━━━━━━━━━━━┓\n",
       "┃\u001b[1m \u001b[0m\u001b[1mLayer (type)                        \u001b[0m\u001b[1m \u001b[0m┃\u001b[1m \u001b[0m\u001b[1mOutput Shape               \u001b[0m\u001b[1m \u001b[0m┃\u001b[1m \u001b[0m\u001b[1m        Param #\u001b[0m\u001b[1m \u001b[0m┃\n",
       "┡━━━━━━━━━━━━━━━━━━━━━━━━━━━━━━━━━━━━━━╇━━━━━━━━━━━━━━━━━━━━━━━━━━━━━╇━━━━━━━━━━━━━━━━━┩\n",
       "│ input_layer_1 (\u001b[38;5;33mInputLayer\u001b[0m)           │ (\u001b[38;5;45mNone\u001b[0m, \u001b[38;5;34m224\u001b[0m, \u001b[38;5;34m224\u001b[0m, \u001b[38;5;34m3\u001b[0m)         │               \u001b[38;5;34m0\u001b[0m │\n",
       "├──────────────────────────────────────┼─────────────────────────────┼─────────────────┤\n",
       "│ block1_conv1 (\u001b[38;5;33mConv2D\u001b[0m)                │ (\u001b[38;5;45mNone\u001b[0m, \u001b[38;5;34m224\u001b[0m, \u001b[38;5;34m224\u001b[0m, \u001b[38;5;34m64\u001b[0m)        │           \u001b[38;5;34m1,792\u001b[0m │\n",
       "├──────────────────────────────────────┼─────────────────────────────┼─────────────────┤\n",
       "│ block1_conv2 (\u001b[38;5;33mConv2D\u001b[0m)                │ (\u001b[38;5;45mNone\u001b[0m, \u001b[38;5;34m224\u001b[0m, \u001b[38;5;34m224\u001b[0m, \u001b[38;5;34m64\u001b[0m)        │          \u001b[38;5;34m36,928\u001b[0m │\n",
       "├──────────────────────────────────────┼─────────────────────────────┼─────────────────┤\n",
       "│ block1_pool (\u001b[38;5;33mMaxPooling2D\u001b[0m)           │ (\u001b[38;5;45mNone\u001b[0m, \u001b[38;5;34m112\u001b[0m, \u001b[38;5;34m112\u001b[0m, \u001b[38;5;34m64\u001b[0m)        │               \u001b[38;5;34m0\u001b[0m │\n",
       "├──────────────────────────────────────┼─────────────────────────────┼─────────────────┤\n",
       "│ block2_conv1 (\u001b[38;5;33mConv2D\u001b[0m)                │ (\u001b[38;5;45mNone\u001b[0m, \u001b[38;5;34m112\u001b[0m, \u001b[38;5;34m112\u001b[0m, \u001b[38;5;34m128\u001b[0m)       │          \u001b[38;5;34m73,856\u001b[0m │\n",
       "├──────────────────────────────────────┼─────────────────────────────┼─────────────────┤\n",
       "│ block2_conv2 (\u001b[38;5;33mConv2D\u001b[0m)                │ (\u001b[38;5;45mNone\u001b[0m, \u001b[38;5;34m112\u001b[0m, \u001b[38;5;34m112\u001b[0m, \u001b[38;5;34m128\u001b[0m)       │         \u001b[38;5;34m147,584\u001b[0m │\n",
       "├──────────────────────────────────────┼─────────────────────────────┼─────────────────┤\n",
       "│ block2_pool (\u001b[38;5;33mMaxPooling2D\u001b[0m)           │ (\u001b[38;5;45mNone\u001b[0m, \u001b[38;5;34m56\u001b[0m, \u001b[38;5;34m56\u001b[0m, \u001b[38;5;34m128\u001b[0m)         │               \u001b[38;5;34m0\u001b[0m │\n",
       "├──────────────────────────────────────┼─────────────────────────────┼─────────────────┤\n",
       "│ block3_conv1 (\u001b[38;5;33mConv2D\u001b[0m)                │ (\u001b[38;5;45mNone\u001b[0m, \u001b[38;5;34m56\u001b[0m, \u001b[38;5;34m56\u001b[0m, \u001b[38;5;34m256\u001b[0m)         │         \u001b[38;5;34m295,168\u001b[0m │\n",
       "├──────────────────────────────────────┼─────────────────────────────┼─────────────────┤\n",
       "│ block3_conv2 (\u001b[38;5;33mConv2D\u001b[0m)                │ (\u001b[38;5;45mNone\u001b[0m, \u001b[38;5;34m56\u001b[0m, \u001b[38;5;34m56\u001b[0m, \u001b[38;5;34m256\u001b[0m)         │         \u001b[38;5;34m590,080\u001b[0m │\n",
       "├──────────────────────────────────────┼─────────────────────────────┼─────────────────┤\n",
       "│ block3_conv3 (\u001b[38;5;33mConv2D\u001b[0m)                │ (\u001b[38;5;45mNone\u001b[0m, \u001b[38;5;34m56\u001b[0m, \u001b[38;5;34m56\u001b[0m, \u001b[38;5;34m256\u001b[0m)         │         \u001b[38;5;34m590,080\u001b[0m │\n",
       "├──────────────────────────────────────┼─────────────────────────────┼─────────────────┤\n",
       "│ block3_pool (\u001b[38;5;33mMaxPooling2D\u001b[0m)           │ (\u001b[38;5;45mNone\u001b[0m, \u001b[38;5;34m28\u001b[0m, \u001b[38;5;34m28\u001b[0m, \u001b[38;5;34m256\u001b[0m)         │               \u001b[38;5;34m0\u001b[0m │\n",
       "├──────────────────────────────────────┼─────────────────────────────┼─────────────────┤\n",
       "│ block4_conv1 (\u001b[38;5;33mConv2D\u001b[0m)                │ (\u001b[38;5;45mNone\u001b[0m, \u001b[38;5;34m28\u001b[0m, \u001b[38;5;34m28\u001b[0m, \u001b[38;5;34m512\u001b[0m)         │       \u001b[38;5;34m1,180,160\u001b[0m │\n",
       "├──────────────────────────────────────┼─────────────────────────────┼─────────────────┤\n",
       "│ block4_conv2 (\u001b[38;5;33mConv2D\u001b[0m)                │ (\u001b[38;5;45mNone\u001b[0m, \u001b[38;5;34m28\u001b[0m, \u001b[38;5;34m28\u001b[0m, \u001b[38;5;34m512\u001b[0m)         │       \u001b[38;5;34m2,359,808\u001b[0m │\n",
       "├──────────────────────────────────────┼─────────────────────────────┼─────────────────┤\n",
       "│ block4_conv3 (\u001b[38;5;33mConv2D\u001b[0m)                │ (\u001b[38;5;45mNone\u001b[0m, \u001b[38;5;34m28\u001b[0m, \u001b[38;5;34m28\u001b[0m, \u001b[38;5;34m512\u001b[0m)         │       \u001b[38;5;34m2,359,808\u001b[0m │\n",
       "├──────────────────────────────────────┼─────────────────────────────┼─────────────────┤\n",
       "│ block4_pool (\u001b[38;5;33mMaxPooling2D\u001b[0m)           │ (\u001b[38;5;45mNone\u001b[0m, \u001b[38;5;34m14\u001b[0m, \u001b[38;5;34m14\u001b[0m, \u001b[38;5;34m512\u001b[0m)         │               \u001b[38;5;34m0\u001b[0m │\n",
       "├──────────────────────────────────────┼─────────────────────────────┼─────────────────┤\n",
       "│ block5_conv1 (\u001b[38;5;33mConv2D\u001b[0m)                │ (\u001b[38;5;45mNone\u001b[0m, \u001b[38;5;34m14\u001b[0m, \u001b[38;5;34m14\u001b[0m, \u001b[38;5;34m512\u001b[0m)         │       \u001b[38;5;34m2,359,808\u001b[0m │\n",
       "├──────────────────────────────────────┼─────────────────────────────┼─────────────────┤\n",
       "│ block5_conv2 (\u001b[38;5;33mConv2D\u001b[0m)                │ (\u001b[38;5;45mNone\u001b[0m, \u001b[38;5;34m14\u001b[0m, \u001b[38;5;34m14\u001b[0m, \u001b[38;5;34m512\u001b[0m)         │       \u001b[38;5;34m2,359,808\u001b[0m │\n",
       "├──────────────────────────────────────┼─────────────────────────────┼─────────────────┤\n",
       "│ block5_conv3 (\u001b[38;5;33mConv2D\u001b[0m)                │ (\u001b[38;5;45mNone\u001b[0m, \u001b[38;5;34m14\u001b[0m, \u001b[38;5;34m14\u001b[0m, \u001b[38;5;34m512\u001b[0m)         │       \u001b[38;5;34m2,359,808\u001b[0m │\n",
       "├──────────────────────────────────────┼─────────────────────────────┼─────────────────┤\n",
       "│ block5_pool (\u001b[38;5;33mMaxPooling2D\u001b[0m)           │ (\u001b[38;5;45mNone\u001b[0m, \u001b[38;5;34m7\u001b[0m, \u001b[38;5;34m7\u001b[0m, \u001b[38;5;34m512\u001b[0m)           │               \u001b[38;5;34m0\u001b[0m │\n",
       "├──────────────────────────────────────┼─────────────────────────────┼─────────────────┤\n",
       "│ flatten (\u001b[38;5;33mFlatten\u001b[0m)                    │ (\u001b[38;5;45mNone\u001b[0m, \u001b[38;5;34m25088\u001b[0m)               │               \u001b[38;5;34m0\u001b[0m │\n",
       "├──────────────────────────────────────┼─────────────────────────────┼─────────────────┤\n",
       "│ fc1 (\u001b[38;5;33mDense\u001b[0m)                          │ (\u001b[38;5;45mNone\u001b[0m, \u001b[38;5;34m4096\u001b[0m)                │     \u001b[38;5;34m102,764,544\u001b[0m │\n",
       "├──────────────────────────────────────┼─────────────────────────────┼─────────────────┤\n",
       "│ fc2 (\u001b[38;5;33mDense\u001b[0m)                          │ (\u001b[38;5;45mNone\u001b[0m, \u001b[38;5;34m4096\u001b[0m)                │      \u001b[38;5;34m16,781,312\u001b[0m │\n",
       "├──────────────────────────────────────┼─────────────────────────────┼─────────────────┤\n",
       "│ predictions (\u001b[38;5;33mDense\u001b[0m)                  │ (\u001b[38;5;45mNone\u001b[0m, \u001b[38;5;34m1000\u001b[0m)                │       \u001b[38;5;34m4,097,000\u001b[0m │\n",
       "└──────────────────────────────────────┴─────────────────────────────┴─────────────────┘\n"
      ]
     },
     "metadata": {},
     "output_type": "display_data"
    },
    {
     "data": {
      "text/html": [
       "<pre style=\"white-space:pre;overflow-x:auto;line-height:normal;font-family:Menlo,'DejaVu Sans Mono',consolas,'Courier New',monospace\"><span style=\"font-weight: bold\"> Total params: </span><span style=\"color: #00af00; text-decoration-color: #00af00\">138,357,544</span> (527.79 MB)\n",
       "</pre>\n"
      ],
      "text/plain": [
       "\u001b[1m Total params: \u001b[0m\u001b[38;5;34m138,357,544\u001b[0m (527.79 MB)\n"
      ]
     },
     "metadata": {},
     "output_type": "display_data"
    },
    {
     "data": {
      "text/html": [
       "<pre style=\"white-space:pre;overflow-x:auto;line-height:normal;font-family:Menlo,'DejaVu Sans Mono',consolas,'Courier New',monospace\"><span style=\"font-weight: bold\"> Trainable params: </span><span style=\"color: #00af00; text-decoration-color: #00af00\">138,357,544</span> (527.79 MB)\n",
       "</pre>\n"
      ],
      "text/plain": [
       "\u001b[1m Trainable params: \u001b[0m\u001b[38;5;34m138,357,544\u001b[0m (527.79 MB)\n"
      ]
     },
     "metadata": {},
     "output_type": "display_data"
    },
    {
     "data": {
      "text/html": [
       "<pre style=\"white-space:pre;overflow-x:auto;line-height:normal;font-family:Menlo,'DejaVu Sans Mono',consolas,'Courier New',monospace\"><span style=\"font-weight: bold\"> Non-trainable params: </span><span style=\"color: #00af00; text-decoration-color: #00af00\">0</span> (0.00 B)\n",
       "</pre>\n"
      ],
      "text/plain": [
       "\u001b[1m Non-trainable params: \u001b[0m\u001b[38;5;34m0\u001b[0m (0.00 B)\n"
      ]
     },
     "metadata": {},
     "output_type": "display_data"
    }
   ],
   "source": [
    "vgg = keras.applications.VGG16(weights='imagenet', include_top=True)\n",
    "vgg.summary()"
   ]
  },
  {
   "cell_type": "markdown",
   "metadata": {
    "id": "hLXTofcNYoa2"
   },
   "source": [
    "Notice that VGG16 is _much_ bigger than the network we constructed earlier. It contains 13 convolutional layers and two fully connected layers at the end, and has over 138 million parameters, around 100 times as many parameters than the network we made above. Like our first network, the majority of the parameters are stored in the connections leading into the first fully-connected layer.\n",
    "\n",
    "VGG16 was made to solve ImageNet, and achieves a [8.8% top-5 error rate](https://github.com/jcjohnson/cnn-benchmarks), which means that 91.2% of test samples were classified correctly within the top 5 predictions for each image. It's top-1 accuracy--equivalent to the accuracy metric we've been using (that the top prediction is correct)--is 73%. This is especially impressive since there are not just 97, but 1000 classes, meaning that random guesses would get us only 0.1% accuracy.\n",
    "\n",
    "In order to use this network for our task, we \"remove\" the final classification layer, the 1000-neuron softmax layer at the end, which corresponds to ImageNet, and instead replace it with a new softmax layer for our dataset, which contains 97 neurons in the case of the 101_ObjectCategories dataset.\n",
    "\n",
    "In terms of implementation, it's easier to simply create a copy of VGG from its input layer until the second to last layer, and then work with that, rather than modifying the VGG object directly. So technically we never \"remove\" anything, we just circumvent/ignore it. This can be done in the following way, by using the keras `Model` class to initialize a new model whose input layer is the same as VGG but whose output layer is our new softmax layer, called `new_classification_layer`. Note: although it appears we are duplicating this large network, internally Keras is actually just copying all the layers by reference, and thus we don't need to worry about overloading the memory."
   ]
  },
  {
   "cell_type": "code",
   "execution_count": 22,
   "metadata": {
    "id": "rFL-fLitYoa3"
   },
   "outputs": [],
   "source": [
    "# make a reference to VGG's input layer\n",
    "inp = vgg.input\n",
    "\n",
    "# make a new softmax layer with num_classes neurons\n",
    "new_classification_layer = Dense(num_classes, activation='softmax')\n",
    "\n",
    "# connect our new layer to the second to last layer in VGG, and make a reference to it\n",
    "out = new_classification_layer(vgg.layers[-2].output)\n",
    "\n",
    "# create a new network between inp and out\n",
    "model_new = Model(inp, out)\n"
   ]
  },
  {
   "cell_type": "markdown",
   "metadata": {
    "id": "MBIp3fbQYoa9"
   },
   "source": [
    "We are going to retrain this network, `model_new` on the new dataset and labels. But first, we need to freeze the weights and biases in all the layers in the network, except our new one at the end, with the expectation that the features that were learned in VGG should still be fairly relevant to the new image classification task. Not optimal, but most likely better than what we can train to in our limited dataset.\n",
    "\n",
    "By setting the `trainable` flag in each layer false (except our new classification layer), we ensure all the weights and biases in those layers remain fixed, and we simply train the weights in the one layer at the end. In some cases, it is desirable to *not* freeze all the pre-classification layers. If your dataset has enough samples, and doesn't resemble ImageNet very much, it might be advantageous to fine-tune some of the VGG layers along with the new classifier, or possibly even all of them. To do this, you can change the below code to make more of the layers trainable.\n",
    "\n",
    "In the case of CalTech-101, we will just do feature extraction, fearing that fine-tuning too much with this dataset may overfit. But maybe we are wrong? A good exercise would be to try out both, and compare the results.\n",
    "\n",
    "So we go ahead and freeze the layers, and compile the new model with exactly the same optimizer and loss function as in our first network, for the sake of a fair comparison. We then run `summary` again to look at the network's architecture."
   ]
  },
  {
   "cell_type": "code",
   "execution_count": 23,
   "metadata": {
    "id": "e_n5A8oGYoa9"
   },
   "outputs": [
    {
     "data": {
      "text/html": [
       "<pre style=\"white-space:pre;overflow-x:auto;line-height:normal;font-family:Menlo,'DejaVu Sans Mono',consolas,'Courier New',monospace\"><span style=\"font-weight: bold\">Model: \"functional_20\"</span>\n",
       "</pre>\n"
      ],
      "text/plain": [
       "\u001b[1mModel: \"functional_20\"\u001b[0m\n"
      ]
     },
     "metadata": {},
     "output_type": "display_data"
    },
    {
     "data": {
      "text/html": [
       "<pre style=\"white-space:pre;overflow-x:auto;line-height:normal;font-family:Menlo,'DejaVu Sans Mono',consolas,'Courier New',monospace\">┏━━━━━━━━━━━━━━━━━━━━━━━━━━━━━━━━━━━━━━┳━━━━━━━━━━━━━━━━━━━━━━━━━━━━━┳━━━━━━━━━━━━━━━━━┓\n",
       "┃<span style=\"font-weight: bold\"> Layer (type)                         </span>┃<span style=\"font-weight: bold\"> Output Shape                </span>┃<span style=\"font-weight: bold\">         Param # </span>┃\n",
       "┡━━━━━━━━━━━━━━━━━━━━━━━━━━━━━━━━━━━━━━╇━━━━━━━━━━━━━━━━━━━━━━━━━━━━━╇━━━━━━━━━━━━━━━━━┩\n",
       "│ input_layer_1 (<span style=\"color: #0087ff; text-decoration-color: #0087ff\">InputLayer</span>)           │ (<span style=\"color: #00d7ff; text-decoration-color: #00d7ff\">None</span>, <span style=\"color: #00af00; text-decoration-color: #00af00\">224</span>, <span style=\"color: #00af00; text-decoration-color: #00af00\">224</span>, <span style=\"color: #00af00; text-decoration-color: #00af00\">3</span>)         │               <span style=\"color: #00af00; text-decoration-color: #00af00\">0</span> │\n",
       "├──────────────────────────────────────┼─────────────────────────────┼─────────────────┤\n",
       "│ block1_conv1 (<span style=\"color: #0087ff; text-decoration-color: #0087ff\">Conv2D</span>)                │ (<span style=\"color: #00d7ff; text-decoration-color: #00d7ff\">None</span>, <span style=\"color: #00af00; text-decoration-color: #00af00\">224</span>, <span style=\"color: #00af00; text-decoration-color: #00af00\">224</span>, <span style=\"color: #00af00; text-decoration-color: #00af00\">64</span>)        │           <span style=\"color: #00af00; text-decoration-color: #00af00\">1,792</span> │\n",
       "├──────────────────────────────────────┼─────────────────────────────┼─────────────────┤\n",
       "│ block1_conv2 (<span style=\"color: #0087ff; text-decoration-color: #0087ff\">Conv2D</span>)                │ (<span style=\"color: #00d7ff; text-decoration-color: #00d7ff\">None</span>, <span style=\"color: #00af00; text-decoration-color: #00af00\">224</span>, <span style=\"color: #00af00; text-decoration-color: #00af00\">224</span>, <span style=\"color: #00af00; text-decoration-color: #00af00\">64</span>)        │          <span style=\"color: #00af00; text-decoration-color: #00af00\">36,928</span> │\n",
       "├──────────────────────────────────────┼─────────────────────────────┼─────────────────┤\n",
       "│ block1_pool (<span style=\"color: #0087ff; text-decoration-color: #0087ff\">MaxPooling2D</span>)           │ (<span style=\"color: #00d7ff; text-decoration-color: #00d7ff\">None</span>, <span style=\"color: #00af00; text-decoration-color: #00af00\">112</span>, <span style=\"color: #00af00; text-decoration-color: #00af00\">112</span>, <span style=\"color: #00af00; text-decoration-color: #00af00\">64</span>)        │               <span style=\"color: #00af00; text-decoration-color: #00af00\">0</span> │\n",
       "├──────────────────────────────────────┼─────────────────────────────┼─────────────────┤\n",
       "│ block2_conv1 (<span style=\"color: #0087ff; text-decoration-color: #0087ff\">Conv2D</span>)                │ (<span style=\"color: #00d7ff; text-decoration-color: #00d7ff\">None</span>, <span style=\"color: #00af00; text-decoration-color: #00af00\">112</span>, <span style=\"color: #00af00; text-decoration-color: #00af00\">112</span>, <span style=\"color: #00af00; text-decoration-color: #00af00\">128</span>)       │          <span style=\"color: #00af00; text-decoration-color: #00af00\">73,856</span> │\n",
       "├──────────────────────────────────────┼─────────────────────────────┼─────────────────┤\n",
       "│ block2_conv2 (<span style=\"color: #0087ff; text-decoration-color: #0087ff\">Conv2D</span>)                │ (<span style=\"color: #00d7ff; text-decoration-color: #00d7ff\">None</span>, <span style=\"color: #00af00; text-decoration-color: #00af00\">112</span>, <span style=\"color: #00af00; text-decoration-color: #00af00\">112</span>, <span style=\"color: #00af00; text-decoration-color: #00af00\">128</span>)       │         <span style=\"color: #00af00; text-decoration-color: #00af00\">147,584</span> │\n",
       "├──────────────────────────────────────┼─────────────────────────────┼─────────────────┤\n",
       "│ block2_pool (<span style=\"color: #0087ff; text-decoration-color: #0087ff\">MaxPooling2D</span>)           │ (<span style=\"color: #00d7ff; text-decoration-color: #00d7ff\">None</span>, <span style=\"color: #00af00; text-decoration-color: #00af00\">56</span>, <span style=\"color: #00af00; text-decoration-color: #00af00\">56</span>, <span style=\"color: #00af00; text-decoration-color: #00af00\">128</span>)         │               <span style=\"color: #00af00; text-decoration-color: #00af00\">0</span> │\n",
       "├──────────────────────────────────────┼─────────────────────────────┼─────────────────┤\n",
       "│ block3_conv1 (<span style=\"color: #0087ff; text-decoration-color: #0087ff\">Conv2D</span>)                │ (<span style=\"color: #00d7ff; text-decoration-color: #00d7ff\">None</span>, <span style=\"color: #00af00; text-decoration-color: #00af00\">56</span>, <span style=\"color: #00af00; text-decoration-color: #00af00\">56</span>, <span style=\"color: #00af00; text-decoration-color: #00af00\">256</span>)         │         <span style=\"color: #00af00; text-decoration-color: #00af00\">295,168</span> │\n",
       "├──────────────────────────────────────┼─────────────────────────────┼─────────────────┤\n",
       "│ block3_conv2 (<span style=\"color: #0087ff; text-decoration-color: #0087ff\">Conv2D</span>)                │ (<span style=\"color: #00d7ff; text-decoration-color: #00d7ff\">None</span>, <span style=\"color: #00af00; text-decoration-color: #00af00\">56</span>, <span style=\"color: #00af00; text-decoration-color: #00af00\">56</span>, <span style=\"color: #00af00; text-decoration-color: #00af00\">256</span>)         │         <span style=\"color: #00af00; text-decoration-color: #00af00\">590,080</span> │\n",
       "├──────────────────────────────────────┼─────────────────────────────┼─────────────────┤\n",
       "│ block3_conv3 (<span style=\"color: #0087ff; text-decoration-color: #0087ff\">Conv2D</span>)                │ (<span style=\"color: #00d7ff; text-decoration-color: #00d7ff\">None</span>, <span style=\"color: #00af00; text-decoration-color: #00af00\">56</span>, <span style=\"color: #00af00; text-decoration-color: #00af00\">56</span>, <span style=\"color: #00af00; text-decoration-color: #00af00\">256</span>)         │         <span style=\"color: #00af00; text-decoration-color: #00af00\">590,080</span> │\n",
       "├──────────────────────────────────────┼─────────────────────────────┼─────────────────┤\n",
       "│ block3_pool (<span style=\"color: #0087ff; text-decoration-color: #0087ff\">MaxPooling2D</span>)           │ (<span style=\"color: #00d7ff; text-decoration-color: #00d7ff\">None</span>, <span style=\"color: #00af00; text-decoration-color: #00af00\">28</span>, <span style=\"color: #00af00; text-decoration-color: #00af00\">28</span>, <span style=\"color: #00af00; text-decoration-color: #00af00\">256</span>)         │               <span style=\"color: #00af00; text-decoration-color: #00af00\">0</span> │\n",
       "├──────────────────────────────────────┼─────────────────────────────┼─────────────────┤\n",
       "│ block4_conv1 (<span style=\"color: #0087ff; text-decoration-color: #0087ff\">Conv2D</span>)                │ (<span style=\"color: #00d7ff; text-decoration-color: #00d7ff\">None</span>, <span style=\"color: #00af00; text-decoration-color: #00af00\">28</span>, <span style=\"color: #00af00; text-decoration-color: #00af00\">28</span>, <span style=\"color: #00af00; text-decoration-color: #00af00\">512</span>)         │       <span style=\"color: #00af00; text-decoration-color: #00af00\">1,180,160</span> │\n",
       "├──────────────────────────────────────┼─────────────────────────────┼─────────────────┤\n",
       "│ block4_conv2 (<span style=\"color: #0087ff; text-decoration-color: #0087ff\">Conv2D</span>)                │ (<span style=\"color: #00d7ff; text-decoration-color: #00d7ff\">None</span>, <span style=\"color: #00af00; text-decoration-color: #00af00\">28</span>, <span style=\"color: #00af00; text-decoration-color: #00af00\">28</span>, <span style=\"color: #00af00; text-decoration-color: #00af00\">512</span>)         │       <span style=\"color: #00af00; text-decoration-color: #00af00\">2,359,808</span> │\n",
       "├──────────────────────────────────────┼─────────────────────────────┼─────────────────┤\n",
       "│ block4_conv3 (<span style=\"color: #0087ff; text-decoration-color: #0087ff\">Conv2D</span>)                │ (<span style=\"color: #00d7ff; text-decoration-color: #00d7ff\">None</span>, <span style=\"color: #00af00; text-decoration-color: #00af00\">28</span>, <span style=\"color: #00af00; text-decoration-color: #00af00\">28</span>, <span style=\"color: #00af00; text-decoration-color: #00af00\">512</span>)         │       <span style=\"color: #00af00; text-decoration-color: #00af00\">2,359,808</span> │\n",
       "├──────────────────────────────────────┼─────────────────────────────┼─────────────────┤\n",
       "│ block4_pool (<span style=\"color: #0087ff; text-decoration-color: #0087ff\">MaxPooling2D</span>)           │ (<span style=\"color: #00d7ff; text-decoration-color: #00d7ff\">None</span>, <span style=\"color: #00af00; text-decoration-color: #00af00\">14</span>, <span style=\"color: #00af00; text-decoration-color: #00af00\">14</span>, <span style=\"color: #00af00; text-decoration-color: #00af00\">512</span>)         │               <span style=\"color: #00af00; text-decoration-color: #00af00\">0</span> │\n",
       "├──────────────────────────────────────┼─────────────────────────────┼─────────────────┤\n",
       "│ block5_conv1 (<span style=\"color: #0087ff; text-decoration-color: #0087ff\">Conv2D</span>)                │ (<span style=\"color: #00d7ff; text-decoration-color: #00d7ff\">None</span>, <span style=\"color: #00af00; text-decoration-color: #00af00\">14</span>, <span style=\"color: #00af00; text-decoration-color: #00af00\">14</span>, <span style=\"color: #00af00; text-decoration-color: #00af00\">512</span>)         │       <span style=\"color: #00af00; text-decoration-color: #00af00\">2,359,808</span> │\n",
       "├──────────────────────────────────────┼─────────────────────────────┼─────────────────┤\n",
       "│ block5_conv2 (<span style=\"color: #0087ff; text-decoration-color: #0087ff\">Conv2D</span>)                │ (<span style=\"color: #00d7ff; text-decoration-color: #00d7ff\">None</span>, <span style=\"color: #00af00; text-decoration-color: #00af00\">14</span>, <span style=\"color: #00af00; text-decoration-color: #00af00\">14</span>, <span style=\"color: #00af00; text-decoration-color: #00af00\">512</span>)         │       <span style=\"color: #00af00; text-decoration-color: #00af00\">2,359,808</span> │\n",
       "├──────────────────────────────────────┼─────────────────────────────┼─────────────────┤\n",
       "│ block5_conv3 (<span style=\"color: #0087ff; text-decoration-color: #0087ff\">Conv2D</span>)                │ (<span style=\"color: #00d7ff; text-decoration-color: #00d7ff\">None</span>, <span style=\"color: #00af00; text-decoration-color: #00af00\">14</span>, <span style=\"color: #00af00; text-decoration-color: #00af00\">14</span>, <span style=\"color: #00af00; text-decoration-color: #00af00\">512</span>)         │       <span style=\"color: #00af00; text-decoration-color: #00af00\">2,359,808</span> │\n",
       "├──────────────────────────────────────┼─────────────────────────────┼─────────────────┤\n",
       "│ block5_pool (<span style=\"color: #0087ff; text-decoration-color: #0087ff\">MaxPooling2D</span>)           │ (<span style=\"color: #00d7ff; text-decoration-color: #00d7ff\">None</span>, <span style=\"color: #00af00; text-decoration-color: #00af00\">7</span>, <span style=\"color: #00af00; text-decoration-color: #00af00\">7</span>, <span style=\"color: #00af00; text-decoration-color: #00af00\">512</span>)           │               <span style=\"color: #00af00; text-decoration-color: #00af00\">0</span> │\n",
       "├──────────────────────────────────────┼─────────────────────────────┼─────────────────┤\n",
       "│ flatten (<span style=\"color: #0087ff; text-decoration-color: #0087ff\">Flatten</span>)                    │ (<span style=\"color: #00d7ff; text-decoration-color: #00d7ff\">None</span>, <span style=\"color: #00af00; text-decoration-color: #00af00\">25088</span>)               │               <span style=\"color: #00af00; text-decoration-color: #00af00\">0</span> │\n",
       "├──────────────────────────────────────┼─────────────────────────────┼─────────────────┤\n",
       "│ fc1 (<span style=\"color: #0087ff; text-decoration-color: #0087ff\">Dense</span>)                          │ (<span style=\"color: #00d7ff; text-decoration-color: #00d7ff\">None</span>, <span style=\"color: #00af00; text-decoration-color: #00af00\">4096</span>)                │     <span style=\"color: #00af00; text-decoration-color: #00af00\">102,764,544</span> │\n",
       "├──────────────────────────────────────┼─────────────────────────────┼─────────────────┤\n",
       "│ fc2 (<span style=\"color: #0087ff; text-decoration-color: #0087ff\">Dense</span>)                          │ (<span style=\"color: #00d7ff; text-decoration-color: #00d7ff\">None</span>, <span style=\"color: #00af00; text-decoration-color: #00af00\">4096</span>)                │      <span style=\"color: #00af00; text-decoration-color: #00af00\">16,781,312</span> │\n",
       "├──────────────────────────────────────┼─────────────────────────────┼─────────────────┤\n",
       "│ dense_2 (<span style=\"color: #0087ff; text-decoration-color: #0087ff\">Dense</span>)                      │ (<span style=\"color: #00d7ff; text-decoration-color: #00d7ff\">None</span>, <span style=\"color: #00af00; text-decoration-color: #00af00\">97</span>)                  │         <span style=\"color: #00af00; text-decoration-color: #00af00\">397,409</span> │\n",
       "└──────────────────────────────────────┴─────────────────────────────┴─────────────────┘\n",
       "</pre>\n"
      ],
      "text/plain": [
       "┏━━━━━━━━━━━━━━━━━━━━━━━━━━━━━━━━━━━━━━┳━━━━━━━━━━━━━━━━━━━━━━━━━━━━━┳━━━━━━━━━━━━━━━━━┓\n",
       "┃\u001b[1m \u001b[0m\u001b[1mLayer (type)                        \u001b[0m\u001b[1m \u001b[0m┃\u001b[1m \u001b[0m\u001b[1mOutput Shape               \u001b[0m\u001b[1m \u001b[0m┃\u001b[1m \u001b[0m\u001b[1m        Param #\u001b[0m\u001b[1m \u001b[0m┃\n",
       "┡━━━━━━━━━━━━━━━━━━━━━━━━━━━━━━━━━━━━━━╇━━━━━━━━━━━━━━━━━━━━━━━━━━━━━╇━━━━━━━━━━━━━━━━━┩\n",
       "│ input_layer_1 (\u001b[38;5;33mInputLayer\u001b[0m)           │ (\u001b[38;5;45mNone\u001b[0m, \u001b[38;5;34m224\u001b[0m, \u001b[38;5;34m224\u001b[0m, \u001b[38;5;34m3\u001b[0m)         │               \u001b[38;5;34m0\u001b[0m │\n",
       "├──────────────────────────────────────┼─────────────────────────────┼─────────────────┤\n",
       "│ block1_conv1 (\u001b[38;5;33mConv2D\u001b[0m)                │ (\u001b[38;5;45mNone\u001b[0m, \u001b[38;5;34m224\u001b[0m, \u001b[38;5;34m224\u001b[0m, \u001b[38;5;34m64\u001b[0m)        │           \u001b[38;5;34m1,792\u001b[0m │\n",
       "├──────────────────────────────────────┼─────────────────────────────┼─────────────────┤\n",
       "│ block1_conv2 (\u001b[38;5;33mConv2D\u001b[0m)                │ (\u001b[38;5;45mNone\u001b[0m, \u001b[38;5;34m224\u001b[0m, \u001b[38;5;34m224\u001b[0m, \u001b[38;5;34m64\u001b[0m)        │          \u001b[38;5;34m36,928\u001b[0m │\n",
       "├──────────────────────────────────────┼─────────────────────────────┼─────────────────┤\n",
       "│ block1_pool (\u001b[38;5;33mMaxPooling2D\u001b[0m)           │ (\u001b[38;5;45mNone\u001b[0m, \u001b[38;5;34m112\u001b[0m, \u001b[38;5;34m112\u001b[0m, \u001b[38;5;34m64\u001b[0m)        │               \u001b[38;5;34m0\u001b[0m │\n",
       "├──────────────────────────────────────┼─────────────────────────────┼─────────────────┤\n",
       "│ block2_conv1 (\u001b[38;5;33mConv2D\u001b[0m)                │ (\u001b[38;5;45mNone\u001b[0m, \u001b[38;5;34m112\u001b[0m, \u001b[38;5;34m112\u001b[0m, \u001b[38;5;34m128\u001b[0m)       │          \u001b[38;5;34m73,856\u001b[0m │\n",
       "├──────────────────────────────────────┼─────────────────────────────┼─────────────────┤\n",
       "│ block2_conv2 (\u001b[38;5;33mConv2D\u001b[0m)                │ (\u001b[38;5;45mNone\u001b[0m, \u001b[38;5;34m112\u001b[0m, \u001b[38;5;34m112\u001b[0m, \u001b[38;5;34m128\u001b[0m)       │         \u001b[38;5;34m147,584\u001b[0m │\n",
       "├──────────────────────────────────────┼─────────────────────────────┼─────────────────┤\n",
       "│ block2_pool (\u001b[38;5;33mMaxPooling2D\u001b[0m)           │ (\u001b[38;5;45mNone\u001b[0m, \u001b[38;5;34m56\u001b[0m, \u001b[38;5;34m56\u001b[0m, \u001b[38;5;34m128\u001b[0m)         │               \u001b[38;5;34m0\u001b[0m │\n",
       "├──────────────────────────────────────┼─────────────────────────────┼─────────────────┤\n",
       "│ block3_conv1 (\u001b[38;5;33mConv2D\u001b[0m)                │ (\u001b[38;5;45mNone\u001b[0m, \u001b[38;5;34m56\u001b[0m, \u001b[38;5;34m56\u001b[0m, \u001b[38;5;34m256\u001b[0m)         │         \u001b[38;5;34m295,168\u001b[0m │\n",
       "├──────────────────────────────────────┼─────────────────────────────┼─────────────────┤\n",
       "│ block3_conv2 (\u001b[38;5;33mConv2D\u001b[0m)                │ (\u001b[38;5;45mNone\u001b[0m, \u001b[38;5;34m56\u001b[0m, \u001b[38;5;34m56\u001b[0m, \u001b[38;5;34m256\u001b[0m)         │         \u001b[38;5;34m590,080\u001b[0m │\n",
       "├──────────────────────────────────────┼─────────────────────────────┼─────────────────┤\n",
       "│ block3_conv3 (\u001b[38;5;33mConv2D\u001b[0m)                │ (\u001b[38;5;45mNone\u001b[0m, \u001b[38;5;34m56\u001b[0m, \u001b[38;5;34m56\u001b[0m, \u001b[38;5;34m256\u001b[0m)         │         \u001b[38;5;34m590,080\u001b[0m │\n",
       "├──────────────────────────────────────┼─────────────────────────────┼─────────────────┤\n",
       "│ block3_pool (\u001b[38;5;33mMaxPooling2D\u001b[0m)           │ (\u001b[38;5;45mNone\u001b[0m, \u001b[38;5;34m28\u001b[0m, \u001b[38;5;34m28\u001b[0m, \u001b[38;5;34m256\u001b[0m)         │               \u001b[38;5;34m0\u001b[0m │\n",
       "├──────────────────────────────────────┼─────────────────────────────┼─────────────────┤\n",
       "│ block4_conv1 (\u001b[38;5;33mConv2D\u001b[0m)                │ (\u001b[38;5;45mNone\u001b[0m, \u001b[38;5;34m28\u001b[0m, \u001b[38;5;34m28\u001b[0m, \u001b[38;5;34m512\u001b[0m)         │       \u001b[38;5;34m1,180,160\u001b[0m │\n",
       "├──────────────────────────────────────┼─────────────────────────────┼─────────────────┤\n",
       "│ block4_conv2 (\u001b[38;5;33mConv2D\u001b[0m)                │ (\u001b[38;5;45mNone\u001b[0m, \u001b[38;5;34m28\u001b[0m, \u001b[38;5;34m28\u001b[0m, \u001b[38;5;34m512\u001b[0m)         │       \u001b[38;5;34m2,359,808\u001b[0m │\n",
       "├──────────────────────────────────────┼─────────────────────────────┼─────────────────┤\n",
       "│ block4_conv3 (\u001b[38;5;33mConv2D\u001b[0m)                │ (\u001b[38;5;45mNone\u001b[0m, \u001b[38;5;34m28\u001b[0m, \u001b[38;5;34m28\u001b[0m, \u001b[38;5;34m512\u001b[0m)         │       \u001b[38;5;34m2,359,808\u001b[0m │\n",
       "├──────────────────────────────────────┼─────────────────────────────┼─────────────────┤\n",
       "│ block4_pool (\u001b[38;5;33mMaxPooling2D\u001b[0m)           │ (\u001b[38;5;45mNone\u001b[0m, \u001b[38;5;34m14\u001b[0m, \u001b[38;5;34m14\u001b[0m, \u001b[38;5;34m512\u001b[0m)         │               \u001b[38;5;34m0\u001b[0m │\n",
       "├──────────────────────────────────────┼─────────────────────────────┼─────────────────┤\n",
       "│ block5_conv1 (\u001b[38;5;33mConv2D\u001b[0m)                │ (\u001b[38;5;45mNone\u001b[0m, \u001b[38;5;34m14\u001b[0m, \u001b[38;5;34m14\u001b[0m, \u001b[38;5;34m512\u001b[0m)         │       \u001b[38;5;34m2,359,808\u001b[0m │\n",
       "├──────────────────────────────────────┼─────────────────────────────┼─────────────────┤\n",
       "│ block5_conv2 (\u001b[38;5;33mConv2D\u001b[0m)                │ (\u001b[38;5;45mNone\u001b[0m, \u001b[38;5;34m14\u001b[0m, \u001b[38;5;34m14\u001b[0m, \u001b[38;5;34m512\u001b[0m)         │       \u001b[38;5;34m2,359,808\u001b[0m │\n",
       "├──────────────────────────────────────┼─────────────────────────────┼─────────────────┤\n",
       "│ block5_conv3 (\u001b[38;5;33mConv2D\u001b[0m)                │ (\u001b[38;5;45mNone\u001b[0m, \u001b[38;5;34m14\u001b[0m, \u001b[38;5;34m14\u001b[0m, \u001b[38;5;34m512\u001b[0m)         │       \u001b[38;5;34m2,359,808\u001b[0m │\n",
       "├──────────────────────────────────────┼─────────────────────────────┼─────────────────┤\n",
       "│ block5_pool (\u001b[38;5;33mMaxPooling2D\u001b[0m)           │ (\u001b[38;5;45mNone\u001b[0m, \u001b[38;5;34m7\u001b[0m, \u001b[38;5;34m7\u001b[0m, \u001b[38;5;34m512\u001b[0m)           │               \u001b[38;5;34m0\u001b[0m │\n",
       "├──────────────────────────────────────┼─────────────────────────────┼─────────────────┤\n",
       "│ flatten (\u001b[38;5;33mFlatten\u001b[0m)                    │ (\u001b[38;5;45mNone\u001b[0m, \u001b[38;5;34m25088\u001b[0m)               │               \u001b[38;5;34m0\u001b[0m │\n",
       "├──────────────────────────────────────┼─────────────────────────────┼─────────────────┤\n",
       "│ fc1 (\u001b[38;5;33mDense\u001b[0m)                          │ (\u001b[38;5;45mNone\u001b[0m, \u001b[38;5;34m4096\u001b[0m)                │     \u001b[38;5;34m102,764,544\u001b[0m │\n",
       "├──────────────────────────────────────┼─────────────────────────────┼─────────────────┤\n",
       "│ fc2 (\u001b[38;5;33mDense\u001b[0m)                          │ (\u001b[38;5;45mNone\u001b[0m, \u001b[38;5;34m4096\u001b[0m)                │      \u001b[38;5;34m16,781,312\u001b[0m │\n",
       "├──────────────────────────────────────┼─────────────────────────────┼─────────────────┤\n",
       "│ dense_2 (\u001b[38;5;33mDense\u001b[0m)                      │ (\u001b[38;5;45mNone\u001b[0m, \u001b[38;5;34m97\u001b[0m)                  │         \u001b[38;5;34m397,409\u001b[0m │\n",
       "└──────────────────────────────────────┴─────────────────────────────┴─────────────────┘\n"
      ]
     },
     "metadata": {},
     "output_type": "display_data"
    },
    {
     "data": {
      "text/html": [
       "<pre style=\"white-space:pre;overflow-x:auto;line-height:normal;font-family:Menlo,'DejaVu Sans Mono',consolas,'Courier New',monospace\"><span style=\"font-weight: bold\"> Total params: </span><span style=\"color: #00af00; text-decoration-color: #00af00\">134,657,953</span> (513.68 MB)\n",
       "</pre>\n"
      ],
      "text/plain": [
       "\u001b[1m Total params: \u001b[0m\u001b[38;5;34m134,657,953\u001b[0m (513.68 MB)\n"
      ]
     },
     "metadata": {},
     "output_type": "display_data"
    },
    {
     "data": {
      "text/html": [
       "<pre style=\"white-space:pre;overflow-x:auto;line-height:normal;font-family:Menlo,'DejaVu Sans Mono',consolas,'Courier New',monospace\"><span style=\"font-weight: bold\"> Trainable params: </span><span style=\"color: #00af00; text-decoration-color: #00af00\">397,409</span> (1.52 MB)\n",
       "</pre>\n"
      ],
      "text/plain": [
       "\u001b[1m Trainable params: \u001b[0m\u001b[38;5;34m397,409\u001b[0m (1.52 MB)\n"
      ]
     },
     "metadata": {},
     "output_type": "display_data"
    },
    {
     "data": {
      "text/html": [
       "<pre style=\"white-space:pre;overflow-x:auto;line-height:normal;font-family:Menlo,'DejaVu Sans Mono',consolas,'Courier New',monospace\"><span style=\"font-weight: bold\"> Non-trainable params: </span><span style=\"color: #00af00; text-decoration-color: #00af00\">134,260,544</span> (512.16 MB)\n",
       "</pre>\n"
      ],
      "text/plain": [
       "\u001b[1m Non-trainable params: \u001b[0m\u001b[38;5;34m134,260,544\u001b[0m (512.16 MB)\n"
      ]
     },
     "metadata": {},
     "output_type": "display_data"
    }
   ],
   "source": [
    "# make all layers untrainable by freezing weights (except for last layer)\n",
    "for l, layer in enumerate(model_new.layers[:-1]):\n",
    "    layer.trainable = False\n",
    "\n",
    "# ensure the last layer is trainable/not frozen\n",
    "for l, layer in enumerate(model_new.layers[-1:]):\n",
    "    layer.trainable = True\n",
    "\n",
    "model_new.compile(loss='categorical_crossentropy',\n",
    "              optimizer='adam',\n",
    "              metrics=['accuracy'])\n",
    "\n",
    "model_new.summary()"
   ]
  },
  {
   "cell_type": "markdown",
   "metadata": {
    "id": "8B9G0gC1YobD"
   },
   "source": [
    "Looking at the summary, we see the network is identical to the VGG model we instantiated earlier, except the last layer, formerly a 1000-neuron softmax, has been replaced by a new 97-neuron softmax. Additionally, we still have roughly 134 million weights, but now the vast majority of them are \"non-trainable params\" because we froze the layers they are contained in. We now only have 397,000 trainable parameters, which is actually only a quarter of the number of parameters needed to train the first model.\n",
    "\n",
    "As before, we go ahead and train the new model, using the same hyperparameters (batch size and number of epochs) as before, along with the same optimization algorithm. We also keep track of its history as we go."
   ]
  },
  {
   "cell_type": "code",
   "execution_count": 24,
   "metadata": {
    "id": "aDdq71XNYobD"
   },
   "outputs": [
    {
     "name": "stdout",
     "output_type": "stream",
     "text": [
      "Epoch 1/10\n",
      "\u001b[1m34/34\u001b[0m \u001b[32m━━━━━━━━━━━━━━━━━━━━\u001b[0m\u001b[37m\u001b[0m \u001b[1m1200s\u001b[0m 35s/step - accuracy: 0.1622 - loss: 4.0949 - val_accuracy: 0.3287 - val_loss: 3.0410\n",
      "Epoch 2/10\n",
      "\u001b[1m34/34\u001b[0m \u001b[32m━━━━━━━━━━━━━━━━━━━━\u001b[0m\u001b[37m\u001b[0m \u001b[1m1196s\u001b[0m 35s/step - accuracy: 0.4510 - loss: 2.5279 - val_accuracy: 0.5295 - val_loss: 2.2128\n",
      "Epoch 3/10\n",
      "\u001b[1m34/34\u001b[0m \u001b[32m━━━━━━━━━━━━━━━━━━━━\u001b[0m\u001b[37m\u001b[0m \u001b[1m1169s\u001b[0m 35s/step - accuracy: 0.5748 - loss: 1.9271 - val_accuracy: 0.5725 - val_loss: 1.8619\n",
      "Epoch 4/10\n",
      "\u001b[1m34/34\u001b[0m \u001b[32m━━━━━━━━━━━━━━━━━━━━\u001b[0m\u001b[37m\u001b[0m \u001b[1m1172s\u001b[0m 35s/step - accuracy: 0.6364 - loss: 1.6202 - val_accuracy: 0.5843 - val_loss: 1.6923\n",
      "Epoch 5/10\n",
      "\u001b[1m28/34\u001b[0m \u001b[32m━━━━━━━━━━━━━━━━\u001b[0m\u001b[37m━━━━\u001b[0m \u001b[1m2:50\u001b[0m 28s/step - accuracy: 0.6637 - loss: 1.4625"
     ]
    },
    {
     "ename": "KeyboardInterrupt",
     "evalue": "",
     "output_type": "error",
     "traceback": [
      "\u001b[1;31m---------------------------------------------------------------------------\u001b[0m",
      "\u001b[1;31mKeyboardInterrupt\u001b[0m                         Traceback (most recent call last)",
      "Cell \u001b[1;32mIn[24], line 1\u001b[0m\n\u001b[1;32m----> 1\u001b[0m history2 \u001b[38;5;241m=\u001b[39m model_new\u001b[38;5;241m.\u001b[39mfit(x_train, y_train,\n\u001b[0;32m      2\u001b[0m                          batch_size\u001b[38;5;241m=\u001b[39m\u001b[38;5;241m128\u001b[39m,\n\u001b[0;32m      3\u001b[0m                          epochs\u001b[38;5;241m=\u001b[39m\u001b[38;5;241m10\u001b[39m,\n\u001b[0;32m      4\u001b[0m                          validation_data\u001b[38;5;241m=\u001b[39m(x_val, y_val))\n",
      "File \u001b[1;32m~\\.conda\\envs\\AI\\Lib\\site-packages\\keras\\src\\utils\\traceback_utils.py:117\u001b[0m, in \u001b[0;36mfilter_traceback.<locals>.error_handler\u001b[1;34m(*args, **kwargs)\u001b[0m\n\u001b[0;32m    115\u001b[0m filtered_tb \u001b[38;5;241m=\u001b[39m \u001b[38;5;28;01mNone\u001b[39;00m\n\u001b[0;32m    116\u001b[0m \u001b[38;5;28;01mtry\u001b[39;00m:\n\u001b[1;32m--> 117\u001b[0m     \u001b[38;5;28;01mreturn\u001b[39;00m fn(\u001b[38;5;241m*\u001b[39margs, \u001b[38;5;241m*\u001b[39m\u001b[38;5;241m*\u001b[39mkwargs)\n\u001b[0;32m    118\u001b[0m \u001b[38;5;28;01mexcept\u001b[39;00m \u001b[38;5;167;01mException\u001b[39;00m \u001b[38;5;28;01mas\u001b[39;00m e:\n\u001b[0;32m    119\u001b[0m     filtered_tb \u001b[38;5;241m=\u001b[39m _process_traceback_frames(e\u001b[38;5;241m.\u001b[39m__traceback__)\n",
      "File \u001b[1;32m~\\.conda\\envs\\AI\\Lib\\site-packages\\keras\\src\\backend\\tensorflow\\trainer.py:377\u001b[0m, in \u001b[0;36mTensorFlowTrainer.fit\u001b[1;34m(self, x, y, batch_size, epochs, verbose, callbacks, validation_split, validation_data, shuffle, class_weight, sample_weight, initial_epoch, steps_per_epoch, validation_steps, validation_batch_size, validation_freq)\u001b[0m\n\u001b[0;32m    375\u001b[0m \u001b[38;5;28;01mfor\u001b[39;00m begin_step, end_step, iterator \u001b[38;5;129;01min\u001b[39;00m epoch_iterator:\n\u001b[0;32m    376\u001b[0m     callbacks\u001b[38;5;241m.\u001b[39mon_train_batch_begin(begin_step)\n\u001b[1;32m--> 377\u001b[0m     logs \u001b[38;5;241m=\u001b[39m \u001b[38;5;28mself\u001b[39m\u001b[38;5;241m.\u001b[39mtrain_function(iterator)\n\u001b[0;32m    378\u001b[0m     callbacks\u001b[38;5;241m.\u001b[39mon_train_batch_end(end_step, logs)\n\u001b[0;32m    379\u001b[0m     \u001b[38;5;28;01mif\u001b[39;00m \u001b[38;5;28mself\u001b[39m\u001b[38;5;241m.\u001b[39mstop_training:\n",
      "File \u001b[1;32m~\\.conda\\envs\\AI\\Lib\\site-packages\\keras\\src\\backend\\tensorflow\\trainer.py:220\u001b[0m, in \u001b[0;36mTensorFlowTrainer._make_function.<locals>.function\u001b[1;34m(iterator)\u001b[0m\n\u001b[0;32m    216\u001b[0m \u001b[38;5;28;01mdef\u001b[39;00m \u001b[38;5;21mfunction\u001b[39m(iterator):\n\u001b[0;32m    217\u001b[0m     \u001b[38;5;28;01mif\u001b[39;00m \u001b[38;5;28misinstance\u001b[39m(\n\u001b[0;32m    218\u001b[0m         iterator, (tf\u001b[38;5;241m.\u001b[39mdata\u001b[38;5;241m.\u001b[39mIterator, tf\u001b[38;5;241m.\u001b[39mdistribute\u001b[38;5;241m.\u001b[39mDistributedIterator)\n\u001b[0;32m    219\u001b[0m     ):\n\u001b[1;32m--> 220\u001b[0m         opt_outputs \u001b[38;5;241m=\u001b[39m multi_step_on_iterator(iterator)\n\u001b[0;32m    221\u001b[0m         \u001b[38;5;28;01mif\u001b[39;00m \u001b[38;5;129;01mnot\u001b[39;00m opt_outputs\u001b[38;5;241m.\u001b[39mhas_value():\n\u001b[0;32m    222\u001b[0m             \u001b[38;5;28;01mraise\u001b[39;00m \u001b[38;5;167;01mStopIteration\u001b[39;00m\n",
      "File \u001b[1;32m~\\.conda\\envs\\AI\\Lib\\site-packages\\tensorflow\\python\\util\\traceback_utils.py:150\u001b[0m, in \u001b[0;36mfilter_traceback.<locals>.error_handler\u001b[1;34m(*args, **kwargs)\u001b[0m\n\u001b[0;32m    148\u001b[0m filtered_tb \u001b[38;5;241m=\u001b[39m \u001b[38;5;28;01mNone\u001b[39;00m\n\u001b[0;32m    149\u001b[0m \u001b[38;5;28;01mtry\u001b[39;00m:\n\u001b[1;32m--> 150\u001b[0m   \u001b[38;5;28;01mreturn\u001b[39;00m fn(\u001b[38;5;241m*\u001b[39margs, \u001b[38;5;241m*\u001b[39m\u001b[38;5;241m*\u001b[39mkwargs)\n\u001b[0;32m    151\u001b[0m \u001b[38;5;28;01mexcept\u001b[39;00m \u001b[38;5;167;01mException\u001b[39;00m \u001b[38;5;28;01mas\u001b[39;00m e:\n\u001b[0;32m    152\u001b[0m   filtered_tb \u001b[38;5;241m=\u001b[39m _process_traceback_frames(e\u001b[38;5;241m.\u001b[39m__traceback__)\n",
      "File \u001b[1;32m~\\.conda\\envs\\AI\\Lib\\site-packages\\tensorflow\\python\\eager\\polymorphic_function\\polymorphic_function.py:833\u001b[0m, in \u001b[0;36mFunction.__call__\u001b[1;34m(self, *args, **kwds)\u001b[0m\n\u001b[0;32m    830\u001b[0m compiler \u001b[38;5;241m=\u001b[39m \u001b[38;5;124m\"\u001b[39m\u001b[38;5;124mxla\u001b[39m\u001b[38;5;124m\"\u001b[39m \u001b[38;5;28;01mif\u001b[39;00m \u001b[38;5;28mself\u001b[39m\u001b[38;5;241m.\u001b[39m_jit_compile \u001b[38;5;28;01melse\u001b[39;00m \u001b[38;5;124m\"\u001b[39m\u001b[38;5;124mnonXla\u001b[39m\u001b[38;5;124m\"\u001b[39m\n\u001b[0;32m    832\u001b[0m \u001b[38;5;28;01mwith\u001b[39;00m OptionalXlaContext(\u001b[38;5;28mself\u001b[39m\u001b[38;5;241m.\u001b[39m_jit_compile):\n\u001b[1;32m--> 833\u001b[0m   result \u001b[38;5;241m=\u001b[39m \u001b[38;5;28mself\u001b[39m\u001b[38;5;241m.\u001b[39m_call(\u001b[38;5;241m*\u001b[39margs, \u001b[38;5;241m*\u001b[39m\u001b[38;5;241m*\u001b[39mkwds)\n\u001b[0;32m    835\u001b[0m new_tracing_count \u001b[38;5;241m=\u001b[39m \u001b[38;5;28mself\u001b[39m\u001b[38;5;241m.\u001b[39mexperimental_get_tracing_count()\n\u001b[0;32m    836\u001b[0m without_tracing \u001b[38;5;241m=\u001b[39m (tracing_count \u001b[38;5;241m==\u001b[39m new_tracing_count)\n",
      "File \u001b[1;32m~\\.conda\\envs\\AI\\Lib\\site-packages\\tensorflow\\python\\eager\\polymorphic_function\\polymorphic_function.py:878\u001b[0m, in \u001b[0;36mFunction._call\u001b[1;34m(self, *args, **kwds)\u001b[0m\n\u001b[0;32m    875\u001b[0m \u001b[38;5;28mself\u001b[39m\u001b[38;5;241m.\u001b[39m_lock\u001b[38;5;241m.\u001b[39mrelease()\n\u001b[0;32m    876\u001b[0m \u001b[38;5;66;03m# In this case we have not created variables on the first call. So we can\u001b[39;00m\n\u001b[0;32m    877\u001b[0m \u001b[38;5;66;03m# run the first trace but we should fail if variables are created.\u001b[39;00m\n\u001b[1;32m--> 878\u001b[0m results \u001b[38;5;241m=\u001b[39m tracing_compilation\u001b[38;5;241m.\u001b[39mcall_function(\n\u001b[0;32m    879\u001b[0m     args, kwds, \u001b[38;5;28mself\u001b[39m\u001b[38;5;241m.\u001b[39m_variable_creation_config\n\u001b[0;32m    880\u001b[0m )\n\u001b[0;32m    881\u001b[0m \u001b[38;5;28;01mif\u001b[39;00m \u001b[38;5;28mself\u001b[39m\u001b[38;5;241m.\u001b[39m_created_variables:\n\u001b[0;32m    882\u001b[0m   \u001b[38;5;28;01mraise\u001b[39;00m \u001b[38;5;167;01mValueError\u001b[39;00m(\u001b[38;5;124m\"\u001b[39m\u001b[38;5;124mCreating variables on a non-first call to a function\u001b[39m\u001b[38;5;124m\"\u001b[39m\n\u001b[0;32m    883\u001b[0m                    \u001b[38;5;124m\"\u001b[39m\u001b[38;5;124m decorated with tf.function.\u001b[39m\u001b[38;5;124m\"\u001b[39m)\n",
      "File \u001b[1;32m~\\.conda\\envs\\AI\\Lib\\site-packages\\tensorflow\\python\\eager\\polymorphic_function\\tracing_compilation.py:139\u001b[0m, in \u001b[0;36mcall_function\u001b[1;34m(args, kwargs, tracing_options)\u001b[0m\n\u001b[0;32m    137\u001b[0m bound_args \u001b[38;5;241m=\u001b[39m function\u001b[38;5;241m.\u001b[39mfunction_type\u001b[38;5;241m.\u001b[39mbind(\u001b[38;5;241m*\u001b[39margs, \u001b[38;5;241m*\u001b[39m\u001b[38;5;241m*\u001b[39mkwargs)\n\u001b[0;32m    138\u001b[0m flat_inputs \u001b[38;5;241m=\u001b[39m function\u001b[38;5;241m.\u001b[39mfunction_type\u001b[38;5;241m.\u001b[39munpack_inputs(bound_args)\n\u001b[1;32m--> 139\u001b[0m \u001b[38;5;28;01mreturn\u001b[39;00m function\u001b[38;5;241m.\u001b[39m_call_flat(  \u001b[38;5;66;03m# pylint: disable=protected-access\u001b[39;00m\n\u001b[0;32m    140\u001b[0m     flat_inputs, captured_inputs\u001b[38;5;241m=\u001b[39mfunction\u001b[38;5;241m.\u001b[39mcaptured_inputs\n\u001b[0;32m    141\u001b[0m )\n",
      "File \u001b[1;32m~\\.conda\\envs\\AI\\Lib\\site-packages\\tensorflow\\python\\eager\\polymorphic_function\\concrete_function.py:1322\u001b[0m, in \u001b[0;36mConcreteFunction._call_flat\u001b[1;34m(self, tensor_inputs, captured_inputs)\u001b[0m\n\u001b[0;32m   1318\u001b[0m possible_gradient_type \u001b[38;5;241m=\u001b[39m gradients_util\u001b[38;5;241m.\u001b[39mPossibleTapeGradientTypes(args)\n\u001b[0;32m   1319\u001b[0m \u001b[38;5;28;01mif\u001b[39;00m (possible_gradient_type \u001b[38;5;241m==\u001b[39m gradients_util\u001b[38;5;241m.\u001b[39mPOSSIBLE_GRADIENT_TYPES_NONE\n\u001b[0;32m   1320\u001b[0m     \u001b[38;5;129;01mand\u001b[39;00m executing_eagerly):\n\u001b[0;32m   1321\u001b[0m   \u001b[38;5;66;03m# No tape is watching; skip to running the function.\u001b[39;00m\n\u001b[1;32m-> 1322\u001b[0m   \u001b[38;5;28;01mreturn\u001b[39;00m \u001b[38;5;28mself\u001b[39m\u001b[38;5;241m.\u001b[39m_inference_function\u001b[38;5;241m.\u001b[39mcall_preflattened(args)\n\u001b[0;32m   1323\u001b[0m forward_backward \u001b[38;5;241m=\u001b[39m \u001b[38;5;28mself\u001b[39m\u001b[38;5;241m.\u001b[39m_select_forward_and_backward_functions(\n\u001b[0;32m   1324\u001b[0m     args,\n\u001b[0;32m   1325\u001b[0m     possible_gradient_type,\n\u001b[0;32m   1326\u001b[0m     executing_eagerly)\n\u001b[0;32m   1327\u001b[0m forward_function, args_with_tangents \u001b[38;5;241m=\u001b[39m forward_backward\u001b[38;5;241m.\u001b[39mforward()\n",
      "File \u001b[1;32m~\\.conda\\envs\\AI\\Lib\\site-packages\\tensorflow\\python\\eager\\polymorphic_function\\atomic_function.py:216\u001b[0m, in \u001b[0;36mAtomicFunction.call_preflattened\u001b[1;34m(self, args)\u001b[0m\n\u001b[0;32m    214\u001b[0m \u001b[38;5;28;01mdef\u001b[39;00m \u001b[38;5;21mcall_preflattened\u001b[39m(\u001b[38;5;28mself\u001b[39m, args: Sequence[core\u001b[38;5;241m.\u001b[39mTensor]) \u001b[38;5;241m-\u001b[39m\u001b[38;5;241m>\u001b[39m Any:\n\u001b[0;32m    215\u001b[0m \u001b[38;5;250m  \u001b[39m\u001b[38;5;124;03m\"\"\"Calls with flattened tensor inputs and returns the structured output.\"\"\"\u001b[39;00m\n\u001b[1;32m--> 216\u001b[0m   flat_outputs \u001b[38;5;241m=\u001b[39m \u001b[38;5;28mself\u001b[39m\u001b[38;5;241m.\u001b[39mcall_flat(\u001b[38;5;241m*\u001b[39margs)\n\u001b[0;32m    217\u001b[0m   \u001b[38;5;28;01mreturn\u001b[39;00m \u001b[38;5;28mself\u001b[39m\u001b[38;5;241m.\u001b[39mfunction_type\u001b[38;5;241m.\u001b[39mpack_output(flat_outputs)\n",
      "File \u001b[1;32m~\\.conda\\envs\\AI\\Lib\\site-packages\\tensorflow\\python\\eager\\polymorphic_function\\atomic_function.py:251\u001b[0m, in \u001b[0;36mAtomicFunction.call_flat\u001b[1;34m(self, *args)\u001b[0m\n\u001b[0;32m    249\u001b[0m \u001b[38;5;28;01mwith\u001b[39;00m record\u001b[38;5;241m.\u001b[39mstop_recording():\n\u001b[0;32m    250\u001b[0m   \u001b[38;5;28;01mif\u001b[39;00m \u001b[38;5;28mself\u001b[39m\u001b[38;5;241m.\u001b[39m_bound_context\u001b[38;5;241m.\u001b[39mexecuting_eagerly():\n\u001b[1;32m--> 251\u001b[0m     outputs \u001b[38;5;241m=\u001b[39m \u001b[38;5;28mself\u001b[39m\u001b[38;5;241m.\u001b[39m_bound_context\u001b[38;5;241m.\u001b[39mcall_function(\n\u001b[0;32m    252\u001b[0m         \u001b[38;5;28mself\u001b[39m\u001b[38;5;241m.\u001b[39mname,\n\u001b[0;32m    253\u001b[0m         \u001b[38;5;28mlist\u001b[39m(args),\n\u001b[0;32m    254\u001b[0m         \u001b[38;5;28mlen\u001b[39m(\u001b[38;5;28mself\u001b[39m\u001b[38;5;241m.\u001b[39mfunction_type\u001b[38;5;241m.\u001b[39mflat_outputs),\n\u001b[0;32m    255\u001b[0m     )\n\u001b[0;32m    256\u001b[0m   \u001b[38;5;28;01melse\u001b[39;00m:\n\u001b[0;32m    257\u001b[0m     outputs \u001b[38;5;241m=\u001b[39m make_call_op_in_graph(\n\u001b[0;32m    258\u001b[0m         \u001b[38;5;28mself\u001b[39m,\n\u001b[0;32m    259\u001b[0m         \u001b[38;5;28mlist\u001b[39m(args),\n\u001b[0;32m    260\u001b[0m         \u001b[38;5;28mself\u001b[39m\u001b[38;5;241m.\u001b[39m_bound_context\u001b[38;5;241m.\u001b[39mfunction_call_options\u001b[38;5;241m.\u001b[39mas_attrs(),\n\u001b[0;32m    261\u001b[0m     )\n",
      "File \u001b[1;32m~\\.conda\\envs\\AI\\Lib\\site-packages\\tensorflow\\python\\eager\\context.py:1688\u001b[0m, in \u001b[0;36mContext.call_function\u001b[1;34m(self, name, tensor_inputs, num_outputs)\u001b[0m\n\u001b[0;32m   1686\u001b[0m cancellation_context \u001b[38;5;241m=\u001b[39m cancellation\u001b[38;5;241m.\u001b[39mcontext()\n\u001b[0;32m   1687\u001b[0m \u001b[38;5;28;01mif\u001b[39;00m cancellation_context \u001b[38;5;129;01mis\u001b[39;00m \u001b[38;5;28;01mNone\u001b[39;00m:\n\u001b[1;32m-> 1688\u001b[0m   outputs \u001b[38;5;241m=\u001b[39m execute\u001b[38;5;241m.\u001b[39mexecute(\n\u001b[0;32m   1689\u001b[0m       name\u001b[38;5;241m.\u001b[39mdecode(\u001b[38;5;124m\"\u001b[39m\u001b[38;5;124mutf-8\u001b[39m\u001b[38;5;124m\"\u001b[39m),\n\u001b[0;32m   1690\u001b[0m       num_outputs\u001b[38;5;241m=\u001b[39mnum_outputs,\n\u001b[0;32m   1691\u001b[0m       inputs\u001b[38;5;241m=\u001b[39mtensor_inputs,\n\u001b[0;32m   1692\u001b[0m       attrs\u001b[38;5;241m=\u001b[39mattrs,\n\u001b[0;32m   1693\u001b[0m       ctx\u001b[38;5;241m=\u001b[39m\u001b[38;5;28mself\u001b[39m,\n\u001b[0;32m   1694\u001b[0m   )\n\u001b[0;32m   1695\u001b[0m \u001b[38;5;28;01melse\u001b[39;00m:\n\u001b[0;32m   1696\u001b[0m   outputs \u001b[38;5;241m=\u001b[39m execute\u001b[38;5;241m.\u001b[39mexecute_with_cancellation(\n\u001b[0;32m   1697\u001b[0m       name\u001b[38;5;241m.\u001b[39mdecode(\u001b[38;5;124m\"\u001b[39m\u001b[38;5;124mutf-8\u001b[39m\u001b[38;5;124m\"\u001b[39m),\n\u001b[0;32m   1698\u001b[0m       num_outputs\u001b[38;5;241m=\u001b[39mnum_outputs,\n\u001b[1;32m   (...)\u001b[0m\n\u001b[0;32m   1702\u001b[0m       cancellation_manager\u001b[38;5;241m=\u001b[39mcancellation_context,\n\u001b[0;32m   1703\u001b[0m   )\n",
      "File \u001b[1;32m~\\.conda\\envs\\AI\\Lib\\site-packages\\tensorflow\\python\\eager\\execute.py:53\u001b[0m, in \u001b[0;36mquick_execute\u001b[1;34m(op_name, num_outputs, inputs, attrs, ctx, name)\u001b[0m\n\u001b[0;32m     51\u001b[0m \u001b[38;5;28;01mtry\u001b[39;00m:\n\u001b[0;32m     52\u001b[0m   ctx\u001b[38;5;241m.\u001b[39mensure_initialized()\n\u001b[1;32m---> 53\u001b[0m   tensors \u001b[38;5;241m=\u001b[39m pywrap_tfe\u001b[38;5;241m.\u001b[39mTFE_Py_Execute(ctx\u001b[38;5;241m.\u001b[39m_handle, device_name, op_name,\n\u001b[0;32m     54\u001b[0m                                       inputs, attrs, num_outputs)\n\u001b[0;32m     55\u001b[0m \u001b[38;5;28;01mexcept\u001b[39;00m core\u001b[38;5;241m.\u001b[39m_NotOkStatusException \u001b[38;5;28;01mas\u001b[39;00m e:\n\u001b[0;32m     56\u001b[0m   \u001b[38;5;28;01mif\u001b[39;00m name \u001b[38;5;129;01mis\u001b[39;00m \u001b[38;5;129;01mnot\u001b[39;00m \u001b[38;5;28;01mNone\u001b[39;00m:\n",
      "\u001b[1;31mKeyboardInterrupt\u001b[0m: "
     ]
    }
   ],
   "source": [
    "history2 = model_new.fit(x_train, y_train,\n",
    "                         batch_size=128,\n",
    "                         epochs=10,\n",
    "                         validation_data=(x_val, y_val))\n"
   ]
  },
  {
   "cell_type": "markdown",
   "metadata": {
    "id": "jPqJ0OM8YobI"
   },
   "source": [
    "Our validation accuracy hovers close to 80% towards the end, which is more than 30% improvement on the original network trained from scratch (meaning that we make the wrong prediction on 20% of samples, rather than 50%).\n",
    "\n",
    "It's worth noting also that this network actually trains _slightly faster_ than the original network, despite having more than 100 times as many parameters! This is because freezing the weights negates the need to backpropagate through all those layers, saving us on runtime.\n",
    "\n",
    "Let's plot the validation loss and accuracy again, this time comparing the original model trained from scratch (in blue) and the new transfer-learned model in green."
   ]
  },
  {
   "cell_type": "code",
   "execution_count": null,
   "metadata": {
    "id": "SHLdHnuuYobJ"
   },
   "outputs": [],
   "source": [
    "fig = plt.figure(figsize=(16,4))\n",
    "ax = fig.add_subplot(121)\n",
    "ax.plot(history.history[\"val_loss\"])\n",
    "ax.plot(history2.history[\"val_loss\"])\n",
    "ax.set_title(\"validation loss\")\n",
    "ax.set_xlabel(\"epochs\")\n",
    "\n",
    "ax2 = fig.add_subplot(122)\n",
    "ax2.plot(history.history[\"val_acc\"])\n",
    "ax2.plot(history2.history[\"val_acc\"])\n",
    "ax2.set_title(\"validation accuracy\")\n",
    "ax2.set_xlabel(\"epochs\")\n",
    "ax2.set_ylim(0, 1)\n",
    "\n",
    "plt.show()"
   ]
  },
  {
   "cell_type": "code",
   "execution_count": 6,
   "metadata": {
    "colab": {
     "base_uri": "https://localhost:8080/"
    },
    "id": "XklKIrnaZb3f",
    "outputId": "ea677a2b-49ce-4d15-f197-b6bbd78b9420"
   },
   "outputs": [
    {
     "name": "stderr",
     "output_type": "stream",
     "text": [
      "\n",
      "[notice] A new release of pip is available: 24.3.1 -> 25.2\n",
      "[notice] To update, run: python.exe -m pip install --upgrade pip\n"
     ]
    },
    {
     "name": "stdout",
     "output_type": "stream",
     "text": [
      "\"Downloading 101_Object_Categories for image notebooks\"\n"
     ]
    },
    {
     "name": "stderr",
     "output_type": "stream",
     "text": [
      "C:\\Users\\poger\\.conda\\envs\\AI\\Lib\\site-packages\\gdown\\__main__.py:140: FutureWarning: Option `--id` was deprecated in version 4.3.1 and will be removed in 5.0. You don't need to pass it anymore to use a file ID.\n",
      "  warnings.warn(\n",
      "Downloading...\n",
      "From (original): https://drive.google.com/uc?id=1bCJaQE-rVER2JwbaYwwjzNO_AuXDikbQ\n",
      "From (redirected): https://drive.google.com/uc?id=1bCJaQE-rVER2JwbaYwwjzNO_AuXDikbQ&confirm=t&uuid=b3e1e03a-523b-49dd-b8f4-e1caa723bedc\n",
      "To: C:\\Users\\poger\\101_ObjectCategories.tar.gz\n",
      "\n",
      "  0%|          | 0.00/132M [00:00<?, ?B/s]\n",
      "  0%|          | 524k/132M [00:01<05:31, 396kB/s]\n",
      "  1%|          | 1.05M/132M [00:02<05:47, 376kB/s]\n",
      "  1%|1         | 1.57M/132M [00:03<05:10, 419kB/s]\n",
      "  2%|1         | 2.10M/132M [00:04<04:31, 477kB/s]\n",
      "  2%|1         | 2.62M/132M [00:05<04:24, 488kB/s]\n",
      "  2%|2         | 3.15M/132M [00:07<05:18, 404kB/s]\n",
      "  3%|2         | 3.67M/132M [00:07<04:09, 514kB/s]\n",
      "  3%|3         | 4.19M/132M [00:10<06:41, 317kB/s]\n",
      "  4%|3         | 4.72M/132M [00:14<09:18, 228kB/s]\n",
      "  4%|3         | 5.24M/132M [00:16<08:10, 258kB/s]\n",
      "  4%|4         | 5.77M/132M [00:19<09:13, 227kB/s]\n",
      "  5%|4         | 6.29M/132M [00:19<07:22, 283kB/s]\n",
      "  5%|5         | 6.82M/132M [00:20<05:44, 363kB/s]\n",
      "  6%|5         | 7.34M/132M [00:21<05:17, 392kB/s]\n",
      "  6%|5         | 7.86M/132M [00:22<05:16, 391kB/s]\n",
      "  6%|6         | 8.39M/132M [00:24<05:25, 379kB/s]\n",
      "  7%|6         | 8.91M/132M [00:28<09:06, 225kB/s]\n",
      "  7%|7         | 9.44M/132M [00:32<10:23, 196kB/s]\n",
      "  8%|7         | 9.96M/132M [00:33<08:49, 230kB/s]\n",
      "  8%|7         | 10.5M/132M [00:35<07:56, 254kB/s]\n",
      "  8%|8         | 11.0M/132M [00:36<07:38, 264kB/s]\n",
      "  9%|8         | 11.5M/132M [00:38<07:10, 279kB/s]\n",
      "  9%|9         | 12.1M/132M [00:39<06:03, 329kB/s]\n",
      " 10%|9         | 12.6M/132M [00:40<05:17, 375kB/s]\n",
      " 10%|9         | 13.1M/132M [00:42<05:38, 350kB/s]\n",
      " 10%|#         | 13.6M/132M [00:45<07:30, 262kB/s]\n",
      " 11%|#         | 14.2M/132M [00:48<08:44, 224kB/s]\n",
      " 11%|#1        | 14.7M/132M [00:52<10:55, 178kB/s]\n",
      " 12%|#1        | 15.2M/132M [00:54<08:53, 218kB/s]\n",
      " 12%|#1        | 15.7M/132M [00:56<09:12, 210kB/s]\n",
      " 12%|#2        | 16.3M/132M [01:00<10:30, 183kB/s]\n",
      " 13%|#2        | 16.8M/132M [01:01<08:12, 233kB/s]\n",
      " 13%|#3        | 17.3M/132M [01:06<11:00, 173kB/s]\n",
      " 14%|#3        | 17.8M/132M [01:16<18:46, 101kB/s]\n",
      " 14%|#3        | 18.4M/132M [01:20<18:01, 105kB/s]\n",
      " 14%|#4        | 18.9M/132M [01:23<15:19, 123kB/s]\n",
      " 15%|#4        | 19.4M/132M [01:31<19:43, 94.9kB/s]\n",
      " 15%|#5        | 19.9M/132M [01:39<21:33, 86.4kB/s]\n",
      " 16%|#5        | 20.4M/132M [01:44<21:03, 88.1kB/s]\n",
      " 16%|#5        | 21.0M/132M [01:47<17:24, 106kB/s] \n",
      " 16%|#6        | 21.5M/132M [01:48<13:38, 135kB/s]\n",
      " 17%|#6        | 22.0M/132M [01:52<13:22, 137kB/s]\n",
      " 17%|#7        | 22.5M/132M [02:00<17:02, 107kB/s]\n",
      " 18%|#7        | 23.1M/132M [02:04<16:51, 107kB/s]\n",
      " 18%|#7        | 23.6M/132M [02:10<17:57, 100kB/s]\n",
      " 18%|#8        | 24.1M/132M [02:25<27:23, 65.5kB/s]\n",
      " 19%|#8        | 24.6M/132M [02:37<31:12, 57.2kB/s]\n",
      " 19%|#9        | 25.2M/132M [02:42<26:33, 66.9kB/s]\n",
      " 20%|#9        | 25.7M/132M [02:52<28:49, 61.3kB/s]\n",
      " 20%|#9        | 26.2M/132M [03:01<28:55, 60.8kB/s]\n",
      " 20%|##        | 26.7M/132M [03:15<34:23, 50.9kB/s]\n",
      " 20%|##        | 26.7M/132M [03:30<34:23, 50.9kB/s]\n",
      " 21%|##        | 27.3M/132M [03:31<39:54, 43.6kB/s]\n",
      " 21%|##1       | 27.8M/132M [03:33<30:04, 57.6kB/s]\n",
      " 21%|##1       | 28.3M/132M [03:35<22:38, 76.1kB/s]\n",
      " 22%|##1       | 28.8M/132M [03:36<17:17, 99.2kB/s]\n",
      " 22%|##2       | 29.4M/132M [03:42<17:51, 95.5kB/s]\n",
      " 23%|##2       | 29.9M/132M [03:52<21:52, 77.6kB/s]\n",
      " 23%|##3       | 30.4M/132M [04:00<22:34, 74.8kB/s]\n",
      " 23%|##3       | 30.9M/132M [04:05<20:43, 81.1kB/s]\n",
      " 24%|##3       | 31.5M/132M [04:07<16:21, 102kB/s] \n",
      " 24%|##3       | 31.5M/132M [04:20<16:21, 102kB/s]\n",
      " 24%|##4       | 32.0M/132M [04:23<26:39, 62.4kB/s]\n",
      " 25%|##4       | 32.5M/132M [04:25<20:33, 80.5kB/s]\n",
      " 25%|##4       | 32.5M/132M [04:40<20:33, 80.5kB/s]\n",
      " 25%|##5       | 33.0M/132M [04:47<35:03, 46.9kB/s]\n",
      " 25%|##5       | 33.6M/132M [04:53<29:59, 54.6kB/s]\n",
      " 26%|##5       | 34.1M/132M [04:54<21:35, 75.4kB/s]\n",
      " 26%|##6       | 34.6M/132M [04:54<15:40, 103kB/s] \n",
      " 27%|##6       | 35.1M/132M [04:55<11:21, 142kB/s]\n",
      " 27%|##7       | 35.7M/132M [04:56<08:45, 183kB/s]\n",
      " 27%|##7       | 36.2M/132M [04:56<06:41, 238kB/s]\n",
      " 28%|##7       | 36.7M/132M [04:57<05:21, 296kB/s]\n",
      " 28%|##8       | 37.2M/132M [05:00<06:05, 258kB/s]\n",
      " 29%|##8       | 37.7M/132M [05:00<04:29, 348kB/s]\n",
      " 29%|##9       | 38.3M/132M [05:00<03:25, 455kB/s]\n",
      " 29%|##9       | 38.8M/132M [05:01<02:36, 595kB/s]\n",
      " 30%|##9       | 39.3M/132M [05:01<01:58, 779kB/s]\n",
      " 30%|###       | 39.8M/132M [05:01<01:32, 997kB/s]\n",
      " 31%|###       | 40.4M/132M [05:01<01:13, 1.24MB/s]\n",
      " 31%|###1      | 40.9M/132M [05:01<01:00, 1.51MB/s]\n",
      " 31%|###1      | 41.4M/132M [05:02<00:53, 1.68MB/s]\n",
      " 32%|###1      | 41.9M/132M [05:02<00:47, 1.88MB/s]\n",
      " 32%|###2      | 42.5M/132M [05:02<00:44, 2.01MB/s]\n",
      " 33%|###2      | 43.0M/132M [05:02<00:42, 2.10MB/s]\n",
      " 33%|###3      | 43.5M/132M [05:03<00:40, 2.20MB/s]\n",
      " 33%|###3      | 44.0M/132M [05:03<00:39, 2.22MB/s]\n",
      " 34%|###3      | 44.6M/132M [05:03<00:36, 2.39MB/s]\n",
      " 34%|###4      | 45.1M/132M [05:03<00:37, 2.29MB/s]\n",
      " 35%|###4      | 45.6M/132M [05:03<00:37, 2.31MB/s]\n",
      " 35%|###5      | 46.1M/132M [05:04<00:35, 2.44MB/s]\n",
      " 35%|###5      | 46.7M/132M [05:04<00:36, 2.32MB/s]\n",
      " 36%|###5      | 47.2M/132M [05:04<00:35, 2.38MB/s]\n",
      " 36%|###6      | 47.7M/132M [05:04<00:41, 2.01MB/s]\n",
      " 37%|###6      | 48.2M/132M [05:05<00:46, 1.80MB/s]\n",
      " 37%|###7      | 48.8M/132M [05:05<00:45, 1.81MB/s]\n",
      " 37%|###7      | 49.3M/132M [05:06<00:55, 1.49MB/s]\n",
      " 38%|###7      | 49.8M/132M [05:06<01:18, 1.05MB/s]\n",
      " 39%|###8      | 50.9M/132M [05:07<00:54, 1.49MB/s]\n",
      " 39%|###9      | 51.4M/132M [05:07<00:50, 1.58MB/s]\n",
      " 39%|###9      | 51.9M/132M [05:07<00:53, 1.50MB/s]\n",
      " 40%|###9      | 52.4M/132M [05:08<00:48, 1.65MB/s]\n",
      " 40%|####      | 53.0M/132M [05:08<00:48, 1.63MB/s]\n",
      " 41%|####      | 53.5M/132M [05:08<00:46, 1.67MB/s]\n",
      " 41%|####      | 54.0M/132M [05:09<00:48, 1.60MB/s]\n",
      " 41%|####1     | 54.5M/132M [05:09<00:45, 1.68MB/s]\n",
      " 42%|####1     | 55.1M/132M [05:09<00:42, 1.81MB/s]\n",
      " 42%|####2     | 55.6M/132M [05:09<00:41, 1.85MB/s]\n",
      " 43%|####2     | 56.1M/132M [05:10<00:42, 1.78MB/s]\n",
      " 43%|####2     | 56.6M/132M [05:10<00:43, 1.74MB/s]\n",
      " 43%|####3     | 57.1M/132M [05:10<00:40, 1.85MB/s]\n",
      " 44%|####3     | 57.7M/132M [05:11<00:42, 1.75MB/s]\n",
      " 44%|####4     | 58.2M/132M [05:11<00:42, 1.74MB/s]\n",
      " 45%|####4     | 58.7M/132M [05:11<00:39, 1.86MB/s]\n",
      " 45%|####4     | 59.2M/132M [05:12<00:40, 1.80MB/s]\n",
      " 45%|####5     | 59.8M/132M [05:12<00:40, 1.76MB/s]\n",
      " 46%|####5     | 60.3M/132M [05:12<00:35, 1.99MB/s]\n",
      " 46%|####6     | 60.8M/132M [05:12<00:41, 1.70MB/s]\n",
      " 47%|####6     | 61.3M/132M [05:13<00:35, 1.99MB/s]\n",
      " 47%|####6     | 61.9M/132M [05:13<00:35, 1.99MB/s]\n",
      " 47%|####7     | 62.4M/132M [05:13<00:36, 1.88MB/s]\n",
      " 48%|####7     | 62.9M/132M [05:13<00:36, 1.89MB/s]\n",
      " 48%|####8     | 63.4M/132M [05:14<00:32, 2.10MB/s]\n",
      " 49%|####8     | 64.0M/132M [05:14<00:32, 2.09MB/s]\n",
      " 49%|####8     | 64.5M/132M [05:14<00:31, 2.12MB/s]\n",
      " 49%|####9     | 65.0M/132M [05:14<00:31, 2.11MB/s]\n",
      " 50%|####9     | 65.5M/132M [05:15<00:35, 1.87MB/s]\n",
      " 50%|#####     | 66.1M/132M [05:15<00:33, 1.94MB/s]\n",
      " 51%|#####     | 66.6M/132M [05:15<00:32, 2.00MB/s]\n",
      " 51%|#####     | 67.1M/132M [05:15<00:31, 2.05MB/s]\n",
      " 51%|#####1    | 67.6M/132M [05:16<00:35, 1.81MB/s]\n",
      " 52%|#####1    | 68.2M/132M [05:16<00:31, 2.03MB/s]\n",
      " 52%|#####2    | 68.7M/132M [05:16<00:31, 2.00MB/s]\n",
      " 53%|#####2    | 69.2M/132M [05:17<00:30, 2.02MB/s]\n",
      " 53%|#####2    | 69.7M/132M [05:17<00:32, 1.88MB/s]\n",
      " 53%|#####3    | 70.3M/132M [05:17<00:33, 1.82MB/s]\n",
      " 54%|#####3    | 70.8M/132M [05:17<00:30, 2.01MB/s]\n",
      " 54%|#####4    | 71.3M/132M [05:18<00:30, 1.98MB/s]\n",
      " 55%|#####4    | 71.8M/132M [05:18<00:29, 2.05MB/s]\n",
      " 55%|#####4    | 72.4M/132M [05:18<00:30, 1.95MB/s]\n",
      " 55%|#####5    | 72.9M/132M [05:18<00:28, 2.05MB/s]\n",
      " 56%|#####5    | 73.4M/132M [05:19<00:27, 2.15MB/s]\n",
      " 56%|#####6    | 73.9M/132M [05:19<00:32, 1.76MB/s]\n",
      " 57%|#####6    | 74.4M/132M [05:19<00:30, 1.87MB/s]\n",
      " 57%|#####6    | 75.0M/132M [05:20<00:31, 1.79MB/s]\n",
      " 57%|#####7    | 75.5M/132M [05:20<00:32, 1.75MB/s]\n",
      " 58%|#####7    | 76.0M/132M [05:20<00:26, 2.11MB/s]\n",
      " 58%|#####8    | 76.5M/132M [05:20<00:28, 1.94MB/s]\n",
      " 59%|#####8    | 77.1M/132M [05:21<00:25, 2.13MB/s]\n",
      " 59%|#####8    | 77.6M/132M [05:21<00:23, 2.33MB/s]\n",
      " 59%|#####9    | 78.1M/132M [05:21<00:20, 2.56MB/s]\n",
      " 60%|#####9    | 78.6M/132M [05:21<00:19, 2.67MB/s]\n",
      " 60%|######    | 79.2M/132M [05:21<00:18, 2.78MB/s]\n",
      " 60%|######    | 79.7M/132M [05:21<00:18, 2.85MB/s]\n",
      " 61%|######    | 80.2M/132M [05:22<00:17, 2.96MB/s]\n",
      " 61%|######1   | 80.7M/132M [05:22<00:17, 2.87MB/s]\n",
      " 62%|######1   | 81.3M/132M [05:22<00:17, 2.87MB/s]\n",
      " 62%|######2   | 81.8M/132M [05:22<00:19, 2.61MB/s]\n",
      " 62%|######2   | 82.3M/132M [05:22<00:17, 2.76MB/s]\n",
      " 63%|######2   | 82.8M/132M [05:23<00:18, 2.59MB/s]\n",
      " 63%|######3   | 83.4M/132M [05:23<00:19, 2.52MB/s]\n",
      " 64%|######3   | 83.9M/132M [05:23<00:19, 2.41MB/s]\n",
      " 64%|######4   | 84.4M/132M [05:23<00:19, 2.40MB/s]\n",
      " 64%|######4   | 84.9M/132M [05:24<00:20, 2.25MB/s]\n",
      " 65%|######4   | 85.5M/132M [05:24<00:18, 2.45MB/s]\n",
      " 65%|######5   | 86.0M/132M [05:24<00:18, 2.49MB/s]\n",
      " 66%|######5   | 86.5M/132M [05:24<00:18, 2.44MB/s]\n",
      " 66%|######6   | 87.0M/132M [05:24<00:18, 2.46MB/s]\n",
      " 66%|######6   | 87.6M/132M [05:25<00:17, 2.51MB/s]\n",
      " 67%|######6   | 88.1M/132M [05:25<00:17, 2.45MB/s]\n",
      " 67%|######7   | 88.6M/132M [05:25<00:17, 2.45MB/s]\n",
      " 68%|######7   | 89.1M/132M [05:25<00:17, 2.48MB/s]\n",
      " 68%|######8   | 89.7M/132M [05:25<00:17, 2.36MB/s]\n",
      " 68%|######8   | 90.2M/132M [05:26<00:19, 2.12MB/s]\n",
      " 69%|######8   | 90.7M/132M [05:26<00:18, 2.17MB/s]\n",
      " 69%|######9   | 91.2M/132M [05:26<00:18, 2.22MB/s]\n",
      " 70%|######9   | 91.8M/132M [05:26<00:17, 2.29MB/s]\n",
      " 70%|#######   | 92.3M/132M [05:27<00:16, 2.34MB/s]\n",
      " 70%|#######   | 92.8M/132M [05:27<00:16, 2.41MB/s]\n",
      " 71%|#######   | 93.3M/132M [05:27<00:15, 2.41MB/s]\n",
      " 71%|#######1  | 93.8M/132M [05:27<00:16, 2.29MB/s]\n",
      " 72%|#######1  | 94.4M/132M [05:28<00:16, 2.30MB/s]\n",
      " 72%|#######2  | 94.9M/132M [05:28<00:16, 2.23MB/s]\n",
      " 72%|#######2  | 95.4M/132M [05:28<00:16, 2.20MB/s]\n",
      " 73%|#######2  | 95.9M/132M [05:28<00:15, 2.32MB/s]\n",
      " 73%|#######3  | 96.5M/132M [05:28<00:15, 2.27MB/s]\n",
      " 74%|#######3  | 97.0M/132M [05:29<00:15, 2.17MB/s]\n",
      " 74%|#######4  | 97.5M/132M [05:29<00:15, 2.16MB/s]\n",
      " 74%|#######4  | 98.0M/132M [05:29<00:15, 2.13MB/s]\n",
      " 75%|#######4  | 98.6M/132M [05:29<00:15, 2.13MB/s]\n",
      " 75%|#######5  | 99.1M/132M [05:30<00:14, 2.24MB/s]\n",
      " 76%|#######5  | 99.6M/132M [05:30<00:15, 2.08MB/s]\n",
      " 76%|#######6  | 100M/132M [05:30<00:15, 2.11MB/s] \n",
      " 76%|#######6  | 101M/132M [05:30<00:15, 2.06MB/s]\n",
      " 77%|#######6  | 101M/132M [05:31<00:15, 1.93MB/s]\n",
      " 77%|#######7  | 102M/132M [05:31<00:17, 1.69MB/s]\n",
      " 78%|#######7  | 102M/132M [05:31<00:17, 1.72MB/s]\n",
      " 78%|#######8  | 103M/132M [05:32<00:15, 1.89MB/s]\n",
      " 78%|#######8  | 103M/132M [05:32<00:13, 2.08MB/s]\n",
      " 79%|#######8  | 104M/132M [05:32<00:12, 2.25MB/s]\n",
      " 79%|#######9  | 104M/132M [05:32<00:12, 2.25MB/s]\n",
      " 80%|#######9  | 105M/132M [05:33<00:11, 2.33MB/s]\n",
      " 80%|#######9  | 105M/132M [05:33<00:11, 2.39MB/s]\n",
      " 80%|########  | 106M/132M [05:33<00:10, 2.41MB/s]\n",
      " 81%|########  | 106M/132M [05:33<00:10, 2.43MB/s]\n",
      " 81%|########1 | 107M/132M [05:33<00:10, 2.48MB/s]\n",
      " 82%|########1 | 107M/132M [05:34<00:09, 2.44MB/s]\n",
      " 82%|########1 | 108M/132M [05:34<00:09, 2.62MB/s]\n",
      " 82%|########2 | 109M/132M [05:34<00:08, 2.63MB/s]\n",
      " 83%|########2 | 109M/132M [05:34<00:08, 2.52MB/s]\n",
      " 83%|########3 | 110M/132M [05:34<00:09, 2.32MB/s]\n",
      " 84%|########3 | 110M/132M [05:35<00:09, 2.39MB/s]\n",
      " 84%|########3 | 111M/132M [05:35<00:08, 2.48MB/s]\n",
      " 84%|########4 | 111M/132M [05:35<00:08, 2.40MB/s]\n",
      " 85%|########4 | 112M/132M [05:35<00:09, 2.11MB/s]\n",
      " 85%|########5 | 112M/132M [05:36<00:09, 1.97MB/s]\n",
      " 86%|########5 | 113M/132M [05:36<00:09, 2.01MB/s]\n",
      " 86%|########5 | 113M/132M [05:36<00:09, 1.97MB/s]\n",
      " 86%|########6 | 114M/132M [05:37<00:09, 1.81MB/s]\n",
      " 87%|########6 | 114M/132M [05:37<00:09, 1.86MB/s]\n",
      " 87%|########7 | 115M/132M [05:37<00:08, 2.07MB/s]\n",
      " 88%|########7 | 115M/132M [05:37<00:07, 2.23MB/s]\n",
      " 88%|########7 | 116M/132M [05:37<00:07, 2.18MB/s]\n",
      " 88%|########8 | 116M/132M [05:38<00:06, 2.27MB/s]\n",
      " 89%|########8 | 117M/132M [05:38<00:06, 2.36MB/s]\n",
      " 89%|########9 | 117M/132M [05:38<00:06, 2.28MB/s]\n",
      " 90%|########9 | 118M/132M [05:38<00:05, 2.33MB/s]\n",
      " 90%|########9 | 118M/132M [05:39<00:05, 2.26MB/s]\n",
      " 90%|######### | 119M/132M [05:39<00:05, 2.22MB/s]\n",
      " 91%|######### | 120M/132M [05:39<00:05, 2.07MB/s]\n",
      " 91%|#########1| 120M/132M [05:39<00:06, 1.84MB/s]\n",
      " 92%|#########1| 121M/132M [05:40<00:06, 1.78MB/s]\n",
      " 92%|#########1| 121M/132M [05:40<00:06, 1.73MB/s]\n",
      " 92%|#########2| 122M/132M [05:40<00:05, 1.71MB/s]\n",
      " 93%|#########2| 122M/132M [05:41<00:06, 1.59MB/s]\n",
      " 93%|#########3| 123M/132M [05:41<00:05, 1.63MB/s]\n",
      " 94%|#########3| 123M/132M [05:42<00:06, 1.28MB/s]\n",
      " 94%|#########3| 124M/132M [05:43<00:08, 967kB/s] \n",
      " 94%|#########4| 124M/132M [05:43<00:07, 1.07MB/s]\n",
      " 95%|#########4| 125M/132M [05:43<00:05, 1.22MB/s]\n",
      " 95%|#########5| 125M/132M [05:44<00:04, 1.36MB/s]\n",
      " 96%|#########5| 126M/132M [05:44<00:03, 1.53MB/s]\n",
      " 96%|#########5| 126M/132M [05:44<00:03, 1.74MB/s]\n",
      " 96%|#########6| 127M/132M [05:44<00:02, 1.70MB/s]\n",
      " 97%|#########6| 127M/132M [05:44<00:02, 1.90MB/s]\n",
      " 97%|#########7| 128M/132M [05:45<00:01, 1.95MB/s]\n",
      " 98%|#########7| 128M/132M [05:45<00:01, 2.12MB/s]\n",
      " 98%|#########7| 129M/132M [05:45<00:01, 1.90MB/s]\n",
      " 98%|#########8| 129M/132M [05:46<00:01, 1.96MB/s]\n",
      " 99%|#########8| 130M/132M [05:46<00:00, 1.93MB/s]\n",
      " 99%|#########9| 131M/132M [05:46<00:00, 2.08MB/s]\n",
      " 99%|#########9| 131M/132M [05:46<00:00, 1.85MB/s]\n",
      "100%|#########9| 132M/132M [05:47<00:00, 1.94MB/s]\n",
      "100%|##########| 132M/132M [05:47<00:00, 379kB/s] \n"
     ]
    },
    {
     "name": "stdout",
     "output_type": "stream",
     "text": [
      "-1.14-windows.xml\n",
      "101_ObjectCategories\n",
      "1_lab1.ipynb\n",
      "3D Objects\n",
      "Ambiente de ImpressÃ£o\n",
      "Ambiente de Rede\n",
      "AppData\n",
      "Application Data\n",
      "CascadeProjects\n",
      "ConfiguraÃ§Ãµes Locais\n",
      "Contacts\n",
      "Cookies\n",
      "Dados de Aplicativos\n",
      "Desktop\n",
      "Documents\n",
      "Downloads\n",
      "Exercicios\n",
      "Favorites\n",
      "InstallAnywhere\n",
      "IntelGraphicsProfiles\n",
      "Links\n",
      "Menu Iniciar\n",
      "Meus Documentos\n",
      "Modelos\n",
      "Music\n",
      "NTUSER.DAT\n",
      "NTUSER.DAT{1a566ac0-8f5d-11f0-8a47-005056c00008}.TM.blf\n",
      "NTUSER.DAT{1a566ac0-8f5d-11f0-8a47-005056c00008}.TMContainer00000000000000000001.regtrans-ms\n",
      "NTUSER.DAT{1a566ac0-8f5d-11f0-8a47-005056c00008}.TMContainer00000000000000000002.regtrans-ms\n",
      "OneDrive\n",
      "Oracle\n",
      "Pictures\n",
      "Postman\n",
      "Postman Agent\n",
      "Recent\n",
      "Saved Games\n",
      "Searches\n",
      "SendTo\n",
      "Sti_Trace.log\n",
      "Untitled.ipynb\n",
      "Videos\n",
      "ai_completion\n",
      "anaconda_projects\n",
      "ansel\n",
      "cachedir_joblib\n",
      "chroma.log\n",
      "delete\n",
      "demo_find_face.py\n",
      "demo_find_green_blob.py\n",
      "dwhelper\n",
      "helloworld_1.py\n",
      "ipython_hist.sqlite\n",
      "json\n",
      "maxima\n",
      "migrations_202504181229.txt\n",
      "my_chroma_data\n",
      "ntuser.dat.LOG1\n",
      "ntuser.dat.LOG2\n",
      "ntuser.ini\n",
      "requirements.txt\n",
      "scoop\n",
      "source\n",
      "start\n",
      "teste.mp4\n",
      "teste2.mp4\n",
      "transfer_learning.ipynb\n"
     ]
    }
   ],
   "source": [
    "!pip -q install gdown\n",
    "\n",
    "# ID do arquivo no seu link: 1bCJaQE-rVER2JwbaYwwjzNO_AuXDikbQ\n",
    "!echo \"Downloading 101_Object_Categories for image notebooks\"\n",
    "!gdown --id 1bCJaQE-rVER2JwbaYwwjzNO_AuXDikbQ -O 101_ObjectCategories.tar.gz\n",
    "!tar -xzf 101_ObjectCategories.tar.gz\n",
    "!rm 101_ObjectCategories.tar.gz\n",
    "!ls\n"
   ]
  },
  {
   "cell_type": "code",
   "execution_count": 6,
   "metadata": {
    "colab": {
     "base_uri": "https://localhost:8080/"
    },
    "id": "XklKIrnaZb3f",
    "outputId": "ea677a2b-49ce-4d15-f197-b6bbd78b9420"
   },
   "outputs": [
    {
     "name": "stderr",
     "output_type": "stream",
     "text": [
      "\n",
      "[notice] A new release of pip is available: 24.3.1 -> 25.2\n",
      "[notice] To update, run: python.exe -m pip install --upgrade pip\n"
     ]
    },
    {
     "name": "stdout",
     "output_type": "stream",
     "text": [
      "\"Downloading 101_Object_Categories for image notebooks\"\n"
     ]
    },
    {
     "name": "stderr",
     "output_type": "stream",
     "text": [
      "C:\\Users\\poger\\.conda\\envs\\AI\\Lib\\site-packages\\gdown\\__main__.py:140: FutureWarning: Option `--id` was deprecated in version 4.3.1 and will be removed in 5.0. You don't need to pass it anymore to use a file ID.\n",
      "  warnings.warn(\n",
      "Downloading...\n",
      "From (original): https://drive.google.com/uc?id=1bCJaQE-rVER2JwbaYwwjzNO_AuXDikbQ\n",
      "From (redirected): https://drive.google.com/uc?id=1bCJaQE-rVER2JwbaYwwjzNO_AuXDikbQ&confirm=t&uuid=b3e1e03a-523b-49dd-b8f4-e1caa723bedc\n",
      "To: C:\\Users\\poger\\101_ObjectCategories.tar.gz\n",
      "\n",
      "  0%|          | 0.00/132M [00:00<?, ?B/s]\n",
      "  0%|          | 524k/132M [00:01<05:31, 396kB/s]\n",
      "  1%|          | 1.05M/132M [00:02<05:47, 376kB/s]\n",
      "  1%|1         | 1.57M/132M [00:03<05:10, 419kB/s]\n",
      "  2%|1         | 2.10M/132M [00:04<04:31, 477kB/s]\n",
      "  2%|1         | 2.62M/132M [00:05<04:24, 488kB/s]\n",
      "  2%|2         | 3.15M/132M [00:07<05:18, 404kB/s]\n",
      "  3%|2         | 3.67M/132M [00:07<04:09, 514kB/s]\n",
      "  3%|3         | 4.19M/132M [00:10<06:41, 317kB/s]\n",
      "  4%|3         | 4.72M/132M [00:14<09:18, 228kB/s]\n",
      "  4%|3         | 5.24M/132M [00:16<08:10, 258kB/s]\n",
      "  4%|4         | 5.77M/132M [00:19<09:13, 227kB/s]\n",
      "  5%|4         | 6.29M/132M [00:19<07:22, 283kB/s]\n",
      "  5%|5         | 6.82M/132M [00:20<05:44, 363kB/s]\n",
      "  6%|5         | 7.34M/132M [00:21<05:17, 392kB/s]\n",
      "  6%|5         | 7.86M/132M [00:22<05:16, 391kB/s]\n",
      "  6%|6         | 8.39M/132M [00:24<05:25, 379kB/s]\n",
      "  7%|6         | 8.91M/132M [00:28<09:06, 225kB/s]\n",
      "  7%|7         | 9.44M/132M [00:32<10:23, 196kB/s]\n",
      "  8%|7         | 9.96M/132M [00:33<08:49, 230kB/s]\n",
      "  8%|7         | 10.5M/132M [00:35<07:56, 254kB/s]\n",
      "  8%|8         | 11.0M/132M [00:36<07:38, 264kB/s]\n",
      "  9%|8         | 11.5M/132M [00:38<07:10, 279kB/s]\n",
      "  9%|9         | 12.1M/132M [00:39<06:03, 329kB/s]\n",
      " 10%|9         | 12.6M/132M [00:40<05:17, 375kB/s]\n",
      " 10%|9         | 13.1M/132M [00:42<05:38, 350kB/s]\n",
      " 10%|#         | 13.6M/132M [00:45<07:30, 262kB/s]\n",
      " 11%|#         | 14.2M/132M [00:48<08:44, 224kB/s]\n",
      " 11%|#1        | 14.7M/132M [00:52<10:55, 178kB/s]\n",
      " 12%|#1        | 15.2M/132M [00:54<08:53, 218kB/s]\n",
      " 12%|#1        | 15.7M/132M [00:56<09:12, 210kB/s]\n",
      " 12%|#2        | 16.3M/132M [01:00<10:30, 183kB/s]\n",
      " 13%|#2        | 16.8M/132M [01:01<08:12, 233kB/s]\n",
      " 13%|#3        | 17.3M/132M [01:06<11:00, 173kB/s]\n",
      " 14%|#3        | 17.8M/132M [01:16<18:46, 101kB/s]\n",
      " 14%|#3        | 18.4M/132M [01:20<18:01, 105kB/s]\n",
      " 14%|#4        | 18.9M/132M [01:23<15:19, 123kB/s]\n",
      " 15%|#4        | 19.4M/132M [01:31<19:43, 94.9kB/s]\n",
      " 15%|#5        | 19.9M/132M [01:39<21:33, 86.4kB/s]\n",
      " 16%|#5        | 20.4M/132M [01:44<21:03, 88.1kB/s]\n",
      " 16%|#5        | 21.0M/132M [01:47<17:24, 106kB/s] \n",
      " 16%|#6        | 21.5M/132M [01:48<13:38, 135kB/s]\n",
      " 17%|#6        | 22.0M/132M [01:52<13:22, 137kB/s]\n",
      " 17%|#7        | 22.5M/132M [02:00<17:02, 107kB/s]\n",
      " 18%|#7        | 23.1M/132M [02:04<16:51, 107kB/s]\n",
      " 18%|#7        | 23.6M/132M [02:10<17:57, 100kB/s]\n",
      " 18%|#8        | 24.1M/132M [02:25<27:23, 65.5kB/s]\n",
      " 19%|#8        | 24.6M/132M [02:37<31:12, 57.2kB/s]\n",
      " 19%|#9        | 25.2M/132M [02:42<26:33, 66.9kB/s]\n",
      " 20%|#9        | 25.7M/132M [02:52<28:49, 61.3kB/s]\n",
      " 20%|#9        | 26.2M/132M [03:01<28:55, 60.8kB/s]\n",
      " 20%|##        | 26.7M/132M [03:15<34:23, 50.9kB/s]\n",
      " 20%|##        | 26.7M/132M [03:30<34:23, 50.9kB/s]\n",
      " 21%|##        | 27.3M/132M [03:31<39:54, 43.6kB/s]\n",
      " 21%|##1       | 27.8M/132M [03:33<30:04, 57.6kB/s]\n",
      " 21%|##1       | 28.3M/132M [03:35<22:38, 76.1kB/s]\n",
      " 22%|##1       | 28.8M/132M [03:36<17:17, 99.2kB/s]\n",
      " 22%|##2       | 29.4M/132M [03:42<17:51, 95.5kB/s]\n",
      " 23%|##2       | 29.9M/132M [03:52<21:52, 77.6kB/s]\n",
      " 23%|##3       | 30.4M/132M [04:00<22:34, 74.8kB/s]\n",
      " 23%|##3       | 30.9M/132M [04:05<20:43, 81.1kB/s]\n",
      " 24%|##3       | 31.5M/132M [04:07<16:21, 102kB/s] \n",
      " 24%|##3       | 31.5M/132M [04:20<16:21, 102kB/s]\n",
      " 24%|##4       | 32.0M/132M [04:23<26:39, 62.4kB/s]\n",
      " 25%|##4       | 32.5M/132M [04:25<20:33, 80.5kB/s]\n",
      " 25%|##4       | 32.5M/132M [04:40<20:33, 80.5kB/s]\n",
      " 25%|##5       | 33.0M/132M [04:47<35:03, 46.9kB/s]\n",
      " 25%|##5       | 33.6M/132M [04:53<29:59, 54.6kB/s]\n",
      " 26%|##5       | 34.1M/132M [04:54<21:35, 75.4kB/s]\n",
      " 26%|##6       | 34.6M/132M [04:54<15:40, 103kB/s] \n",
      " 27%|##6       | 35.1M/132M [04:55<11:21, 142kB/s]\n",
      " 27%|##7       | 35.7M/132M [04:56<08:45, 183kB/s]\n",
      " 27%|##7       | 36.2M/132M [04:56<06:41, 238kB/s]\n",
      " 28%|##7       | 36.7M/132M [04:57<05:21, 296kB/s]\n",
      " 28%|##8       | 37.2M/132M [05:00<06:05, 258kB/s]\n",
      " 29%|##8       | 37.7M/132M [05:00<04:29, 348kB/s]\n",
      " 29%|##9       | 38.3M/132M [05:00<03:25, 455kB/s]\n",
      " 29%|##9       | 38.8M/132M [05:01<02:36, 595kB/s]\n",
      " 30%|##9       | 39.3M/132M [05:01<01:58, 779kB/s]\n",
      " 30%|###       | 39.8M/132M [05:01<01:32, 997kB/s]\n",
      " 31%|###       | 40.4M/132M [05:01<01:13, 1.24MB/s]\n",
      " 31%|###1      | 40.9M/132M [05:01<01:00, 1.51MB/s]\n",
      " 31%|###1      | 41.4M/132M [05:02<00:53, 1.68MB/s]\n",
      " 32%|###1      | 41.9M/132M [05:02<00:47, 1.88MB/s]\n",
      " 32%|###2      | 42.5M/132M [05:02<00:44, 2.01MB/s]\n",
      " 33%|###2      | 43.0M/132M [05:02<00:42, 2.10MB/s]\n",
      " 33%|###3      | 43.5M/132M [05:03<00:40, 2.20MB/s]\n",
      " 33%|###3      | 44.0M/132M [05:03<00:39, 2.22MB/s]\n",
      " 34%|###3      | 44.6M/132M [05:03<00:36, 2.39MB/s]\n",
      " 34%|###4      | 45.1M/132M [05:03<00:37, 2.29MB/s]\n",
      " 35%|###4      | 45.6M/132M [05:03<00:37, 2.31MB/s]\n",
      " 35%|###5      | 46.1M/132M [05:04<00:35, 2.44MB/s]\n",
      " 35%|###5      | 46.7M/132M [05:04<00:36, 2.32MB/s]\n",
      " 36%|###5      | 47.2M/132M [05:04<00:35, 2.38MB/s]\n",
      " 36%|###6      | 47.7M/132M [05:04<00:41, 2.01MB/s]\n",
      " 37%|###6      | 48.2M/132M [05:05<00:46, 1.80MB/s]\n",
      " 37%|###7      | 48.8M/132M [05:05<00:45, 1.81MB/s]\n",
      " 37%|###7      | 49.3M/132M [05:06<00:55, 1.49MB/s]\n",
      " 38%|###7      | 49.8M/132M [05:06<01:18, 1.05MB/s]\n",
      " 39%|###8      | 50.9M/132M [05:07<00:54, 1.49MB/s]\n",
      " 39%|###9      | 51.4M/132M [05:07<00:50, 1.58MB/s]\n",
      " 39%|###9      | 51.9M/132M [05:07<00:53, 1.50MB/s]\n",
      " 40%|###9      | 52.4M/132M [05:08<00:48, 1.65MB/s]\n",
      " 40%|####      | 53.0M/132M [05:08<00:48, 1.63MB/s]\n",
      " 41%|####      | 53.5M/132M [05:08<00:46, 1.67MB/s]\n",
      " 41%|####      | 54.0M/132M [05:09<00:48, 1.60MB/s]\n",
      " 41%|####1     | 54.5M/132M [05:09<00:45, 1.68MB/s]\n",
      " 42%|####1     | 55.1M/132M [05:09<00:42, 1.81MB/s]\n",
      " 42%|####2     | 55.6M/132M [05:09<00:41, 1.85MB/s]\n",
      " 43%|####2     | 56.1M/132M [05:10<00:42, 1.78MB/s]\n",
      " 43%|####2     | 56.6M/132M [05:10<00:43, 1.74MB/s]\n",
      " 43%|####3     | 57.1M/132M [05:10<00:40, 1.85MB/s]\n",
      " 44%|####3     | 57.7M/132M [05:11<00:42, 1.75MB/s]\n",
      " 44%|####4     | 58.2M/132M [05:11<00:42, 1.74MB/s]\n",
      " 45%|####4     | 58.7M/132M [05:11<00:39, 1.86MB/s]\n",
      " 45%|####4     | 59.2M/132M [05:12<00:40, 1.80MB/s]\n",
      " 45%|####5     | 59.8M/132M [05:12<00:40, 1.76MB/s]\n",
      " 46%|####5     | 60.3M/132M [05:12<00:35, 1.99MB/s]\n",
      " 46%|####6     | 60.8M/132M [05:12<00:41, 1.70MB/s]\n",
      " 47%|####6     | 61.3M/132M [05:13<00:35, 1.99MB/s]\n",
      " 47%|####6     | 61.9M/132M [05:13<00:35, 1.99MB/s]\n",
      " 47%|####7     | 62.4M/132M [05:13<00:36, 1.88MB/s]\n",
      " 48%|####7     | 62.9M/132M [05:13<00:36, 1.89MB/s]\n",
      " 48%|####8     | 63.4M/132M [05:14<00:32, 2.10MB/s]\n",
      " 49%|####8     | 64.0M/132M [05:14<00:32, 2.09MB/s]\n",
      " 49%|####8     | 64.5M/132M [05:14<00:31, 2.12MB/s]\n",
      " 49%|####9     | 65.0M/132M [05:14<00:31, 2.11MB/s]\n",
      " 50%|####9     | 65.5M/132M [05:15<00:35, 1.87MB/s]\n",
      " 50%|#####     | 66.1M/132M [05:15<00:33, 1.94MB/s]\n",
      " 51%|#####     | 66.6M/132M [05:15<00:32, 2.00MB/s]\n",
      " 51%|#####     | 67.1M/132M [05:15<00:31, 2.05MB/s]\n",
      " 51%|#####1    | 67.6M/132M [05:16<00:35, 1.81MB/s]\n",
      " 52%|#####1    | 68.2M/132M [05:16<00:31, 2.03MB/s]\n",
      " 52%|#####2    | 68.7M/132M [05:16<00:31, 2.00MB/s]\n",
      " 53%|#####2    | 69.2M/132M [05:17<00:30, 2.02MB/s]\n",
      " 53%|#####2    | 69.7M/132M [05:17<00:32, 1.88MB/s]\n",
      " 53%|#####3    | 70.3M/132M [05:17<00:33, 1.82MB/s]\n",
      " 54%|#####3    | 70.8M/132M [05:17<00:30, 2.01MB/s]\n",
      " 54%|#####4    | 71.3M/132M [05:18<00:30, 1.98MB/s]\n",
      " 55%|#####4    | 71.8M/132M [05:18<00:29, 2.05MB/s]\n",
      " 55%|#####4    | 72.4M/132M [05:18<00:30, 1.95MB/s]\n",
      " 55%|#####5    | 72.9M/132M [05:18<00:28, 2.05MB/s]\n",
      " 56%|#####5    | 73.4M/132M [05:19<00:27, 2.15MB/s]\n",
      " 56%|#####6    | 73.9M/132M [05:19<00:32, 1.76MB/s]\n",
      " 57%|#####6    | 74.4M/132M [05:19<00:30, 1.87MB/s]\n",
      " 57%|#####6    | 75.0M/132M [05:20<00:31, 1.79MB/s]\n",
      " 57%|#####7    | 75.5M/132M [05:20<00:32, 1.75MB/s]\n",
      " 58%|#####7    | 76.0M/132M [05:20<00:26, 2.11MB/s]\n",
      " 58%|#####8    | 76.5M/132M [05:20<00:28, 1.94MB/s]\n",
      " 59%|#####8    | 77.1M/132M [05:21<00:25, 2.13MB/s]\n",
      " 59%|#####8    | 77.6M/132M [05:21<00:23, 2.33MB/s]\n",
      " 59%|#####9    | 78.1M/132M [05:21<00:20, 2.56MB/s]\n",
      " 60%|#####9    | 78.6M/132M [05:21<00:19, 2.67MB/s]\n",
      " 60%|######    | 79.2M/132M [05:21<00:18, 2.78MB/s]\n",
      " 60%|######    | 79.7M/132M [05:21<00:18, 2.85MB/s]\n",
      " 61%|######    | 80.2M/132M [05:22<00:17, 2.96MB/s]\n",
      " 61%|######1   | 80.7M/132M [05:22<00:17, 2.87MB/s]\n",
      " 62%|######1   | 81.3M/132M [05:22<00:17, 2.87MB/s]\n",
      " 62%|######2   | 81.8M/132M [05:22<00:19, 2.61MB/s]\n",
      " 62%|######2   | 82.3M/132M [05:22<00:17, 2.76MB/s]\n",
      " 63%|######2   | 82.8M/132M [05:23<00:18, 2.59MB/s]\n",
      " 63%|######3   | 83.4M/132M [05:23<00:19, 2.52MB/s]\n",
      " 64%|######3   | 83.9M/132M [05:23<00:19, 2.41MB/s]\n",
      " 64%|######4   | 84.4M/132M [05:23<00:19, 2.40MB/s]\n",
      " 64%|######4   | 84.9M/132M [05:24<00:20, 2.25MB/s]\n",
      " 65%|######4   | 85.5M/132M [05:24<00:18, 2.45MB/s]\n",
      " 65%|######5   | 86.0M/132M [05:24<00:18, 2.49MB/s]\n",
      " 66%|######5   | 86.5M/132M [05:24<00:18, 2.44MB/s]\n",
      " 66%|######6   | 87.0M/132M [05:24<00:18, 2.46MB/s]\n",
      " 66%|######6   | 87.6M/132M [05:25<00:17, 2.51MB/s]\n",
      " 67%|######6   | 88.1M/132M [05:25<00:17, 2.45MB/s]\n",
      " 67%|######7   | 88.6M/132M [05:25<00:17, 2.45MB/s]\n",
      " 68%|######7   | 89.1M/132M [05:25<00:17, 2.48MB/s]\n",
      " 68%|######8   | 89.7M/132M [05:25<00:17, 2.36MB/s]\n",
      " 68%|######8   | 90.2M/132M [05:26<00:19, 2.12MB/s]\n",
      " 69%|######8   | 90.7M/132M [05:26<00:18, 2.17MB/s]\n",
      " 69%|######9   | 91.2M/132M [05:26<00:18, 2.22MB/s]\n",
      " 70%|######9   | 91.8M/132M [05:26<00:17, 2.29MB/s]\n",
      " 70%|#######   | 92.3M/132M [05:27<00:16, 2.34MB/s]\n",
      " 70%|#######   | 92.8M/132M [05:27<00:16, 2.41MB/s]\n",
      " 71%|#######   | 93.3M/132M [05:27<00:15, 2.41MB/s]\n",
      " 71%|#######1  | 93.8M/132M [05:27<00:16, 2.29MB/s]\n",
      " 72%|#######1  | 94.4M/132M [05:28<00:16, 2.30MB/s]\n",
      " 72%|#######2  | 94.9M/132M [05:28<00:16, 2.23MB/s]\n",
      " 72%|#######2  | 95.4M/132M [05:28<00:16, 2.20MB/s]\n",
      " 73%|#######2  | 95.9M/132M [05:28<00:15, 2.32MB/s]\n",
      " 73%|#######3  | 96.5M/132M [05:28<00:15, 2.27MB/s]\n",
      " 74%|#######3  | 97.0M/132M [05:29<00:15, 2.17MB/s]\n",
      " 74%|#######4  | 97.5M/132M [05:29<00:15, 2.16MB/s]\n",
      " 74%|#######4  | 98.0M/132M [05:29<00:15, 2.13MB/s]\n",
      " 75%|#######4  | 98.6M/132M [05:29<00:15, 2.13MB/s]\n",
      " 75%|#######5  | 99.1M/132M [05:30<00:14, 2.24MB/s]\n",
      " 76%|#######5  | 99.6M/132M [05:30<00:15, 2.08MB/s]\n",
      " 76%|#######6  | 100M/132M [05:30<00:15, 2.11MB/s] \n",
      " 76%|#######6  | 101M/132M [05:30<00:15, 2.06MB/s]\n",
      " 77%|#######6  | 101M/132M [05:31<00:15, 1.93MB/s]\n",
      " 77%|#######7  | 102M/132M [05:31<00:17, 1.69MB/s]\n",
      " 78%|#######7  | 102M/132M [05:31<00:17, 1.72MB/s]\n",
      " 78%|#######8  | 103M/132M [05:32<00:15, 1.89MB/s]\n",
      " 78%|#######8  | 103M/132M [05:32<00:13, 2.08MB/s]\n",
      " 79%|#######8  | 104M/132M [05:32<00:12, 2.25MB/s]\n",
      " 79%|#######9  | 104M/132M [05:32<00:12, 2.25MB/s]\n",
      " 80%|#######9  | 105M/132M [05:33<00:11, 2.33MB/s]\n",
      " 80%|#######9  | 105M/132M [05:33<00:11, 2.39MB/s]\n",
      " 80%|########  | 106M/132M [05:33<00:10, 2.41MB/s]\n",
      " 81%|########  | 106M/132M [05:33<00:10, 2.43MB/s]\n",
      " 81%|########1 | 107M/132M [05:33<00:10, 2.48MB/s]\n",
      " 82%|########1 | 107M/132M [05:34<00:09, 2.44MB/s]\n",
      " 82%|########1 | 108M/132M [05:34<00:09, 2.62MB/s]\n",
      " 82%|########2 | 109M/132M [05:34<00:08, 2.63MB/s]\n",
      " 83%|########2 | 109M/132M [05:34<00:08, 2.52MB/s]\n",
      " 83%|########3 | 110M/132M [05:34<00:09, 2.32MB/s]\n",
      " 84%|########3 | 110M/132M [05:35<00:09, 2.39MB/s]\n",
      " 84%|########3 | 111M/132M [05:35<00:08, 2.48MB/s]\n",
      " 84%|########4 | 111M/132M [05:35<00:08, 2.40MB/s]\n",
      " 85%|########4 | 112M/132M [05:35<00:09, 2.11MB/s]\n",
      " 85%|########5 | 112M/132M [05:36<00:09, 1.97MB/s]\n",
      " 86%|########5 | 113M/132M [05:36<00:09, 2.01MB/s]\n",
      " 86%|########5 | 113M/132M [05:36<00:09, 1.97MB/s]\n",
      " 86%|########6 | 114M/132M [05:37<00:09, 1.81MB/s]\n",
      " 87%|########6 | 114M/132M [05:37<00:09, 1.86MB/s]\n",
      " 87%|########7 | 115M/132M [05:37<00:08, 2.07MB/s]\n",
      " 88%|########7 | 115M/132M [05:37<00:07, 2.23MB/s]\n",
      " 88%|########7 | 116M/132M [05:37<00:07, 2.18MB/s]\n",
      " 88%|########8 | 116M/132M [05:38<00:06, 2.27MB/s]\n",
      " 89%|########8 | 117M/132M [05:38<00:06, 2.36MB/s]\n",
      " 89%|########9 | 117M/132M [05:38<00:06, 2.28MB/s]\n",
      " 90%|########9 | 118M/132M [05:38<00:05, 2.33MB/s]\n",
      " 90%|########9 | 118M/132M [05:39<00:05, 2.26MB/s]\n",
      " 90%|######### | 119M/132M [05:39<00:05, 2.22MB/s]\n",
      " 91%|######### | 120M/132M [05:39<00:05, 2.07MB/s]\n",
      " 91%|#########1| 120M/132M [05:39<00:06, 1.84MB/s]\n",
      " 92%|#########1| 121M/132M [05:40<00:06, 1.78MB/s]\n",
      " 92%|#########1| 121M/132M [05:40<00:06, 1.73MB/s]\n",
      " 92%|#########2| 122M/132M [05:40<00:05, 1.71MB/s]\n",
      " 93%|#########2| 122M/132M [05:41<00:06, 1.59MB/s]\n",
      " 93%|#########3| 123M/132M [05:41<00:05, 1.63MB/s]\n",
      " 94%|#########3| 123M/132M [05:42<00:06, 1.28MB/s]\n",
      " 94%|#########3| 124M/132M [05:43<00:08, 967kB/s] \n",
      " 94%|#########4| 124M/132M [05:43<00:07, 1.07MB/s]\n",
      " 95%|#########4| 125M/132M [05:43<00:05, 1.22MB/s]\n",
      " 95%|#########5| 125M/132M [05:44<00:04, 1.36MB/s]\n",
      " 96%|#########5| 126M/132M [05:44<00:03, 1.53MB/s]\n",
      " 96%|#########5| 126M/132M [05:44<00:03, 1.74MB/s]\n",
      " 96%|#########6| 127M/132M [05:44<00:02, 1.70MB/s]\n",
      " 97%|#########6| 127M/132M [05:44<00:02, 1.90MB/s]\n",
      " 97%|#########7| 128M/132M [05:45<00:01, 1.95MB/s]\n",
      " 98%|#########7| 128M/132M [05:45<00:01, 2.12MB/s]\n",
      " 98%|#########7| 129M/132M [05:45<00:01, 1.90MB/s]\n",
      " 98%|#########8| 129M/132M [05:46<00:01, 1.96MB/s]\n",
      " 99%|#########8| 130M/132M [05:46<00:00, 1.93MB/s]\n",
      " 99%|#########9| 131M/132M [05:46<00:00, 2.08MB/s]\n",
      " 99%|#########9| 131M/132M [05:46<00:00, 1.85MB/s]\n",
      "100%|#########9| 132M/132M [05:47<00:00, 1.94MB/s]\n",
      "100%|##########| 132M/132M [05:47<00:00, 379kB/s] \n"
     ]
    },
    {
     "name": "stdout",
     "output_type": "stream",
     "text": [
      "-1.14-windows.xml\n",
      "101_ObjectCategories\n",
      "1_lab1.ipynb\n",
      "3D Objects\n",
      "Ambiente de ImpressÃ£o\n",
      "Ambiente de Rede\n",
      "AppData\n",
      "Application Data\n",
      "CascadeProjects\n",
      "ConfiguraÃ§Ãµes Locais\n",
      "Contacts\n",
      "Cookies\n",
      "Dados de Aplicativos\n",
      "Desktop\n",
      "Documents\n",
      "Downloads\n",
      "Exercicios\n",
      "Favorites\n",
      "InstallAnywhere\n",
      "IntelGraphicsProfiles\n",
      "Links\n",
      "Menu Iniciar\n",
      "Meus Documentos\n",
      "Modelos\n",
      "Music\n",
      "NTUSER.DAT\n",
      "NTUSER.DAT{1a566ac0-8f5d-11f0-8a47-005056c00008}.TM.blf\n",
      "NTUSER.DAT{1a566ac0-8f5d-11f0-8a47-005056c00008}.TMContainer00000000000000000001.regtrans-ms\n",
      "NTUSER.DAT{1a566ac0-8f5d-11f0-8a47-005056c00008}.TMContainer00000000000000000002.regtrans-ms\n",
      "OneDrive\n",
      "Oracle\n",
      "Pictures\n",
      "Postman\n",
      "Postman Agent\n",
      "Recent\n",
      "Saved Games\n",
      "Searches\n",
      "SendTo\n",
      "Sti_Trace.log\n",
      "Untitled.ipynb\n",
      "Videos\n",
      "ai_completion\n",
      "anaconda_projects\n",
      "ansel\n",
      "cachedir_joblib\n",
      "chroma.log\n",
      "delete\n",
      "demo_find_face.py\n",
      "demo_find_green_blob.py\n",
      "dwhelper\n",
      "helloworld_1.py\n",
      "ipython_hist.sqlite\n",
      "json\n",
      "maxima\n",
      "migrations_202504181229.txt\n",
      "my_chroma_data\n",
      "ntuser.dat.LOG1\n",
      "ntuser.dat.LOG2\n",
      "ntuser.ini\n",
      "requirements.txt\n",
      "scoop\n",
      "source\n",
      "start\n",
      "teste.mp4\n",
      "teste2.mp4\n",
      "transfer_learning.ipynb\n"
     ]
    }
   ],
   "source": [
    "!pip -q install gdown\n",
    "\n",
    "# ID do arquivo no seu link: 1bCJaQE-rVER2JwbaYwwjzNO_AuXDikbQ\n",
    "!echo \"Downloading 101_Object_Categories for image notebooks\"\n",
    "!gdown --id 1bCJaQE-rVER2JwbaYwwjzNO_AuXDikbQ -O 101_ObjectCategories.tar.gz\n",
    "!tar -xzf 101_ObjectCategories.tar.gz\n",
    "!rm 101_ObjectCategories.tar.gz\n",
    "!ls\n"
   ]
  },
  {
   "cell_type": "markdown",
   "metadata": {
    "id": "vXjfVTVIYobM"
   },
   "source": [
    "Notice that whereas the original model began overfitting around epoch 16, the new model continued to slowly decrease its loss over time, and likely would have improved its accuracy slightly with more iterations. The new model made it to roughly 80% top-1 accuracy (in the validation set) and continued to improve slowly through 100 epochs.\n",
    "\n",
    "It's possibly we could have improved the original model with better regularization or more dropout, but we surely would not have made up the >30% improvement in accuracy.\n",
    "\n",
    "Again, we do a final validation on the test set."
   ]
  },
  {
   "cell_type": "code",
   "execution_count": 25,
   "metadata": {
    "id": "zMxC6Pd1YobN"
   },
   "outputs": [
    {
     "name": "stdout",
     "output_type": "stream",
     "text": [
      "Test loss: 1.5386172533035278\n",
      "Test accuracy: 0.6437768340110779\n"
     ]
    }
   ],
   "source": [
    "loss, accuracy = model_new.evaluate(x_test, y_test, verbose=0)\n",
    "\n",
    "print('Test loss:', loss)\n",
    "print('Test accuracy:', accuracy)"
   ]
  },
  {
   "cell_type": "markdown",
   "metadata": {
    "id": "4iUykardYobR"
   },
   "source": [
    "To predict a new image, simply run the following code to get the probabilities for each class."
   ]
  },
  {
   "cell_type": "code",
   "execution_count": 28,
   "metadata": {
    "id": "YpRcsywEYobT"
   },
   "outputs": [
    {
     "name": "stdout",
     "output_type": "stream",
     "text": [
      "\u001b[1m1/1\u001b[0m \u001b[32m━━━━━━━━━━━━━━━━━━━━\u001b[0m\u001b[37m\u001b[0m \u001b[1m1s\u001b[0m 1s/step   \n"
     ]
    }
   ],
   "source": [
    "img, x = get_image('101_ObjectCategories/airplanes/image_0003.jpg')\n",
    "probabilities = model_new.predict([x])\n"
   ]
  },
  {
   "cell_type": "markdown",
   "metadata": {
    "id": "f2ahKv8XYobY"
   },
   "source": [
    "### Improving the results\n",
    "\n",
    "78.2% top-1 accuracy on 97 classes, roughly evenly distributed, is a pretty good achievement. It is not quite as impressive as the original VGG16 which achieved 73% top-1 accuracy on 1000 classes. Nevertheless, it is much better than what we were able to achieve with our original network, and there is room for improvement. Some techniques which possibly could have improved our performance.\n",
    "\n",
    "- Using data augementation: augmentation refers to using various modifications of the original training data, in the form of distortions, rotations, rescalings, lighting changes, etc to increase the size of the training set and create more tolerance for such distortions.\n",
    "- Using a different optimizer, adding more regularization/dropout, and other hyperparameters.\n",
    "- Training for longer (of course)\n",
    "\n",
    "A more advanced example of transfer learning in Keras, involving augmentation for a small 2-class dataset, can be found in the [Keras blog](https://blog.keras.io/building-powerful-image-classification-models-using-very-little-data.html)."
   ]
  }
 ],
 "metadata": {
  "accelerator": "GPU",
  "colab": {
   "provenance": []
  },
  "kernelspec": {
   "display_name": "Python (AI)",
   "language": "python",
   "name": "ai"
  },
  "language_info": {
   "codemirror_mode": {
    "name": "ipython",
    "version": 3
   },
   "file_extension": ".py",
   "mimetype": "text/x-python",
   "name": "python",
   "nbconvert_exporter": "python",
   "pygments_lexer": "ipython3",
   "version": "3.12.3"
  }
 },
 "nbformat": 4,
 "nbformat_minor": 4
}
